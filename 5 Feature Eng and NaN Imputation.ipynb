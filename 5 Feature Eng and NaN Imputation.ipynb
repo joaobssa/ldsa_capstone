{
 "cells": [
  {
   "cell_type": "code",
   "execution_count": 1,
   "metadata": {},
   "outputs": [],
   "source": [
    "import aux_functions\n",
    "from app_functions import attempt_predict\n",
    "from transformers import TimeTransformer2, BoolTransformer, lat_lon_imputer\n",
    "\n",
    "import json\n",
    "import joblib\n",
    "import pickle\n",
    "import requests\n",
    "from time import sleep\n",
    "import random\n",
    "\n",
    "import pandas as pd\n",
    "pd.set_option('display.max_columns', 100)\n",
    "import os\n",
    "import matplotlib.pyplot as plt\n",
    "import matplotlib.gridspec as gridspec\n",
    "import seaborn as sns\n",
    "import numpy as np\n",
    "import datetime as dt\n",
    "\n",
    "from sklearn.model_selection import train_test_split\n",
    "from sklearn.pipeline import make_pipeline, Pipeline\n",
    "from sklearn.base import BaseEstimator, TransformerMixin\n",
    "from sklearn.model_selection import cross_val_score\n",
    "# from category_encoders import OneHotEncoder\n",
    "from sklearn.impute import SimpleImputer, KNNImputer\n",
    "from sklearn.preprocessing import StandardScaler, OneHotEncoder, LabelEncoder, RobustScaler, OrdinalEncoder\n",
    "from category_encoders.target_encoder import TargetEncoder\n",
    "from sklearn.compose import ColumnTransformer\n",
    "from sklearn.ensemble import RandomForestClassifier\n",
    "from sklearn.linear_model import LogisticRegression\n",
    "from sklearn.tree import DecisionTreeClassifier\n",
    "from sklearn.ensemble import GradientBoostingClassifier\n",
    "from sklearn.svm import SVC\n",
    "from sklearn.neighbors import KNeighborsClassifier\n",
    "from sklearn.naive_bayes import GaussianNB\n",
    "\n",
    "from sklearn.utils import resample\n",
    "from sklearn.metrics import precision_score, recall_score, f1_score,  accuracy_score, roc_auc_score, make_scorer, confusion_matrix, roc_curve\n",
    "\n",
    "# needed to use matplotlib inside jupyter notebook\n",
    "%matplotlib inline "
   ]
  },
  {
   "attachments": {},
   "cell_type": "markdown",
   "metadata": {},
   "source": [
    "# Get the data"
   ]
  },
  {
   "cell_type": "code",
   "execution_count": 2,
   "metadata": {},
   "outputs": [
    {
     "data": {
      "text/html": [
       "<div>\n",
       "<style scoped>\n",
       "    .dataframe tbody tr th:only-of-type {\n",
       "        vertical-align: middle;\n",
       "    }\n",
       "\n",
       "    .dataframe tbody tr th {\n",
       "        vertical-align: top;\n",
       "    }\n",
       "\n",
       "    .dataframe thead th {\n",
       "        text-align: right;\n",
       "    }\n",
       "</style>\n",
       "<table border=\"1\" class=\"dataframe\">\n",
       "  <thead>\n",
       "    <tr style=\"text-align: right;\">\n",
       "      <th></th>\n",
       "      <th>observation_id</th>\n",
       "      <th>Type</th>\n",
       "      <th>Date</th>\n",
       "      <th>Part of a policing operation</th>\n",
       "      <th>Latitude</th>\n",
       "      <th>Longitude</th>\n",
       "      <th>Gender</th>\n",
       "      <th>Age range</th>\n",
       "      <th>Officer-defined ethnicity</th>\n",
       "      <th>Legislation</th>\n",
       "      <th>Object of search</th>\n",
       "      <th>station</th>\n",
       "      <th>target</th>\n",
       "    </tr>\n",
       "  </thead>\n",
       "  <tbody>\n",
       "    <tr>\n",
       "      <th>537261</th>\n",
       "      <td>7178a97c-4228-4d89-bbb8-f957b7888823</td>\n",
       "      <td>Person search</td>\n",
       "      <td>2021-08-21T04:20:00+00:00</td>\n",
       "      <td>False</td>\n",
       "      <td>NaN</td>\n",
       "      <td>NaN</td>\n",
       "      <td>Male</td>\n",
       "      <td>25-34</td>\n",
       "      <td>White</td>\n",
       "      <td>Police and Criminal Evidence Act 1984 (section 1)</td>\n",
       "      <td>Offensive weapons</td>\n",
       "      <td>south-yorkshire</td>\n",
       "      <td>0</td>\n",
       "    </tr>\n",
       "    <tr>\n",
       "      <th>696508</th>\n",
       "      <td>2fa0c965-c196-4a2a-bfa3-645b359ca46f</td>\n",
       "      <td>Person search</td>\n",
       "      <td>2020-05-25T17:12:00+00:00</td>\n",
       "      <td>&lt;NA&gt;</td>\n",
       "      <td>50.811679</td>\n",
       "      <td>-1.083062</td>\n",
       "      <td>Male</td>\n",
       "      <td>10-17</td>\n",
       "      <td>Black</td>\n",
       "      <td>Police and Criminal Evidence Act 1984 (section 1)</td>\n",
       "      <td>Offensive weapons</td>\n",
       "      <td>hampshire</td>\n",
       "      <td>0</td>\n",
       "    </tr>\n",
       "    <tr>\n",
       "      <th>109550</th>\n",
       "      <td>4621404c-8b8d-4167-93ea-78a2d95d8195</td>\n",
       "      <td>Person search</td>\n",
       "      <td>2021-02-05T19:22:00+00:00</td>\n",
       "      <td>False</td>\n",
       "      <td>NaN</td>\n",
       "      <td>NaN</td>\n",
       "      <td>Male</td>\n",
       "      <td>18-24</td>\n",
       "      <td>Asian</td>\n",
       "      <td>Misuse of Drugs Act 1971 (section 23)</td>\n",
       "      <td>Controlled drugs</td>\n",
       "      <td>devon-and-cornwall</td>\n",
       "      <td>1</td>\n",
       "    </tr>\n",
       "    <tr>\n",
       "      <th>609848</th>\n",
       "      <td>2b2f6f9d-651e-4d3c-a3a7-a2bc91e721eb</td>\n",
       "      <td>Person search</td>\n",
       "      <td>2020-07-26T13:00:00+00:00</td>\n",
       "      <td>&lt;NA&gt;</td>\n",
       "      <td>53.182283</td>\n",
       "      <td>-3.423552</td>\n",
       "      <td>Male</td>\n",
       "      <td>25-34</td>\n",
       "      <td>White</td>\n",
       "      <td>Misuse of Drugs Act 1971 (section 23)</td>\n",
       "      <td>Controlled drugs</td>\n",
       "      <td>north-wales</td>\n",
       "      <td>0</td>\n",
       "    </tr>\n",
       "    <tr>\n",
       "      <th>247836</th>\n",
       "      <td>af52a1fc-66ab-4225-95b3-6f31d236f687</td>\n",
       "      <td>Person search</td>\n",
       "      <td>2020-09-10T23:00:00+00:00</td>\n",
       "      <td>False</td>\n",
       "      <td>50.875152</td>\n",
       "      <td>0.011468</td>\n",
       "      <td>Male</td>\n",
       "      <td>18-24</td>\n",
       "      <td>White</td>\n",
       "      <td>Misuse of Drugs Act 1971 (section 23)</td>\n",
       "      <td>Controlled drugs</td>\n",
       "      <td>sussex</td>\n",
       "      <td>0</td>\n",
       "    </tr>\n",
       "  </tbody>\n",
       "</table>\n",
       "</div>"
      ],
      "text/plain": [
       "                              observation_id           Type  \\\n",
       "537261  7178a97c-4228-4d89-bbb8-f957b7888823  Person search   \n",
       "696508  2fa0c965-c196-4a2a-bfa3-645b359ca46f  Person search   \n",
       "109550  4621404c-8b8d-4167-93ea-78a2d95d8195  Person search   \n",
       "609848  2b2f6f9d-651e-4d3c-a3a7-a2bc91e721eb  Person search   \n",
       "247836  af52a1fc-66ab-4225-95b3-6f31d236f687  Person search   \n",
       "\n",
       "                             Date  Part of a policing operation   Latitude  \\\n",
       "537261  2021-08-21T04:20:00+00:00                         False        NaN   \n",
       "696508  2020-05-25T17:12:00+00:00                          <NA>  50.811679   \n",
       "109550  2021-02-05T19:22:00+00:00                         False        NaN   \n",
       "609848  2020-07-26T13:00:00+00:00                          <NA>  53.182283   \n",
       "247836  2020-09-10T23:00:00+00:00                         False  50.875152   \n",
       "\n",
       "        Longitude Gender Age range Officer-defined ethnicity  \\\n",
       "537261        NaN   Male     25-34                     White   \n",
       "696508  -1.083062   Male     10-17                     Black   \n",
       "109550        NaN   Male     18-24                     Asian   \n",
       "609848  -3.423552   Male     25-34                     White   \n",
       "247836   0.011468   Male     18-24                     White   \n",
       "\n",
       "                                              Legislation   Object of search  \\\n",
       "537261  Police and Criminal Evidence Act 1984 (section 1)  Offensive weapons   \n",
       "696508  Police and Criminal Evidence Act 1984 (section 1)  Offensive weapons   \n",
       "109550              Misuse of Drugs Act 1971 (section 23)   Controlled drugs   \n",
       "609848              Misuse of Drugs Act 1971 (section 23)   Controlled drugs   \n",
       "247836              Misuse of Drugs Act 1971 (section 23)   Controlled drugs   \n",
       "\n",
       "                   station  target  \n",
       "537261     south-yorkshire       0  \n",
       "696508           hampshire       0  \n",
       "109550  devon-and-cornwall       1  \n",
       "609848         north-wales       0  \n",
       "247836              sussex       0  "
      ]
     },
     "execution_count": 2,
     "metadata": {},
     "output_type": "execute_result"
    }
   ],
   "source": [
    "df_ = pd.read_csv(\"data/train.csv\")\n",
    "\n",
    "drop_cols = ['Self-defined ethnicity', 'Outcome', 'Outcome linked to object of search', 'Removal of more than just outer clothing']\n",
    "\n",
    "\n",
    "df_clean = aux_functions.clean_data(df_, drop_cols)\n",
    "\n",
    "df_train, df_test = train_test_split(df_clean, test_size=0.3, random_state=42)\n",
    "\n",
    "df_test.head()"
   ]
  },
  {
   "attachments": {},
   "cell_type": "markdown",
   "metadata": {},
   "source": [
    "# Impute Latitude and Longitude Missing Values with the AVG values from the station\n",
    "\n",
    "Since we have missing values for Latitude and Longitude but no missing values in the station, I decided to use the avg Lat and Long from the station to fill the missing values.\n",
    "\n",
    "## Results\n",
    "\n",
    "Choosing this approach improved both accuracy and precision of the results"
   ]
  },
  {
   "cell_type": "code",
   "execution_count": 3,
   "metadata": {},
   "outputs": [
    {
     "name": "stdout",
     "output_type": "stream",
     "text": [
      "btp\n",
      "405\n",
      "12931\n",
      "cheshire\n",
      "326\n",
      "5744\n",
      "devon-and-cornwall\n",
      "2420\n",
      "7680\n",
      "sussex\n",
      "43\n",
      "8029\n",
      "city-of-london\n",
      "664\n",
      "3188\n",
      "thames-valley\n",
      "19834\n",
      "22078\n",
      "durham\n",
      "3\n",
      "2503\n",
      "west-yorkshire\n",
      "547\n",
      "17761\n",
      "avon-and-somerset\n",
      "1587\n",
      "9217\n",
      "hertfordshire\n",
      "2818\n",
      "9655\n",
      "essex\n",
      "136\n",
      "9101\n",
      "suffolk\n",
      "48\n",
      "4540\n",
      "south-yorkshire\n",
      "16996\n",
      "16996\n",
      "dorset\n",
      "79\n",
      "1988\n",
      "wiltshire\n",
      "9\n",
      "1972\n",
      "west-mercia\n",
      "1352\n",
      "6474\n",
      "norfolk\n",
      "37\n",
      "6135\n",
      "dyfed-powys\n",
      "1017\n",
      "3408\n",
      "merseyside\n",
      "1390\n",
      "26906\n",
      "warwickshire\n",
      "319\n",
      "2716\n",
      "kent\n",
      "272\n",
      "12527\n",
      "lincolnshire\n",
      "11\n",
      "3503\n",
      "north-wales\n",
      "261\n",
      "4900\n",
      "bedfordshire\n",
      "1538\n",
      "4146\n",
      "surrey\n",
      "19\n",
      "7517\n",
      "staffordshire\n",
      "1474\n",
      "6311\n",
      "northumbria\n",
      "0\n",
      "5675\n",
      "nottinghamshire\n",
      "5235\n",
      "5235\n",
      "hampshire\n",
      "1698\n",
      "14199\n",
      "north-yorkshire\n",
      "54\n",
      "2509\n",
      "gloucestershire\n",
      "3\n",
      "2459\n",
      "cleveland\n",
      "2328\n",
      "5504\n",
      "west-midlands\n",
      "0\n",
      "6545\n",
      "northamptonshire\n",
      "311\n",
      "3149\n",
      "cumbria\n",
      "131\n",
      "2100\n",
      "cambridgeshire\n",
      "1\n",
      "2368\n",
      "derbyshire\n",
      "36\n",
      "2450\n"
     ]
    }
   ],
   "source": [
    "df_impute = df_train[[\"Latitude\", \"Longitude\", \"station\"]]\n",
    "\n",
    "station_list = list(df_impute[\"station\"].unique())\n",
    "\n",
    "for station in station_list:\n",
    "    null_count = df_impute.loc[df_impute[\"station\"]==station, \"Latitude\"].isnull().sum()\n",
    "    total_count = len(df_impute.loc[df_impute[\"station\"]==station])\n",
    "    print(station)\n",
    "    print(null_count)\n",
    "    print(total_count)"
   ]
  },
  {
   "cell_type": "code",
   "execution_count": 4,
   "metadata": {},
   "outputs": [
    {
     "name": "stdout",
     "output_type": "stream",
     "text": [
      "btp: 0\n",
      "cheshire: 0\n",
      "devon-and-cornwall: 0\n",
      "sussex: 0\n",
      "city-of-london: 0\n",
      "thames-valley: 0\n",
      "durham: 0\n",
      "west-yorkshire: 0\n",
      "avon-and-somerset: 0\n",
      "hertfordshire: 0\n",
      "essex: 0\n",
      "suffolk: 0\n",
      "south-yorkshire: 0\n",
      "dorset: 0\n",
      "wiltshire: 0\n",
      "west-mercia: 0\n",
      "norfolk: 0\n",
      "dyfed-powys: 0\n",
      "merseyside: 0\n",
      "warwickshire: 0\n",
      "kent: 0\n",
      "lincolnshire: 0\n",
      "north-wales: 0\n",
      "bedfordshire: 0\n",
      "surrey: 0\n",
      "staffordshire: 0\n",
      "northumbria: 0\n",
      "nottinghamshire: 0\n",
      "hampshire: 0\n",
      "north-yorkshire: 0\n",
      "gloucestershire: 0\n",
      "cleveland: 0\n",
      "west-midlands: 0\n",
      "northamptonshire: 0\n",
      "cumbria: 0\n",
      "cambridgeshire: 0\n",
      "derbyshire: 0\n"
     ]
    }
   ],
   "source": [
    "df_impute = df_train[[\"Latitude\", \"Longitude\", \"station\"]].copy()\n",
    "\n",
    "station_list = list(df_impute[\"station\"].unique())\n",
    "\n",
    "station_dict = {}\n",
    "for station in station_list:\n",
    "    # df_impute.loc[df_impute[\"station\"]==station & df_impute[\"Latitude\"].isna(), \"Latitude\"] = df_impute.loc[df_impute[\"station\"]==station, \"Latitude\"].mean()\n",
    "\n",
    "    if (station != 'south-yorkshire') & (station != 'nottinghamshire') :\n",
    "        avg_lat = df_impute.loc[df_impute[\"station\"]==station, \"Latitude\"].mean()\n",
    "        avg_lon = df_impute.loc[df_impute[\"station\"]==station, \"Longitude\"].mean()\n",
    "    elif station == 'south-yorkshire':\n",
    "        avg_lat = df_impute.loc[df_impute[\"station\"]=='west-yorkshire', \"Latitude\"].mean()\n",
    "        avg_lon = df_impute.loc[df_impute[\"station\"]=='west-yorkshire', \"Longitude\"].mean()\n",
    "    elif station == 'nottinghamshire':\n",
    "        avg_lat = df_impute.loc[df_impute[\"station\"]=='derbyshire', \"Latitude\"].mean()\n",
    "        avg_lon = df_impute.loc[df_impute[\"station\"]=='derbyshire', \"Longitude\"].mean()\n",
    "\n",
    "    station_dict[station] = {'lat': avg_lat, 'lon': avg_lon}\n",
    "\n",
    "\n",
    "for station in station_dict:\n",
    "    # df_impute.loc[df_impute[\"station\"]==station, \"Latitude\"] = df_impute.loc[df_impute[\"station\"]==station, \"Latitude\"].fillna(value=avg_lat)\n",
    "    # df_impute.loc[df_impute[\"station\"]==station, \"Longitude\"] = df_impute.loc[df_impute[\"station\"]==station, \"Longitude\"].fillna(value=avg_lon)\n",
    "\n",
    "    df_impute.loc[df_impute[\"station\"]==station, \"Latitude\"] = df_impute.loc[df_impute[\"station\"]==station, \"Latitude\"].fillna(value=station_dict[station]['lat'])\n",
    "    df_impute.loc[df_impute[\"station\"]==station, \"Longitude\"] = df_impute.loc[df_impute[\"station\"]==station, \"Longitude\"].fillna(value=station_dict[station]['lon'])\n",
    "\n",
    "# for south-yorkshire use -> west-yorkshire\n",
    "# for nottinghamshire use -> derbyshire\n",
    "\n",
    "for station in station_list:\n",
    "    null_count = df_impute.loc[df_impute[\"station\"]==station, \"Latitude\"].isnull().sum()\n",
    "    print(str(station) + \": \" + str(null_count))"
   ]
  },
  {
   "attachments": {},
   "cell_type": "markdown",
   "metadata": {},
   "source": [
    "# One Hot Encoder\n",
    "## Establishing infrequent category for OHE\n",
    "\n",
    "To handle new categories, the OHE uses the infrequent category. This is based on the infrequent parameter in the transformer that establishes \"the minimum frequency below which a category will be considered infrequent\" <a href=\"https://scikit-learn.org/stable/modules/generated/sklearn.preprocessing.OneHotEncoder.html\">[1]</a>.\n",
    "\n",
    "By checking the value counts below, I chose to use 2000 as the minimum frequency.\n",
    "\n",
    "## Result\n",
    "\n",
    "Results with one hot encoder were worse than with Target Encoder, so I chose to keep that one"
   ]
  },
  {
   "cell_type": "code",
   "execution_count": 5,
   "metadata": {},
   "outputs": [
    {
     "data": {
      "text/plain": [
       "Person search                637921\n",
       "Person and Vehicle search    217570\n",
       "Vehicle search                 1119\n",
       "Name: Type, dtype: int64"
      ]
     },
     "execution_count": 5,
     "metadata": {},
     "output_type": "execute_result"
    }
   ],
   "source": [
    "df_[\"Type\"].value_counts()"
   ]
  },
  {
   "cell_type": "code",
   "execution_count": 6,
   "metadata": {},
   "outputs": [
    {
     "data": {
      "text/plain": [
       "Male      774566\n",
       "Female     81139\n",
       "Other        905\n",
       "Name: Gender, dtype: int64"
      ]
     },
     "execution_count": 6,
     "metadata": {},
     "output_type": "execute_result"
    }
   ],
   "source": [
    "df_[\"Gender\"].value_counts()"
   ]
  },
  {
   "cell_type": "code",
   "execution_count": 7,
   "metadata": {},
   "outputs": [
    {
     "data": {
      "text/plain": [
       "White    507627\n",
       "Black    197137\n",
       "Asian    119785\n",
       "Other     29035\n",
       "Mixed      3026\n",
       "Name: Officer-defined ethnicity, dtype: int64"
      ]
     },
     "execution_count": 7,
     "metadata": {},
     "output_type": "execute_result"
    }
   ],
   "source": [
    "df_[\"Officer-defined ethnicity\"].value_counts()"
   ]
  },
  {
   "attachments": {},
   "cell_type": "markdown",
   "metadata": {},
   "source": [
    "# Pipeline Definition"
   ]
  },
  {
   "cell_type": "code",
   "execution_count": 8,
   "metadata": {},
   "outputs": [],
   "source": [
    "def create_pipeline(df, model):\n",
    "\n",
    "    y = df[\"target\"].copy()\n",
    "    X = df.drop(columns=[\"target\"]).copy()\n",
    "\n",
    "    # Encode Target data\n",
    "    # lb = LabelEncoder()\n",
    "    # lb.fit(y)\n",
    "    # y_bin = pd.DataFrame(data= lb.transform(y), columns= ['readmitted'])\n",
    "\n",
    "    # categorical_cols = list(X.select_dtypes(include=['object']).columns)\n",
    "    # numerical_cols = list(X.select_dtypes(include=['number']).columns)\n",
    "    time_cols = ['Date']\n",
    "\n",
    "    ordered_col = ['Age range']\n",
    "\n",
    "    # categorical_ohe_cols = ['Type', 'Gender', 'Officer-defined ethnicity']\n",
    "\n",
    "    categorical_cols = ['Type', 'Gender', 'Officer-defined ethnicity', 'Object of search']\n",
    "    \n",
    "    bool_cols = ['Part of a policing operation']\n",
    "\n",
    "    numerical_cols = ['Latitude', 'Longitude', 'station'] # station is needed for NaN imputing\n",
    "\n",
    "    # Define timeseries pipeline\n",
    "    time_pipe = Pipeline([\n",
    "            ('time_transformer', TimeTransformer2())\n",
    "        ])\n",
    "    \n",
    "    # Define ordered pipeline\n",
    "    ordered_pipe = Pipeline([\n",
    "            ('imputer', SimpleImputer(strategy='most_frequent')),\n",
    "            ('encoder', OrdinalEncoder(categories=[['under 10', '10-17', '18-24', '25-34', 'over 34']] ,handle_unknown='use_encoded_value', unknown_value=-1))\n",
    "        ])\n",
    "    \n",
    "    # Define categorical pipeline\n",
    "    cat_pipe = Pipeline([\n",
    "            ('imputer', SimpleImputer(strategy='most_frequent')),\n",
    "            ('encoder', TargetEncoder(handle_unknown='value', min_samples_leaf=20 , smoothing=10))\n",
    "        ])\n",
    "    \n",
    "    # # Define categorical pipeline\n",
    "    # cat_ohe_pipe = Pipeline([\n",
    "    #         ('imputer', SimpleImputer(strategy='most_frequent')),\n",
    "    #         ('encoder', OneHotEncoder())\n",
    "    #     ])\n",
    "    \n",
    "    # Define boolean pipeline\n",
    "    bool_pipe = Pipeline([\n",
    "            ('bool_transformer', BoolTransformer())\n",
    "        ])\n",
    "\n",
    "    # Define numerical pipeline\n",
    "    numeric_pipe = Pipeline([\n",
    "            ('imputer', lat_lon_imputer()),\n",
    "            ('scaler', RobustScaler())\n",
    "        ])\n",
    "\n",
    "    \n",
    "    # Combine categorical and numerical pipelines\n",
    "    preprocessor = ColumnTransformer([\n",
    "        ('time_transformer', time_pipe, time_cols),\n",
    "        ('ord', ordered_pipe, ordered_col),\n",
    "        # ('cat_ohe', cat_ohe_pipe, categorical_ohe_cols),\n",
    "        ('cat', cat_pipe, categorical_cols),\n",
    "        ('bool', bool_pipe, bool_cols),\n",
    "        ('num', numeric_pipe, numerical_cols)],\n",
    "    remainder='drop')\n",
    "\n",
    "\n",
    "    # Fit a pipeline with transformers and an estimator to the training data\n",
    "    pipeline = Pipeline([\n",
    "            ('preprocessor', preprocessor),\n",
    "            ('model', model)\n",
    "        ])\n",
    " \n",
    "\n",
    "    pipeline.fit(X, np.ravel(y))\n",
    "    # pipeline.fit(X, np.ravel(y_bin))\n",
    "\n",
    "\n",
    "    return pipeline, X, y\n",
    "\n",
    "\n",
    "def see_cross_val(pipeline, X, y):\n",
    "\n",
    "    prec_scorer = make_scorer(precision_score)\n",
    "\n",
    "    prec_scores = cross_val_score(pipeline, X, np.ravel(y), cv=5, scoring=prec_scorer)\n",
    "    print(prec_scores)"
   ]
  },
  {
   "attachments": {},
   "cell_type": "markdown",
   "metadata": {},
   "source": [
    "# Train the Model"
   ]
  },
  {
   "cell_type": "code",
   "execution_count": 9,
   "metadata": {},
   "outputs": [
    {
     "name": "stdout",
     "output_type": "stream",
     "text": [
      "[0.24948665 0.26784726 0.2462022  0.23298178 0.26013309]\n"
     ]
    }
   ],
   "source": [
    "\n",
    "model = GaussianNB()\n",
    "\n",
    "pipeline, X_train, y_train = create_pipeline(df_train, model)\n",
    "\n",
    "\n",
    "see_cross_val(pipeline, X_train, y_train)"
   ]
  },
  {
   "attachments": {},
   "cell_type": "markdown",
   "metadata": {},
   "source": [
    "# Evaluate"
   ]
  },
  {
   "cell_type": "code",
   "execution_count": 10,
   "metadata": {},
   "outputs": [],
   "source": [
    "# use the pipeline and get predictions and probas\n",
    "\n",
    "# TEST SET\n",
    "\n",
    "y_test = df_test[\"target\"].copy()\n",
    "X_test = df_test.drop(columns=[\"target\"]).copy()\n",
    "\n",
    "# get the predictions\n",
    "y_pred_train = pipeline.predict(X_train)\n",
    "y_pred_test = pipeline.predict(X_test)\n",
    "# get the probas\n",
    "y_proba_test = pipeline.predict_proba(X_test)"
   ]
  },
  {
   "cell_type": "code",
   "execution_count": 11,
   "metadata": {},
   "outputs": [
    {
     "data": {
      "image/png": "[encoded data removed]",
      "text/plain": [
       "<Figure size 640x480 with 1 Axes>"
      ]
     },
     "metadata": {},
     "output_type": "display_data"
    },
    {
     "data": {
      "image/png": "[encoded data removed]",
      "text/plain": [
       "<Figure size 400x400 with 1 Axes>"
      ]
     },
     "metadata": {},
     "output_type": "display_data"
    }
   ],
   "source": [
    "# Train set metrics\n",
    "\n",
    "aux_functions.show_metrics(\"Train\" ,y_train, y_pred_train)"
   ]
  },
  {
   "cell_type": "code",
   "execution_count": 12,
   "metadata": {},
   "outputs": [
    {
     "data": {
      "image/png": "[encoded data removed]",
      "text/plain": [
       "<Figure size 640x480 with 1 Axes>"
      ]
     },
     "metadata": {},
     "output_type": "display_data"
    },
    {
     "data": {
      "image/png": "[encoded data removed]",
      "text/plain": [
       "<Figure size 400x400 with 1 Axes>"
      ]
     },
     "metadata": {},
     "output_type": "display_data"
    }
   ],
   "source": [
    "# Test set metrics\n",
    "\n",
    "aux_functions.show_metrics(\"Test\", y_test, y_pred_test)"
   ]
  },
  {
   "cell_type": "code",
   "execution_count": 13,
   "metadata": {},
   "outputs": [
    {
     "data": {
      "image/png": "[encoded data removed]",
      "text/plain": [
       "<Figure size 800x600 with 1 Axes>"
      ]
     },
     "metadata": {},
     "output_type": "display_data"
    }
   ],
   "source": [
    "# show roc_curve\n",
    "\n",
    "aux_functions.plot_roc_curve(y_test, y_proba_test)"
   ]
  },
  {
   "cell_type": "code",
   "execution_count": 14,
   "metadata": {},
   "outputs": [
    {
     "data": {
      "text/plain": [
       "(True, 0.2514191106906339)"
      ]
     },
     "execution_count": 14,
     "metadata": {},
     "output_type": "execute_result"
    }
   ],
   "source": [
    "# Check client success rate req\n",
    "\n",
    "aux_functions.verify_success_rate(y_test, y_pred_test, min_success_rate=0.1)"
   ]
  },
  {
   "cell_type": "code",
   "execution_count": 15,
   "metadata": {},
   "outputs": [
    {
     "name": "stdout",
     "output_type": "stream",
     "text": [
      "cumbriawas ignored\n",
      "dyfed-powyswas ignored\n",
      "lincolnshirewas ignored\n",
      "durhamwas ignored\n",
      "Race\n",
      "Requirement failed\n",
      "Global rates: {'White': 0.26750524109014673, 'Black': 0.24504504504504504, 'Asian': 0.19382504288164665, 'Mixed': 0.25, 'Other': 0.2465753424657534}\n",
      "Num problematic departments: 20\n",
      "Num good departments: 13\n",
      "avg diff: 0.2916499945231631\n"
     ]
    }
   ],
   "source": [
    "# Check Race Discrimination\n",
    "\n",
    "is_satisfied, problematic_departments, good_deparments, global_precisions = aux_functions.verify_no_discrimination(X_test, y_test, y_pred_test, sensitive_column='Officer-defined ethnicity', max_diff=0.05, min_samples=5)\n",
    "\n",
    "print(\"Race\")\n",
    "\n",
    "if not is_satisfied:\n",
    "    print(\"Requirement failed\")\n",
    "    print(\"Global rates: {}\".format(global_precisions))\n",
    "    print(\"Num problematic departments: {}\".format(len(problematic_departments)))\n",
    "    print(\"Num good departments: {}\".format(len(good_deparments)))\n",
    "    print(\"avg diff:\", np.mean([p[1] for p in problematic_departments]))\n",
    "else:\n",
    "    print(\"Requirement satisfied!\")"
   ]
  },
  {
   "cell_type": "code",
   "execution_count": 16,
   "metadata": {},
   "outputs": [
    {
     "name": "stdout",
     "output_type": "stream",
     "text": [
      "west-midlandswas ignored\n",
      "lincolnshirewas ignored\n",
      "Gender\n",
      "Requirement failed\n",
      "Global rates: {'Male': 0.2535722935335432, 'Female': 0.16494845360824742, 'Other': 0.0}\n",
      "Num problematic departments: 20\n",
      "Num good departments: 15\n",
      "avg diff: 0.23735689883783717\n"
     ]
    }
   ],
   "source": [
    "# Check Gender Discrimination\n",
    "\n",
    "is_satisfied, problematic_departments, good_deparments, global_precisions = aux_functions.verify_no_discrimination(X_test, y_test, y_pred_test, sensitive_column='Gender', max_diff=0.05, min_samples=5)\n",
    "\n",
    "print(\"Gender\")\n",
    "\n",
    "if not is_satisfied:\n",
    "    print(\"Requirement failed\")\n",
    "    print(\"Global rates: {}\".format(global_precisions))\n",
    "    print(\"Num problematic departments: {}\".format(len(problematic_departments)))\n",
    "    print(\"Num good departments: {}\".format(len(good_deparments)))\n",
    "    print(\"avg diff:\", np.mean([p[1] for p in problematic_departments]))\n",
    "else:\n",
    "    print(\"Requirement satisfied!\")"
   ]
  },
  {
   "cell_type": "code",
   "execution_count": 17,
   "metadata": {},
   "outputs": [
    {
     "name": "stdout",
     "output_type": "stream",
     "text": [
      "Age\n",
      "Requirement failed\n",
      "Global rates: {'25-34': 0.2644628099173554, '10-17': 0.2082514734774067, '18-24': 0.26123936816524906, 'over 34': 0.24013921113689096, 'under 10': 0.0}\n",
      "Num problematic departments: 20\n",
      "Num good departments: 17\n",
      "avg diff: 0.25970759687673145\n"
     ]
    }
   ],
   "source": [
    "# Check Age Discrimination\n",
    "\n",
    "is_satisfied, problematic_departments, good_deparments, global_precisions = aux_functions.verify_no_discrimination(X_test, y_test, y_pred_test, sensitive_column='Age range', max_diff=0.05, min_samples=5)\n",
    "\n",
    "print(\"Age\")\n",
    "\n",
    "if not is_satisfied:\n",
    "    print(\"Requirement failed\")\n",
    "    print(\"Global rates: {}\".format(global_precisions))\n",
    "    print(\"Num problematic departments: {}\".format(len(problematic_departments)))\n",
    "    print(\"Num good departments: {}\".format(len(good_deparments)))\n",
    "    print(\"avg diff:\", np.mean([p[1] for p in problematic_departments]))\n",
    "else:\n",
    "    print(\"Requirement satisfied!\")"
   ]
  }
 ],
 "metadata": {
  "kernelspec": {
   "display_name": "cap_prod",
   "language": "python",
   "name": "python3"
  },
  "language_info": {
   "codemirror_mode": {
    "name": "ipython",
    "version": 3
   },
   "file_extension": ".py",
   "mimetype": "text/x-python",
   "name": "python",
   "nbconvert_exporter": "python",
   "pygments_lexer": "ipython3",
   "version": "3.8.14"
  },
  "orig_nbformat": 4
 },
 "nbformat": 4,
 "nbformat_minor": 2
}
