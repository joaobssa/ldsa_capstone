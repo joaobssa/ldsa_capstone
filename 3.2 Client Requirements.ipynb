{
 "cells": [
  {
   "cell_type": "code",
   "execution_count": 57,
   "metadata": {},
   "outputs": [],
   "source": [
    "import aux_functions\n",
    "from app_functions import attempt_predict\n",
    "from transformers import TimeTransformer, BoolTransformer\n",
    "\n",
    "import json\n",
    "import joblib\n",
    "import pickle\n",
    "import requests\n",
    "from time import sleep\n",
    "import random\n",
    "\n",
    "import warnings\n",
    "warnings.filterwarnings(\"error\")\n",
    "\n",
    "import pandas as pd\n",
    "pd.set_option('display.max_columns', 100)\n",
    "import os\n",
    "import matplotlib.pyplot as plt\n",
    "import matplotlib.gridspec as gridspec\n",
    "import seaborn as sns\n",
    "import numpy as np\n",
    "import datetime as dt\n",
    "\n",
    "from sklearn.model_selection import train_test_split\n",
    "from sklearn.pipeline import make_pipeline, Pipeline\n",
    "from sklearn.base import BaseEstimator, TransformerMixin\n",
    "from sklearn.model_selection import cross_val_score\n",
    "# from category_encoders import OneHotEncoder\n",
    "from sklearn.impute import SimpleImputer\n",
    "from sklearn.preprocessing import StandardScaler, OneHotEncoder, LabelEncoder, RobustScaler, OrdinalEncoder\n",
    "from sklearn.compose import ColumnTransformer\n",
    "from sklearn.model_selection import cross_val_score\n",
    "from sklearn.ensemble import RandomForestClassifier\n",
    "from sklearn.linear_model import LogisticRegression\n",
    "from sklearn.tree import DecisionTreeClassifier\n",
    "from sklearn.ensemble import GradientBoostingClassifier\n",
    "from sklearn.svm import SVC\n",
    "from sklearn.neighbors import KNeighborsClassifier\n",
    "from sklearn.naive_bayes import GaussianNB\n",
    "\n",
    "from sklearn.utils import resample\n",
    "from sklearn.metrics import precision_score, recall_score, f1_score,  accuracy_score, roc_auc_score, make_scorer, confusion_matrix, roc_curve\n",
    "\n",
    "# needed to use matplotlib inside jupyter notebook\n",
    "%matplotlib inline \n"
   ]
  },
  {
   "attachments": {},
   "cell_type": "markdown",
   "metadata": {},
   "source": [
    "# Requirement Validation Functions"
   ]
  },
  {
   "cell_type": "code",
   "execution_count": 58,
   "metadata": {},
   "outputs": [],
   "source": [
    "def verify_success_rate(y_true, y_pred, min_success_rate=0.1):\n",
    "    \"\"\"\n",
    "    Verifies the success rate on a test set is above a provided minimum\n",
    "    \n",
    "    \n",
    "    \"\"\"\n",
    "    \n",
    "    precision = precision_score(y_true, y_pred, pos_label=True)\n",
    "    is_satisfied = (precision >= min_success_rate)\n",
    "    \n",
    "    return is_satisfied, precision"
   ]
  },
  {
   "cell_type": "code",
   "execution_count": 59,
   "metadata": {},
   "outputs": [],
   "source": [
    "def verify_no_discrimination(X_test, y_true, y_pred, sensitive_column='Officer-defined ethnicity', max_diff=0.05, min_samples=50):\n",
    "    \"\"\"\n",
    "    Verifies that no subdeparment has discrimination in between protected races\n",
    "    \"\"\"\n",
    "    \n",
    "    departments = X_test['station'].unique()\n",
    "    sensitive_classes = X_test[sensitive_column].unique()\n",
    "    \n",
    "    is_satisfied = True\n",
    "    problematic_departments = []\n",
    "    good_deparments = []\n",
    "    ignored_departments = []\n",
    "    for department in departments:\n",
    "        precisions = {}\n",
    "        for sensitive_class in sensitive_classes:\n",
    "            mask = (X_test[sensitive_column] == sensitive_class) & (X_test['station'] == department)\n",
    "            if np.sum(y_true[mask]) > min_samples:   # the department needs to have at least some positive labels so that precision makes sense\n",
    "                precisions[sensitive_class] = precision_score(y_true[mask], y_pred[mask], pos_label=1, zero_division=0) # defaults to 0 if the model predicted 0 success outcomes\n",
    "                \n",
    "        if len(precisions) > 1:    \n",
    "            diff = np.max(list(precisions.values())) - np.min(list(precisions.values()))\n",
    "\n",
    "            if diff > max_diff:\n",
    "                is_satisfied = False\n",
    "                problematic_departments.append((department, diff, precisions))\n",
    "            else:\n",
    "                good_deparments.append((department, diff, precisions))\n",
    "        else:\n",
    "            ignored_departments.append((department, None, []))\n",
    "    \n",
    "    global_precisions = {}\n",
    "    for sensitive_class in sensitive_classes:\n",
    "        mask = (X_test[sensitive_column] == sensitive_class)\n",
    "        if np.sum(y_true[mask]) > min_samples: # the department needs to have at least some positive labels so that precision makes sense\n",
    "            global_precisions[sensitive_class] = precision_score(y_true[mask], y_pred[mask], pos_label=1, zero_division=0) # defaults to 0 if the model predicted 0 success outcomes\n",
    "    \n",
    "    if len(precisions) > 1:    \n",
    "        diff = np.max(list(precisions.values())) - np.min(list(precisions.values()))\n",
    "        if diff > max_diff:\n",
    "            is_satisfied = False\n",
    "        \n",
    "    return is_satisfied, problematic_departments, good_deparments, global_precisions\n"
   ]
  },
  {
   "attachments": {},
   "cell_type": "markdown",
   "metadata": {},
   "source": [
    "# Get the data"
   ]
  },
  {
   "cell_type": "code",
   "execution_count": 60,
   "metadata": {},
   "outputs": [
    {
     "data": {
      "text/html": [
       "<div>\n",
       "<style scoped>\n",
       "    .dataframe tbody tr th:only-of-type {\n",
       "        vertical-align: middle;\n",
       "    }\n",
       "\n",
       "    .dataframe tbody tr th {\n",
       "        vertical-align: top;\n",
       "    }\n",
       "\n",
       "    .dataframe thead th {\n",
       "        text-align: right;\n",
       "    }\n",
       "</style>\n",
       "<table border=\"1\" class=\"dataframe\">\n",
       "  <thead>\n",
       "    <tr style=\"text-align: right;\">\n",
       "      <th></th>\n",
       "      <th>observation_id</th>\n",
       "      <th>Type</th>\n",
       "      <th>Date</th>\n",
       "      <th>Part of a policing operation</th>\n",
       "      <th>Latitude</th>\n",
       "      <th>Longitude</th>\n",
       "      <th>Gender</th>\n",
       "      <th>Age range</th>\n",
       "      <th>Officer-defined ethnicity</th>\n",
       "      <th>Legislation</th>\n",
       "      <th>Object of search</th>\n",
       "      <th>station</th>\n",
       "      <th>target</th>\n",
       "    </tr>\n",
       "  </thead>\n",
       "  <tbody>\n",
       "    <tr>\n",
       "      <th>66286</th>\n",
       "      <td>a43826b5-8688-4f5f-8d4e-79c42158f9df</td>\n",
       "      <td>Person search</td>\n",
       "      <td>2021-04-22T01:55:00+00:00</td>\n",
       "      <td>False</td>\n",
       "      <td>52.521888</td>\n",
       "      <td>-1.466936</td>\n",
       "      <td>Male</td>\n",
       "      <td>18-24</td>\n",
       "      <td>Black</td>\n",
       "      <td>Misuse of Drugs Act 1971 (section 23)</td>\n",
       "      <td>Controlled drugs</td>\n",
       "      <td>warwickshire</td>\n",
       "      <td>0</td>\n",
       "    </tr>\n",
       "    <tr>\n",
       "      <th>729029</th>\n",
       "      <td>b3fc1379-1f09-45ad-8f94-7d5168d5a378</td>\n",
       "      <td>Person search</td>\n",
       "      <td>2021-09-21T09:30:42+00:00</td>\n",
       "      <td>&lt;NA&gt;</td>\n",
       "      <td>53.377962</td>\n",
       "      <td>-2.948176</td>\n",
       "      <td>Male</td>\n",
       "      <td>18-24</td>\n",
       "      <td>White</td>\n",
       "      <td>Misuse of Drugs Act 1971 (section 23)</td>\n",
       "      <td>Controlled drugs</td>\n",
       "      <td>merseyside</td>\n",
       "      <td>0</td>\n",
       "    </tr>\n",
       "    <tr>\n",
       "      <th>775662</th>\n",
       "      <td>bcbd5fe7-8103-4125-8c8d-cfbadcf89544</td>\n",
       "      <td>Person and Vehicle search</td>\n",
       "      <td>2020-08-05T17:35:00+00:00</td>\n",
       "      <td>False</td>\n",
       "      <td>51.111656</td>\n",
       "      <td>0.514738</td>\n",
       "      <td>Male</td>\n",
       "      <td>10-17</td>\n",
       "      <td>White</td>\n",
       "      <td>Misuse of Drugs Act 1971 (section 23)</td>\n",
       "      <td>Psychoactive substances</td>\n",
       "      <td>kent</td>\n",
       "      <td>0</td>\n",
       "    </tr>\n",
       "    <tr>\n",
       "      <th>289711</th>\n",
       "      <td>9225a076-e0bb-47f9-9ca5-8de3ade85263</td>\n",
       "      <td>Person search</td>\n",
       "      <td>2020-06-08T11:00:00+00:00</td>\n",
       "      <td>&lt;NA&gt;</td>\n",
       "      <td>NaN</td>\n",
       "      <td>NaN</td>\n",
       "      <td>Male</td>\n",
       "      <td>25-34</td>\n",
       "      <td>Black</td>\n",
       "      <td>Misuse of Drugs Act 1971 (section 23)</td>\n",
       "      <td>Controlled drugs</td>\n",
       "      <td>btp</td>\n",
       "      <td>0</td>\n",
       "    </tr>\n",
       "    <tr>\n",
       "      <th>732874</th>\n",
       "      <td>f8d11725-a639-40af-8321-1cec72629d5c</td>\n",
       "      <td>Person search</td>\n",
       "      <td>2021-09-02T14:15:55+00:00</td>\n",
       "      <td>&lt;NA&gt;</td>\n",
       "      <td>54.574652</td>\n",
       "      <td>-1.238405</td>\n",
       "      <td>Male</td>\n",
       "      <td>10-17</td>\n",
       "      <td>White</td>\n",
       "      <td>Police and Criminal Evidence Act 1984 (section 1)</td>\n",
       "      <td>Offensive weapons</td>\n",
       "      <td>cleveland</td>\n",
       "      <td>0</td>\n",
       "    </tr>\n",
       "  </tbody>\n",
       "</table>\n",
       "</div>"
      ],
      "text/plain": [
       "                              observation_id                       Type  \\\n",
       "66286   a43826b5-8688-4f5f-8d4e-79c42158f9df              Person search   \n",
       "729029  b3fc1379-1f09-45ad-8f94-7d5168d5a378              Person search   \n",
       "775662  bcbd5fe7-8103-4125-8c8d-cfbadcf89544  Person and Vehicle search   \n",
       "289711  9225a076-e0bb-47f9-9ca5-8de3ade85263              Person search   \n",
       "732874  f8d11725-a639-40af-8321-1cec72629d5c              Person search   \n",
       "\n",
       "                             Date  Part of a policing operation   Latitude  \\\n",
       "66286   2021-04-22T01:55:00+00:00                         False  52.521888   \n",
       "729029  2021-09-21T09:30:42+00:00                          <NA>  53.377962   \n",
       "775662  2020-08-05T17:35:00+00:00                         False  51.111656   \n",
       "289711  2020-06-08T11:00:00+00:00                          <NA>        NaN   \n",
       "732874  2021-09-02T14:15:55+00:00                          <NA>  54.574652   \n",
       "\n",
       "        Longitude Gender Age range Officer-defined ethnicity  \\\n",
       "66286   -1.466936   Male     18-24                     Black   \n",
       "729029  -2.948176   Male     18-24                     White   \n",
       "775662   0.514738   Male     10-17                     White   \n",
       "289711        NaN   Male     25-34                     Black   \n",
       "732874  -1.238405   Male     10-17                     White   \n",
       "\n",
       "                                              Legislation  \\\n",
       "66286               Misuse of Drugs Act 1971 (section 23)   \n",
       "729029              Misuse of Drugs Act 1971 (section 23)   \n",
       "775662              Misuse of Drugs Act 1971 (section 23)   \n",
       "289711              Misuse of Drugs Act 1971 (section 23)   \n",
       "732874  Police and Criminal Evidence Act 1984 (section 1)   \n",
       "\n",
       "               Object of search       station  target  \n",
       "66286          Controlled drugs  warwickshire       0  \n",
       "729029         Controlled drugs    merseyside       0  \n",
       "775662  Psychoactive substances          kent       0  \n",
       "289711         Controlled drugs           btp       0  \n",
       "732874        Offensive weapons     cleveland       0  "
      ]
     },
     "execution_count": 60,
     "metadata": {},
     "output_type": "execute_result"
    }
   ],
   "source": [
    "df_ = pd.read_csv(\"data/train.csv\")\n",
    "\n",
    "drop_cols = ['Self-defined ethnicity', 'Outcome', 'Outcome linked to object of search', 'Removal of more than just outer clothing']\n",
    "\n",
    "\n",
    "df_clean = aux_functions.clean_data(df_, drop_cols)\n",
    "\n",
    "df_train, df_test = train_test_split(df_clean, test_size=0.3, random_state=42)\n",
    "\n",
    "df_test.head()"
   ]
  },
  {
   "attachments": {},
   "cell_type": "markdown",
   "metadata": {},
   "source": [
    "# Recover the Model"
   ]
  },
  {
   "cell_type": "code",
   "execution_count": 61,
   "metadata": {},
   "outputs": [],
   "source": [
    "with open(os.path.join(\"columns.json\"), 'r') as fh:\n",
    "    columns = json.load(fh)\n",
    "\n",
    "with open(os.path.join(\"dtypes.pickle\"), 'rb') as fh:\n",
    "    dtypes = pickle.load(fh)\n",
    "\n",
    "pipeline = joblib.load(os.path.join(\"pipeline.pickle\"))"
   ]
  },
  {
   "attachments": {},
   "cell_type": "markdown",
   "metadata": {},
   "source": [
    "# Predict"
   ]
  },
  {
   "cell_type": "code",
   "execution_count": 62,
   "metadata": {},
   "outputs": [],
   "source": [
    "# use the pipeline and get predictions and probas\n",
    "\n",
    "# TRAIN SET\n",
    "\n",
    "y_train = df_train[\"target\"].copy()\n",
    "X_train = df_train.drop(columns=[\"target\"]).copy()\n",
    "\n",
    "\n",
    "# TEST SET\n",
    "\n",
    "y_test = df_test[\"target\"].copy()\n",
    "X_test = df_test.drop(columns=[\"target\"]).copy()\n",
    "\n",
    "# get the predictions\n",
    "y_pred_train = pipeline.predict(X_train)\n",
    "y_pred_test = pipeline.predict(X_test)\n",
    "# get the probas\n",
    "y_proba_test = pipeline.predict_proba(X_test)"
   ]
  },
  {
   "cell_type": "code",
   "execution_count": 63,
   "metadata": {},
   "outputs": [
    {
     "data": {
      "text/plain": [
       "(True, 0.21932930639450116)"
      ]
     },
     "execution_count": 63,
     "metadata": {},
     "output_type": "execute_result"
    }
   ],
   "source": [
    "verify_success_rate(y_test, y_pred_test, min_success_rate=0.1)"
   ]
  },
  {
   "cell_type": "code",
   "execution_count": 64,
   "metadata": {},
   "outputs": [
    {
     "name": "stdout",
     "output_type": "stream",
     "text": [
      "Race\n",
      "Requirement failed\n",
      "Global rates: {'Black': 0.2693548387096774, 'White': 0.2160289243748117, 'Mixed': 0.23863636363636365, 'Asian': 0.19912152269399708, 'Other': 0.13186813186813187}\n",
      "Num problematic departments: 20\n",
      "Num good departments: 14\n",
      "avg diff: 0.335716954455294\n"
     ]
    }
   ],
   "source": [
    "is_satisfied, problematic_departments, good_deparments, global_precisions = verify_no_discrimination(X_test, y_test, y_pred_test, sensitive_column='Officer-defined ethnicity', max_diff=0.05, min_samples=5)\n",
    "\n",
    "print(\"Race\")\n",
    "\n",
    "if not is_satisfied:\n",
    "    print(\"Requirement failed\")\n",
    "    print(\"Global rates: {}\".format(global_precisions))\n",
    "    print(\"Num problematic departments: {}\".format(len(problematic_departments)))\n",
    "    print(\"Num good departments: {}\".format(len(good_deparments)))\n",
    "    print(\"avg diff:\", np.mean([p[1] for p in problematic_departments]))\n",
    "else:\n",
    "    print(\"Requirement satisfied!\")"
   ]
  },
  {
   "cell_type": "code",
   "execution_count": 65,
   "metadata": {},
   "outputs": [
    {
     "name": "stdout",
     "output_type": "stream",
     "text": [
      "Gender\n",
      "Requirement failed\n",
      "Global rates: {'Male': 0.2231404958677686, 'Female': 0.18284424379232506, 'Other': 0.0}\n",
      "Num problematic departments: 16\n",
      "Num good departments: 19\n",
      "avg diff: 0.15499673691575364\n"
     ]
    }
   ],
   "source": [
    "is_satisfied, problematic_departments, good_deparments, global_precisions = verify_no_discrimination(X_test, y_test, y_pred_test, sensitive_column='Gender', max_diff=0.05, min_samples=5)\n",
    "\n",
    "print(\"Gender\")\n",
    "\n",
    "if not is_satisfied:\n",
    "    print(\"Requirement failed\")\n",
    "    print(\"Global rates: {}\".format(global_precisions))\n",
    "    print(\"Num problematic departments: {}\".format(len(problematic_departments)))\n",
    "    print(\"Num good departments: {}\".format(len(good_deparments)))\n",
    "    print(\"avg diff:\", np.mean([p[1] for p in problematic_departments]))\n",
    "else:\n",
    "    print(\"Requirement satisfied!\")"
   ]
  },
  {
   "cell_type": "code",
   "execution_count": 66,
   "metadata": {},
   "outputs": [
    {
     "name": "stdout",
     "output_type": "stream",
     "text": [
      "Age\n",
      "Requirement failed\n",
      "Global rates: {'18-24': 0.23685698134539288, '10-17': 0.1574468085106383, '25-34': 0.241112828438949, 'over 34': 0.20525291828793774, 'under 10': 0.0}\n",
      "Num problematic departments: 21\n",
      "Num good departments: 15\n",
      "avg diff: 0.26143752221350935\n"
     ]
    }
   ],
   "source": [
    "is_satisfied, problematic_departments, good_deparments, global_precisions = verify_no_discrimination(X_test, y_test, y_pred_test, sensitive_column='Age range', max_diff=0.05, min_samples=5)\n",
    "\n",
    "print(\"Age\")\n",
    "\n",
    "if not is_satisfied:\n",
    "    print(\"Requirement failed\")\n",
    "    print(\"Global rates: {}\".format(global_precisions))\n",
    "    print(\"Num problematic departments: {}\".format(len(problematic_departments)))\n",
    "    print(\"Num good departments: {}\".format(len(good_deparments)))\n",
    "    print(\"avg diff:\", np.mean([p[1] for p in problematic_departments]))\n",
    "else:\n",
    "    print(\"Requirement satisfied!\")"
   ]
  }
 ],
 "metadata": {
  "kernelspec": {
   "display_name": "cap_prod",
   "language": "python",
   "name": "python3"
  },
  "language_info": {
   "codemirror_mode": {
    "name": "ipython",
    "version": 3
   },
   "file_extension": ".py",
   "mimetype": "text/x-python",
   "name": "python",
   "nbconvert_exporter": "python",
   "pygments_lexer": "ipython3",
   "version": "3.8.14"
  },
  "orig_nbformat": 4
 },
 "nbformat": 4,
 "nbformat_minor": 2
}
