{
 "cells": [
  {
   "attachments": {},
   "cell_type": "markdown",
   "metadata": {},
   "source": [
    "# Step 15: Create Model Files for Redeployment\n",
    "\n",
    "In this step of the project we will train the model on the whole dataset and create the pickle files that will be deployed on the API."
   ]
  },
  {
   "cell_type": "code",
   "execution_count": 5,
   "metadata": {},
   "outputs": [],
   "source": [
    "import aux_functions\n",
    "from app_functions import attempt_predict\n",
    "from transformers import TimeTransformer2, BoolTransformer, lat_lon_imputer, Group_Age_Range, Group_Ethnicity\n",
    "\n",
    "import json\n",
    "import joblib\n",
    "import pickle\n",
    "import requests\n",
    "from time import sleep\n",
    "import random\n",
    "\n",
    "import pandas as pd\n",
    "pd.set_option('display.max_columns', 100)\n",
    "import os\n",
    "import matplotlib.pyplot as plt\n",
    "import matplotlib.gridspec as gridspec\n",
    "import seaborn as sns\n",
    "import numpy as np\n",
    "import datetime as dt\n",
    "\n",
    "from sklearn.model_selection import train_test_split\n",
    "from sklearn.pipeline import make_pipeline, Pipeline\n",
    "from sklearn.base import BaseEstimator, TransformerMixin\n",
    "from sklearn.model_selection import cross_val_score\n",
    "# from category_encoders import OneHotEncoder\n",
    "from sklearn.impute import SimpleImputer, KNNImputer\n",
    "from sklearn.preprocessing import StandardScaler, MinMaxScaler, OneHotEncoder, LabelEncoder, RobustScaler, OrdinalEncoder\n",
    "from category_encoders.target_encoder import TargetEncoder\n",
    "from sklearn.compose import ColumnTransformer\n",
    "from sklearn.ensemble import RandomForestClassifier\n",
    "from sklearn.linear_model import LogisticRegression\n",
    "from sklearn.tree import DecisionTreeClassifier\n",
    "from sklearn.ensemble import GradientBoostingClassifier\n",
    "from sklearn.svm import SVC, LinearSVC\n",
    "from sklearn.neighbors import KNeighborsClassifier\n",
    "from sklearn.naive_bayes import GaussianNB\n",
    "\n",
    "from imblearn.over_sampling import RandomOverSampler, SMOTE\n",
    "from imblearn.under_sampling import RandomUnderSampler\n",
    "\n",
    "from sklearn.utils import resample\n",
    "from sklearn.metrics import precision_score, recall_score, f1_score,  accuracy_score, roc_auc_score, make_scorer, confusion_matrix, roc_curve, precision_recall_curve\n",
    "\n",
    "# needed to use matplotlib inside jupyter notebook\n",
    "%matplotlib inline "
   ]
  },
  {
   "attachments": {},
   "cell_type": "markdown",
   "metadata": {},
   "source": [
    "# Get the data"
   ]
  },
  {
   "cell_type": "code",
   "execution_count": 11,
   "metadata": {},
   "outputs": [
    {
     "data": {
      "text/plain": [
       "2021    185059\n",
       "2022      4000\n",
       "Name: year, dtype: int64"
      ]
     },
     "metadata": {},
     "output_type": "display_data"
    }
   ],
   "source": [
    "df_ = pd.read_csv(\"data/train.csv\")\n",
    "\n",
    "drop_cols = ['Self-defined ethnicity', 'Outcome', 'Outcome linked to object of search', 'Removal of more than just outer clothing']\n",
    "\n",
    "# statios that have low number of outcomes\n",
    "drop_stations = ['humberside', 'lancashire', 'metropolitan', 'west-midlands', 'leicestershire']\n",
    "\n",
    "df_clean = aux_functions.clean_data(df_, drop_cols, drop_stations)\n",
    "df_clean[\"is_new\"] = False\n",
    "\n",
    "df_new = pd.read_csv(\"data/requests1_final.csv\")\n",
    "\n",
    "df_new_clean = aux_functions.clean_new_data(df_new)\n",
    "df_new_clean[\"is_new\"] = True\n",
    "\n",
    "df_combined = pd.concat([df_clean,df_new_clean], axis=0)\n",
    "\n",
    "df_combined[\"year\"] = pd.to_datetime(df_combined[\"Date\"], infer_datetime_format=True, dayfirst=False).dt.year\n",
    "\n",
    "df_final = df_combined[df_combined[\"year\"] >= 2021]\n",
    "\n",
    "display(df_final[\"year\"].value_counts())\n",
    "\n",
    "df_train, df_test = train_test_split(df_final.drop(columns=[\"year\", \"is_new\"]), test_size=0.3, random_state=42)"
   ]
  },
  {
   "attachments": {},
   "cell_type": "markdown",
   "metadata": {},
   "source": [
    "# Pipeline Definition"
   ]
  },
  {
   "cell_type": "code",
   "execution_count": 12,
   "metadata": {},
   "outputs": [],
   "source": [
    "def create_pipeline(df, model):\n",
    "\n",
    "    y = df[\"target\"].copy()\n",
    "    X = df.drop(columns=[\"target\"]).copy()\n",
    "\n",
    "\n",
    "    time_cols = ['Date']\n",
    "\n",
    "    categorical_cols = ['Type', 'Object of search']\n",
    "    \n",
    "    bool_cols = ['Part of a policing operation']\n",
    "\n",
    "    numerical_cols = ['Latitude', 'Longitude', 'station'] # station is needed for NaN imputing\n",
    "\n",
    "    # Define timeseries pipeline\n",
    "    time_pipe = Pipeline([\n",
    "            ('time_transformer', TimeTransformer2()),\n",
    "            ('scaler', MinMaxScaler())\n",
    "        ])\n",
    "    \n",
    "    \n",
    "    # Define categorical pipeline\n",
    "    cat_pipe = Pipeline([\n",
    "            ('imputer', SimpleImputer(strategy='most_frequent')),\n",
    "            ('encoder', TargetEncoder(handle_unknown='value', min_samples_leaf=20 , smoothing=10))\n",
    "        ])\n",
    "    \n",
    "    # Define boolean pipeline\n",
    "    bool_pipe = Pipeline([\n",
    "            ('bool_transformer', BoolTransformer())\n",
    "        ])\n",
    "\n",
    "    # Define numerical pipeline\n",
    "    numeric_pipe = Pipeline([\n",
    "            ('imputer', lat_lon_imputer()),\n",
    "            ('scaler', MinMaxScaler()),\n",
    "            ('extra_imputer', SimpleImputer(strategy='mean')),    # in case station was not present in training set\n",
    "        ])\n",
    "\n",
    "    \n",
    "    # Combine categorical and numerical pipelines\n",
    "    preprocessor = ColumnTransformer([\n",
    "        ('time_transformer', time_pipe, time_cols),\n",
    "        ('cat', cat_pipe, categorical_cols),\n",
    "        ('bool', bool_pipe, bool_cols),\n",
    "        ('num', numeric_pipe, numerical_cols)\n",
    "        ],\n",
    "    remainder='drop')\n",
    "\n",
    "\n",
    "    # Fit a pipeline with transformers and an estimator to the training data\n",
    "    pipeline = Pipeline([\n",
    "            ('preprocessor', preprocessor),\n",
    "            ('model', model)\n",
    "        ])\n",
    "\n",
    "    rus = RandomUnderSampler(random_state=42)\n",
    "    X_resampled, y_resampled = rus.fit_resample(X, y)\n",
    "\n",
    "    pipeline.fit(X_resampled, np.ravel(y_resampled))\n",
    "    # pipeline.fit(X, np.ravel(y))\n",
    "\n",
    "\n",
    "    return pipeline, X_resampled, y_resampled\n",
    "    # return pipeline, X, y\n",
    "\n",
    "\n",
    "def see_cross_val(pipeline, X, y):\n",
    "\n",
    "    prec_scorer = make_scorer(precision_score)\n",
    "\n",
    "    prec_scores = cross_val_score(pipeline, X, np.ravel(y), cv=5, scoring=prec_scorer)\n",
    "    print(prec_scores)"
   ]
  },
  {
   "attachments": {},
   "cell_type": "markdown",
   "metadata": {},
   "source": [
    "# Train the Model with all the Data"
   ]
  },
  {
   "cell_type": "code",
   "execution_count": 13,
   "metadata": {},
   "outputs": [
    {
     "data": {
      "text/html": [
       "<div>\n",
       "<style scoped>\n",
       "    .dataframe tbody tr th:only-of-type {\n",
       "        vertical-align: middle;\n",
       "    }\n",
       "\n",
       "    .dataframe tbody tr th {\n",
       "        vertical-align: top;\n",
       "    }\n",
       "\n",
       "    .dataframe thead th {\n",
       "        text-align: right;\n",
       "    }\n",
       "</style>\n",
       "<table border=\"1\" class=\"dataframe\">\n",
       "  <thead>\n",
       "    <tr style=\"text-align: right;\">\n",
       "      <th></th>\n",
       "      <th>quarter</th>\n",
       "      <th>hour</th>\n",
       "      <th>day of the week</th>\n",
       "      <th>Type</th>\n",
       "      <th>Object of search</th>\n",
       "      <th>Part of a policing operation</th>\n",
       "      <th>Latitude</th>\n",
       "      <th>Longitude</th>\n",
       "    </tr>\n",
       "  </thead>\n",
       "  <tbody>\n",
       "    <tr>\n",
       "      <th>0</th>\n",
       "      <td>1.0</td>\n",
       "      <td>0.782609</td>\n",
       "      <td>0.666667</td>\n",
       "      <td>0.488212</td>\n",
       "      <td>0.552382</td>\n",
       "      <td>0.0</td>\n",
       "      <td>0.515787</td>\n",
       "      <td>0.519093</td>\n",
       "    </tr>\n",
       "    <tr>\n",
       "      <th>1</th>\n",
       "      <td>1.0</td>\n",
       "      <td>0.26087</td>\n",
       "      <td>0.666667</td>\n",
       "      <td>0.488212</td>\n",
       "      <td>0.552382</td>\n",
       "      <td>0.0</td>\n",
       "      <td>0.490178</td>\n",
       "      <td>0.51933</td>\n",
       "    </tr>\n",
       "    <tr>\n",
       "      <th>2</th>\n",
       "      <td>0.666667</td>\n",
       "      <td>0.73913</td>\n",
       "      <td>1.0</td>\n",
       "      <td>0.488212</td>\n",
       "      <td>0.506325</td>\n",
       "      <td>0.0</td>\n",
       "      <td>0.538316</td>\n",
       "      <td>0.664155</td>\n",
       "    </tr>\n",
       "    <tr>\n",
       "      <th>3</th>\n",
       "      <td>0.666667</td>\n",
       "      <td>0.347826</td>\n",
       "      <td>0.833333</td>\n",
       "      <td>0.488212</td>\n",
       "      <td>0.304678</td>\n",
       "      <td>0.0</td>\n",
       "      <td>0.223698</td>\n",
       "      <td>0.81245</td>\n",
       "    </tr>\n",
       "    <tr>\n",
       "      <th>4</th>\n",
       "      <td>0.333333</td>\n",
       "      <td>0.956522</td>\n",
       "      <td>0.666667</td>\n",
       "      <td>0.488212</td>\n",
       "      <td>0.552382</td>\n",
       "      <td>0.0</td>\n",
       "      <td>0.534688</td>\n",
       "      <td>0.653133</td>\n",
       "    </tr>\n",
       "    <tr>\n",
       "      <th>...</th>\n",
       "      <td>...</td>\n",
       "      <td>...</td>\n",
       "      <td>...</td>\n",
       "      <td>...</td>\n",
       "      <td>...</td>\n",
       "      <td>...</td>\n",
       "      <td>...</td>\n",
       "      <td>...</td>\n",
       "    </tr>\n",
       "    <tr>\n",
       "      <th>48155</th>\n",
       "      <td>0.0</td>\n",
       "      <td>1.0</td>\n",
       "      <td>0.0</td>\n",
       "      <td>0.488212</td>\n",
       "      <td>0.552382</td>\n",
       "      <td>0.0</td>\n",
       "      <td>0.484817</td>\n",
       "      <td>0.51823</td>\n",
       "    </tr>\n",
       "    <tr>\n",
       "      <th>48156</th>\n",
       "      <td>1.0</td>\n",
       "      <td>0.826087</td>\n",
       "      <td>0.5</td>\n",
       "      <td>0.537253</td>\n",
       "      <td>0.552382</td>\n",
       "      <td>1.0</td>\n",
       "      <td>0.433096</td>\n",
       "      <td>0.671368</td>\n",
       "    </tr>\n",
       "    <tr>\n",
       "      <th>48157</th>\n",
       "      <td>0.666667</td>\n",
       "      <td>0.652174</td>\n",
       "      <td>0.0</td>\n",
       "      <td>0.488212</td>\n",
       "      <td>0.552382</td>\n",
       "      <td>0.0</td>\n",
       "      <td>0.491603</td>\n",
       "      <td>0.51609</td>\n",
       "    </tr>\n",
       "    <tr>\n",
       "      <th>48158</th>\n",
       "      <td>0.666667</td>\n",
       "      <td>0.0</td>\n",
       "      <td>0.833333</td>\n",
       "      <td>0.488212</td>\n",
       "      <td>0.552382</td>\n",
       "      <td>0.0</td>\n",
       "      <td>0.271676</td>\n",
       "      <td>0.593182</td>\n",
       "    </tr>\n",
       "    <tr>\n",
       "      <th>48159</th>\n",
       "      <td>1.0</td>\n",
       "      <td>0.608696</td>\n",
       "      <td>0.333333</td>\n",
       "      <td>0.488212</td>\n",
       "      <td>0.552382</td>\n",
       "      <td>0.0</td>\n",
       "      <td>0.197076</td>\n",
       "      <td>0.764371</td>\n",
       "    </tr>\n",
       "  </tbody>\n",
       "</table>\n",
       "<p>48160 rows × 8 columns</p>\n",
       "</div>"
      ],
      "text/plain": [
       "        quarter      hour day of the week      Type Object of search  \\\n",
       "0           1.0  0.782609        0.666667  0.488212         0.552382   \n",
       "1           1.0   0.26087        0.666667  0.488212         0.552382   \n",
       "2      0.666667   0.73913             1.0  0.488212         0.506325   \n",
       "3      0.666667  0.347826        0.833333  0.488212         0.304678   \n",
       "4      0.333333  0.956522        0.666667  0.488212         0.552382   \n",
       "...         ...       ...             ...       ...              ...   \n",
       "48155       0.0       1.0             0.0  0.488212         0.552382   \n",
       "48156       1.0  0.826087             0.5  0.537253         0.552382   \n",
       "48157  0.666667  0.652174             0.0  0.488212         0.552382   \n",
       "48158  0.666667       0.0        0.833333  0.488212         0.552382   \n",
       "48159       1.0  0.608696        0.333333  0.488212         0.552382   \n",
       "\n",
       "      Part of a policing operation  Latitude Longitude  \n",
       "0                              0.0  0.515787  0.519093  \n",
       "1                              0.0  0.490178   0.51933  \n",
       "2                              0.0  0.538316  0.664155  \n",
       "3                              0.0  0.223698   0.81245  \n",
       "4                              0.0  0.534688  0.653133  \n",
       "...                            ...       ...       ...  \n",
       "48155                          0.0  0.484817   0.51823  \n",
       "48156                          1.0  0.433096  0.671368  \n",
       "48157                          0.0  0.491603   0.51609  \n",
       "48158                          0.0  0.271676  0.593182  \n",
       "48159                          0.0  0.197076  0.764371  \n",
       "\n",
       "[48160 rows x 8 columns]"
      ]
     },
     "execution_count": 13,
     "metadata": {},
     "output_type": "execute_result"
    }
   ],
   "source": [
    "# Check transformed data\n",
    "\n",
    "model = GaussianNB()\n",
    "\n",
    "pipeline, X, y = create_pipeline(df_train, model)\n",
    "\n",
    "columns = ['quarter', 'hour', 'day of the week', 'Type', 'Object of search', 'Part of a policing operation', 'Latitude', 'Longitude']\n",
    "\n",
    "# columns = ['quarter', 'year', 'hour', 'day of the week', 'Type', 'Object of search', 'Part of a policing operation']\n",
    "\n",
    "pd.DataFrame(data=pipeline.named_steps[\"preprocessor\"].transform(X), columns=columns)\n"
   ]
  },
  {
   "cell_type": "code",
   "execution_count": 19,
   "metadata": {},
   "outputs": [
    {
     "data": {
      "text/plain": [
       "observation_id                   cd15041d-1ac2-44e5-994e-10e2a60ac574\n",
       "Type                                                    Person search\n",
       "Date                                        2021-10-15T18:43:21+00:00\n",
       "Part of a policing operation                                     <NA>\n",
       "Latitude                                                    53.632482\n",
       "Longitude                                                   -2.969119\n",
       "Gender                                                           Male\n",
       "Age range                                                       10-17\n",
       "Officer-defined ethnicity                                       White\n",
       "Legislation                     Misuse of Drugs Act 1971 (section 23)\n",
       "Object of search                                     Controlled drugs\n",
       "station                                                    merseyside\n",
       "Name: 0, dtype: object"
      ]
     },
     "execution_count": 19,
     "metadata": {},
     "output_type": "execute_result"
    }
   ],
   "source": []
  },
  {
   "attachments": {},
   "cell_type": "markdown",
   "metadata": {},
   "source": [
    "# Extract Model Files"
   ]
  },
  {
   "cell_type": "code",
   "execution_count": 14,
   "metadata": {},
   "outputs": [
    {
     "data": {
      "text/plain": [
       "['pipeline.pickle']"
      ]
     },
     "execution_count": 14,
     "metadata": {},
     "output_type": "execute_result"
    }
   ],
   "source": [
    "with open(\"columns.json\", 'w') as fh:\n",
    "    json.dump(X.columns.tolist(), fh)\n",
    "\n",
    "\n",
    "with open(\"dtypes.pickle\", 'wb') as fh:\n",
    "    pickle.dump(X.dtypes, fh)\n",
    "\n",
    "joblib.dump(pipeline, \"pipeline.pickle\") "
   ]
  },
  {
   "attachments": {},
   "cell_type": "markdown",
   "metadata": {},
   "source": [
    "# Test the App"
   ]
  },
  {
   "cell_type": "code",
   "execution_count": 27,
   "metadata": {},
   "outputs": [
    {
     "name": "stdout",
     "output_type": "stream",
     "text": [
      "{'observation_id': 'eeb891e3-3913-4590-82a9-dc23c212dceb', 'Type': 'Person search', 'Date': '2022-04-18T22:24:57+00:00', 'Part of a policing operation': nan, 'Latitude': nan, 'Longitude': nan, 'Gender': 'Male', 'Age range': '10-17', 'Officer-defined ethnicity': 'Other', 'Legislation': 'Police and Criminal Evidence Act 1984 (section 1)', 'Object of search': 'Articles for use in criminal damage', 'station': 'city-of-london'}\n",
      "{'observation_id': '1558a55e-3df2-4665-8beb-0f0c5eaa0408', 'Type': 'Person search', 'Date': '2022-04-06T18:25:00+00:00', 'Part of a policing operation': True, 'Latitude': nan, 'Longitude': nan, 'Gender': 'Male', 'Age range': '10-17', 'Officer-defined ethnicity': 'White', 'Legislation': 'Misuse of Drugs Act 1971 (section 23)', 'Object of search': 'Controlled drugs', 'station': 'nottinghamshire'}\n",
      "{'observation_id': 'eeb891e3-3913-4590-82a9-dc23c212dceb', 'Type': 'Person search', 'Date': '2022-04-18T22:24:57+00:00', 'Part of a policing operation': nan, 'Latitude': nan, 'Longitude': nan, 'Gender': 'Male', 'Age range': '10-17', 'Officer-defined ethnicity': 'Other', 'Legislation': 'Police and Criminal Evidence Act 1984 (section 1)', 'Object of search': 'Articles for use in criminal damage', 'station': 'city-of-london'}\n",
      "{'observation_id': '898d6606-c55b-4a54-9480-f967beaff1cf', 'Type': 'Person and Vehicle search', 'Date': '2022-01-07T20:20:00+00:00', 'Part of a policing operation': True, 'Latitude': nan, 'Longitude': nan, 'Gender': 'Male', 'Age range': '25-34', 'Officer-defined ethnicity': 'White', 'Legislation': 'Misuse of Drugs Act 1971 (section 23)', 'Object of search': 'Controlled drugs', 'station': 'nottinghamshire'}\n",
      "{'observation_id': '3ff08b3c-c1fc-4c9f-97fe-470cf3a61cef', 'Type': 'Person search', 'Date': '2022-05-08T20:21:00+00:00', 'Part of a policing operation': True, 'Latitude': nan, 'Longitude': nan, 'Gender': 'Male', 'Age range': 'over 34', 'Officer-defined ethnicity': 'White', 'Legislation': 'Misuse of Drugs Act 1971 (section 23)', 'Object of search': 'Controlled drugs', 'station': 'nottinghamshire'}\n",
      "{'observation_id': '73d7c589-7605-42ab-9c5c-d0fbb897adb0', 'Type': 'Person search', 'Date': '2022-02-12T01:43:00+00:00', 'Part of a policing operation': nan, 'Latitude': 54.525683, 'Longitude': -1.556382, 'Gender': 'Male', 'Age range': 'over 34', 'Officer-defined ethnicity': 'White', 'Legislation': 'Police and Criminal Evidence Act 1984 (section 1)', 'Object of search': 'Article for use in theft', 'station': 'durham'}\n",
      "{'observation_id': '1d276941-2dd7-4cc0-b14d-764ee8bcd966', 'Type': 'Person search', 'Date': '2022-05-13T18:23:00+00:00', 'Part of a policing operation': True, 'Latitude': nan, 'Longitude': nan, 'Gender': 'Male', 'Age range': '25-34', 'Officer-defined ethnicity': 'White', 'Legislation': 'Misuse of Drugs Act 1971 (section 23)', 'Object of search': 'Controlled drugs', 'station': 'nottinghamshire'}\n",
      "{'observation_id': 'fd0a32a8-1672-45da-bf93-b93524441b24', 'Type': 'Person search', 'Date': '2022-01-26T01:48:18+00:00', 'Part of a policing operation': nan, 'Latitude': 52.558052, 'Longitude': -0.272402, 'Gender': 'Female', 'Age range': 'over 34', 'Officer-defined ethnicity': 'White', 'Legislation': 'Misuse of Drugs Act 1971 (section 23)', 'Object of search': 'Controlled drugs', 'station': 'cambridgeshire'}\n",
      "{'observation_id': '15af9195-3fa0-40aa-9083-da7767f0c801', 'Type': 'Person search', 'Date': '2022-02-16T05:01:31+00:00', 'Part of a policing operation': nan, 'Latitude': 51.513463, 'Longitude': -0.082913, 'Gender': 'Male', 'Age range': '18-24', 'Officer-defined ethnicity': 'White', 'Legislation': 'Misuse of Drugs Act 1971 (section 23)', 'Object of search': 'Controlled drugs', 'station': 'city-of-london'}\n",
      "{'observation_id': '9ac66922-d13b-4877-8bab-41ef925d3bb8', 'Type': 'Person search', 'Date': '2022-03-04T23:48:16+00:00', 'Part of a policing operation': nan, 'Latitude': 52.339135, 'Longitude': -0.163148, 'Gender': 'Male', 'Age range': '10-17', 'Officer-defined ethnicity': 'White', 'Legislation': 'Misuse of Drugs Act 1971 (section 23)', 'Object of search': 'Controlled drugs', 'station': 'cambridgeshire'}\n",
      "{'observation_id': '27dc412f-64e2-4245-9a25-db0514b2e980', 'Type': 'Person search', 'Date': '2022-03-17T20:20:00+00:00', 'Part of a policing operation': True, 'Latitude': nan, 'Longitude': nan, 'Gender': 'Male', 'Age range': '18-24', 'Officer-defined ethnicity': 'White', 'Legislation': 'Police and Criminal Evidence Act 1984 (section 1)', 'Object of search': 'Articles for use in criminal damage', 'station': 'nottinghamshire'}\n",
      "{'observation_id': 'aeed813b-d4e9-489d-81b3-9b8ec8f62d52', 'Type': 'Person search', 'Date': '2022-05-13T22:58:26+00:00', 'Part of a policing operation': nan, 'Latitude': 52.525437, 'Longitude': -0.261064, 'Gender': 'Male', 'Age range': '10-17', 'Officer-defined ethnicity': 'White', 'Legislation': 'Misuse of Drugs Act 1971 (section 23)', 'Object of search': 'Controlled drugs', 'station': 'cambridgeshire'}\n",
      "{'observation_id': 'caabe84e-97e0-4305-b540-eda6d56e51f3', 'Type': 'Person search', 'Date': '2022-04-17T22:45:00+00:00', 'Part of a policing operation': nan, 'Latitude': 54.523648, 'Longitude': -1.557748, 'Gender': 'Male', 'Age range': '18-24', 'Officer-defined ethnicity': 'White', 'Legislation': 'Misuse of Drugs Act 1971 (section 23)', 'Object of search': 'Controlled drugs', 'station': 'durham'}\n",
      "{'observation_id': '29d64e93-a47d-45ba-b02f-258f0c459091', 'Type': 'Person search', 'Date': '2022-01-28T10:10:00+00:00', 'Part of a policing operation': False, 'Latitude': nan, 'Longitude': nan, 'Gender': 'Male', 'Age range': '10-17', 'Officer-defined ethnicity': 'Asian', 'Legislation': 'Police and Criminal Evidence Act 1984 (section 1)', 'Object of search': 'Offensive weapons', 'station': 'nottinghamshire'}\n",
      "{'observation_id': '1037c940-3a60-47eb-bef4-2596218725f0', 'Type': 'Person search', 'Date': '2022-04-02T19:00:00+00:00', 'Part of a policing operation': nan, 'Latitude': 54.857714, 'Longitude': -1.611271, 'Gender': 'Male', 'Age range': '25-34', 'Officer-defined ethnicity': 'White', 'Legislation': 'Police and Criminal Evidence Act 1984 (section 1)', 'Object of search': 'Offensive weapons', 'station': 'durham'}\n",
      "{'observation_id': '923a1db5-1a27-4eb0-92ea-819c7ffdf85e', 'Type': 'Person search', 'Date': '2022-04-11T09:41:57+00:00', 'Part of a policing operation': nan, 'Latitude': 52.204443, 'Longitude': 0.103386, 'Gender': 'Male', 'Age range': '18-24', 'Officer-defined ethnicity': 'Black', 'Legislation': 'Misuse of Drugs Act 1971 (section 23)', 'Object of search': 'Controlled drugs', 'station': 'cambridgeshire'}\n",
      "{'observation_id': '9249984b-5b19-4730-95d2-201197fff581', 'Type': 'Person and Vehicle search', 'Date': '2022-04-28T20:10:00+00:00', 'Part of a policing operation': False, 'Latitude': nan, 'Longitude': nan, 'Gender': 'Male', 'Age range': 'over 34', 'Officer-defined ethnicity': 'White', 'Legislation': 'Misuse of Drugs Act 1971 (section 23)', 'Object of search': 'Controlled drugs', 'station': 'nottinghamshire'}\n",
      "{'observation_id': 'e477ebd7-a324-4d63-9def-51b5f6a81a54', 'Type': 'Person and Vehicle search', 'Date': '2022-03-17T10:37:51+00:00', 'Part of a policing operation': nan, 'Latitude': 52.225282, 'Longitude': 0.119716, 'Gender': 'Male', 'Age range': '18-24', 'Officer-defined ethnicity': 'Asian', 'Legislation': 'Misuse of Drugs Act 1971 (section 23)', 'Object of search': 'Controlled drugs', 'station': 'cambridgeshire'}\n",
      "{'observation_id': 'd46707aa-cf72-4fb4-aa64-fe6eff29e8f7', 'Type': 'Person and Vehicle search', 'Date': '2022-03-15T21:34:00+00:00', 'Part of a policing operation': False, 'Latitude': nan, 'Longitude': nan, 'Gender': 'Male', 'Age range': '18-24', 'Officer-defined ethnicity': 'Asian', 'Legislation': 'Police and Criminal Evidence Act 1984 (section 1)', 'Object of search': 'Article for use in theft', 'station': 'nottinghamshire'}\n",
      "{'observation_id': '06e5e365-15a8-465a-8092-eef6762a78d7', 'Type': 'Person search', 'Date': '2022-04-27T08:02:00+00:00', 'Part of a policing operation': nan, 'Latitude': 54.630745, 'Longitude': -1.651373, 'Gender': 'Male', 'Age range': 'over 34', 'Officer-defined ethnicity': 'White', 'Legislation': 'Police and Criminal Evidence Act 1984 (section 1)', 'Object of search': 'Article for use in theft', 'station': 'durham'}\n",
      "{'observation_id': '89f0b741-dd82-4600-8b98-4c3230a0540d', 'Type': 'Person search', 'Date': '2022-03-09T05:33:02+00:00', 'Part of a policing operation': nan, 'Latitude': nan, 'Longitude': nan, 'Gender': 'Male', 'Age range': 'over 34', 'Officer-defined ethnicity': 'White', 'Legislation': 'Misuse of Drugs Act 1971 (section 23)', 'Object of search': 'Controlled drugs', 'station': 'city-of-london'}\n"
     ]
    }
   ],
   "source": [
    "with open('data/trial_moment_1.json') as moment_1:\n",
    "  parsed_json = json.load(moment_1)\n",
    "\n",
    "print(parsed_json[1][\"data\"])\n",
    "\n",
    "for n in range(len(parsed_json)):\n",
    "  print(parsed_json[n][\"data\"])"
   ]
  },
  {
   "cell_type": "code",
   "execution_count": 28,
   "metadata": {},
   "outputs": [],
   "source": [
    "APP_NAME = 'ldsacapstone-production.up.railway.app'"
   ]
  },
  {
   "cell_type": "code",
   "execution_count": 29,
   "metadata": {},
   "outputs": [
    {
     "data": {
      "text/plain": [
       "<Response [200]>"
      ]
     },
     "metadata": {},
     "output_type": "display_data"
    },
    {
     "data": {
      "text/plain": [
       "b'{\\n  \"outcome\": \"False\"\\n}\\n'"
      ]
     },
     "metadata": {},
     "output_type": "display_data"
    },
    {
     "data": {
      "text/plain": [
       "<Response [200]>"
      ]
     },
     "metadata": {},
     "output_type": "display_data"
    },
    {
     "data": {
      "text/plain": [
       "b'{\\n  \"outcome\": \"True\"\\n}\\n'"
      ]
     },
     "metadata": {},
     "output_type": "display_data"
    },
    {
     "data": {
      "text/plain": [
       "<Response [200]>"
      ]
     },
     "metadata": {},
     "output_type": "display_data"
    },
    {
     "data": {
      "text/plain": [
       "b'{\\n  \"outcome\": \"False\"\\n}\\n'"
      ]
     },
     "metadata": {},
     "output_type": "display_data"
    },
    {
     "data": {
      "text/plain": [
       "<Response [200]>"
      ]
     },
     "metadata": {},
     "output_type": "display_data"
    },
    {
     "data": {
      "text/plain": [
       "b'{\\n  \"outcome\": \"False\"\\n}\\n'"
      ]
     },
     "metadata": {},
     "output_type": "display_data"
    },
    {
     "data": {
      "text/plain": [
       "<Response [200]>"
      ]
     },
     "metadata": {},
     "output_type": "display_data"
    },
    {
     "data": {
      "text/plain": [
       "b'{\\n  \"outcome\": \"True\"\\n}\\n'"
      ]
     },
     "metadata": {},
     "output_type": "display_data"
    },
    {
     "data": {
      "text/plain": [
       "<Response [200]>"
      ]
     },
     "metadata": {},
     "output_type": "display_data"
    },
    {
     "data": {
      "text/plain": [
       "b'{\\n  \"outcome\": \"False\"\\n}\\n'"
      ]
     },
     "metadata": {},
     "output_type": "display_data"
    },
    {
     "data": {
      "text/plain": [
       "<Response [200]>"
      ]
     },
     "metadata": {},
     "output_type": "display_data"
    },
    {
     "data": {
      "text/plain": [
       "b'{\\n  \"outcome\": \"False\"\\n}\\n'"
      ]
     },
     "metadata": {},
     "output_type": "display_data"
    },
    {
     "data": {
      "text/plain": [
       "<Response [200]>"
      ]
     },
     "metadata": {},
     "output_type": "display_data"
    },
    {
     "data": {
      "text/plain": [
       "b'{\\n  \"outcome\": \"False\"\\n}\\n'"
      ]
     },
     "metadata": {},
     "output_type": "display_data"
    },
    {
     "data": {
      "text/plain": [
       "<Response [200]>"
      ]
     },
     "metadata": {},
     "output_type": "display_data"
    },
    {
     "data": {
      "text/plain": [
       "b'{\\n  \"outcome\": \"False\"\\n}\\n'"
      ]
     },
     "metadata": {},
     "output_type": "display_data"
    },
    {
     "data": {
      "text/plain": [
       "<Response [200]>"
      ]
     },
     "metadata": {},
     "output_type": "display_data"
    },
    {
     "data": {
      "text/plain": [
       "b'{\\n  \"outcome\": \"True\"\\n}\\n'"
      ]
     },
     "metadata": {},
     "output_type": "display_data"
    },
    {
     "data": {
      "text/plain": [
       "<Response [200]>"
      ]
     },
     "metadata": {},
     "output_type": "display_data"
    },
    {
     "data": {
      "text/plain": [
       "b'{\\n  \"outcome\": \"False\"\\n}\\n'"
      ]
     },
     "metadata": {},
     "output_type": "display_data"
    },
    {
     "data": {
      "text/plain": [
       "<Response [200]>"
      ]
     },
     "metadata": {},
     "output_type": "display_data"
    },
    {
     "data": {
      "text/plain": [
       "b'{\\n  \"outcome\": \"False\"\\n}\\n'"
      ]
     },
     "metadata": {},
     "output_type": "display_data"
    },
    {
     "data": {
      "text/plain": [
       "<Response [200]>"
      ]
     },
     "metadata": {},
     "output_type": "display_data"
    },
    {
     "data": {
      "text/plain": [
       "b'{\\n  \"outcome\": \"True\"\\n}\\n'"
      ]
     },
     "metadata": {},
     "output_type": "display_data"
    },
    {
     "data": {
      "text/plain": [
       "<Response [200]>"
      ]
     },
     "metadata": {},
     "output_type": "display_data"
    },
    {
     "data": {
      "text/plain": [
       "b'{\\n  \"outcome\": \"True\"\\n}\\n'"
      ]
     },
     "metadata": {},
     "output_type": "display_data"
    },
    {
     "data": {
      "text/plain": [
       "<Response [200]>"
      ]
     },
     "metadata": {},
     "output_type": "display_data"
    },
    {
     "data": {
      "text/plain": [
       "b'{\\n  \"outcome\": \"False\"\\n}\\n'"
      ]
     },
     "metadata": {},
     "output_type": "display_data"
    },
    {
     "data": {
      "text/plain": [
       "<Response [200]>"
      ]
     },
     "metadata": {},
     "output_type": "display_data"
    },
    {
     "data": {
      "text/plain": [
       "b'{\\n  \"outcome\": \"False\"\\n}\\n'"
      ]
     },
     "metadata": {},
     "output_type": "display_data"
    },
    {
     "data": {
      "text/plain": [
       "<Response [200]>"
      ]
     },
     "metadata": {},
     "output_type": "display_data"
    },
    {
     "data": {
      "text/plain": [
       "b'{\\n  \"outcome\": \"False\"\\n}\\n'"
      ]
     },
     "metadata": {},
     "output_type": "display_data"
    },
    {
     "data": {
      "text/plain": [
       "<Response [200]>"
      ]
     },
     "metadata": {},
     "output_type": "display_data"
    },
    {
     "data": {
      "text/plain": [
       "b'{\\n  \"outcome\": \"True\"\\n}\\n'"
      ]
     },
     "metadata": {},
     "output_type": "display_data"
    },
    {
     "data": {
      "text/plain": [
       "<Response [200]>"
      ]
     },
     "metadata": {},
     "output_type": "display_data"
    },
    {
     "data": {
      "text/plain": [
       "b'{\\n  \"outcome\": \"True\"\\n}\\n'"
      ]
     },
     "metadata": {},
     "output_type": "display_data"
    },
    {
     "data": {
      "text/plain": [
       "<Response [200]>"
      ]
     },
     "metadata": {},
     "output_type": "display_data"
    },
    {
     "data": {
      "text/plain": [
       "b'{\\n  \"outcome\": \"False\"\\n}\\n'"
      ]
     },
     "metadata": {},
     "output_type": "display_data"
    }
   ],
   "source": [
    "# testing the predict endpoing\n",
    "\n",
    "url = f\"https://{APP_NAME}/should_search/\"\n",
    "\n",
    "for n in range(len(parsed_json)):\n",
    "\n",
    "    payload = parsed_json[n][\"data\"]\n",
    "\n",
    "    r = requests.post(url, data=json.dumps(payload), headers={\"Content-Type\": \"application/json\"})\n",
    "    display(r)\n",
    "    display(r.content)\n",
    "\n",
    "\n"
   ]
  },
  {
   "cell_type": "code",
   "execution_count": 30,
   "metadata": {},
   "outputs": [
    {
     "name": "stdout",
     "output_type": "stream",
     "text": [
      "{'observation_id': 'eeb891e3-3913-4590-82a9-dc23c212dceb', 'outcome': True}\n",
      "{'observation_id': '1558a55e-3df2-4665-8beb-0f0c5eaa0408', 'outcome': False}\n",
      "{'observation_id': 'eeb891e3-3913-4590-82a9-dc23c212dceb', 'outcome': True}\n",
      "{'observation_id': '898d6606-c55b-4a54-9480-f967beaff1cf', 'outcome': False}\n",
      "{'observation_id': '3ff08b3c-c1fc-4c9f-97fe-470cf3a61cef', 'outcome': False}\n",
      "{'observation_id': '73d7c589-7605-42ab-9c5c-d0fbb897adb0', 'outcome': False}\n",
      "{'observation_id': '1d276941-2dd7-4cc0-b14d-764ee8bcd966', 'outcome': False}\n",
      "{'observation_id': 'fd0a32a8-1672-45da-bf93-b93524441b24', 'outcome': True}\n",
      "{'observation_id': '15af9195-3fa0-40aa-9083-da7767f0c801', 'outcome': True}\n",
      "{'observation_id': '9ac66922-d13b-4877-8bab-41ef925d3bb8', 'outcome': True}\n",
      "{'observation_id': '27dc412f-64e2-4245-9a25-db0514b2e980', 'outcome': True}\n",
      "{'observation_id': 'aeed813b-d4e9-489d-81b3-9b8ec8f62d52', 'outcome': False}\n",
      "{'observation_id': 'caabe84e-97e0-4305-b540-eda6d56e51f3', 'outcome': True}\n",
      "{'observation_id': '29d64e93-a47d-45ba-b02f-258f0c459091', 'outcome': True}\n",
      "{'observation_id': '1037c940-3a60-47eb-bef4-2596218725f0', 'outcome': False}\n",
      "{'observation_id': '923a1db5-1a27-4eb0-92ea-819c7ffdf85e', 'outcome': True}\n",
      "{'observation_id': '9249984b-5b19-4730-95d2-201197fff581', 'outcome': False}\n",
      "{'observation_id': 'e477ebd7-a324-4d63-9def-51b5f6a81a54', 'outcome': True}\n",
      "{'observation_id': 'd46707aa-cf72-4fb4-aa64-fe6eff29e8f7', 'outcome': True}\n",
      "{'observation_id': '06e5e365-15a8-465a-8092-eef6762a78d7', 'outcome': False}\n",
      "{'observation_id': '89f0b741-dd82-4600-8b98-4c3230a0540d', 'outcome': False}\n"
     ]
    }
   ],
   "source": [
    "with open('data/trial_moment_2.json') as moment_1:\n",
    "  parsed_json = json.load(moment_1)\n",
    "\n",
    "print(parsed_json[1][\"data\"])\n",
    "\n",
    "for n in range(len(parsed_json)):\n",
    "  print(parsed_json[n][\"data\"])"
   ]
  },
  {
   "cell_type": "code",
   "execution_count": 31,
   "metadata": {},
   "outputs": [
    {
     "data": {
      "text/plain": [
       "<Response [200]>"
      ]
     },
     "metadata": {},
     "output_type": "display_data"
    },
    {
     "data": {
      "text/plain": [
       "b'{\\n  \"observation_id\": \"1558a55e-3df2-4665-8beb-0f0c5eaa0408\", \\n  \"outcome\": \"False\", \\n  \"predicted_outcome\": \"False\"\\n}\\n'"
      ]
     },
     "metadata": {},
     "output_type": "display_data"
    },
    {
     "data": {
      "text/plain": [
       "<Response [200]>"
      ]
     },
     "metadata": {},
     "output_type": "display_data"
    },
    {
     "data": {
      "text/plain": [
       "b'{\\n  \"observation_id\": \"eeb891e3-3913-4590-82a9-dc23c212dceb\", \\n  \"outcome\": \"True\", \\n  \"predicted_outcome\": \"True\"\\n}\\n'"
      ]
     },
     "metadata": {},
     "output_type": "display_data"
    },
    {
     "data": {
      "text/plain": [
       "<Response [200]>"
      ]
     },
     "metadata": {},
     "output_type": "display_data"
    },
    {
     "data": {
      "text/plain": [
       "b'{\\n  \"observation_id\": \"898d6606-c55b-4a54-9480-f967beaff1cf\", \\n  \"outcome\": \"False\", \\n  \"predicted_outcome\": \"False\"\\n}\\n'"
      ]
     },
     "metadata": {},
     "output_type": "display_data"
    },
    {
     "data": {
      "text/plain": [
       "<Response [200]>"
      ]
     },
     "metadata": {},
     "output_type": "display_data"
    },
    {
     "data": {
      "text/plain": [
       "b'{\\n  \"observation_id\": \"3ff08b3c-c1fc-4c9f-97fe-470cf3a61cef\", \\n  \"outcome\": \"False\", \\n  \"predicted_outcome\": \"False\"\\n}\\n'"
      ]
     },
     "metadata": {},
     "output_type": "display_data"
    },
    {
     "data": {
      "text/plain": [
       "<Response [200]>"
      ]
     },
     "metadata": {},
     "output_type": "display_data"
    },
    {
     "data": {
      "text/plain": [
       "b'{\\n  \"observation_id\": \"73d7c589-7605-42ab-9c5c-d0fbb897adb0\", \\n  \"outcome\": \"False\", \\n  \"predicted_outcome\": \"True\"\\n}\\n'"
      ]
     },
     "metadata": {},
     "output_type": "display_data"
    },
    {
     "data": {
      "text/plain": [
       "<Response [200]>"
      ]
     },
     "metadata": {},
     "output_type": "display_data"
    },
    {
     "data": {
      "text/plain": [
       "b'{\\n  \"observation_id\": \"1d276941-2dd7-4cc0-b14d-764ee8bcd966\", \\n  \"outcome\": \"False\", \\n  \"predicted_outcome\": \"False\"\\n}\\n'"
      ]
     },
     "metadata": {},
     "output_type": "display_data"
    },
    {
     "data": {
      "text/plain": [
       "<Response [200]>"
      ]
     },
     "metadata": {},
     "output_type": "display_data"
    },
    {
     "data": {
      "text/plain": [
       "b'{\\n  \"observation_id\": \"fd0a32a8-1672-45da-bf93-b93524441b24\", \\n  \"outcome\": \"True\", \\n  \"predicted_outcome\": \"False\"\\n}\\n'"
      ]
     },
     "metadata": {},
     "output_type": "display_data"
    },
    {
     "data": {
      "text/plain": [
       "<Response [200]>"
      ]
     },
     "metadata": {},
     "output_type": "display_data"
    },
    {
     "data": {
      "text/plain": [
       "b'{\\n  \"observation_id\": \"15af9195-3fa0-40aa-9083-da7767f0c801\", \\n  \"outcome\": \"True\", \\n  \"predicted_outcome\": \"False\"\\n}\\n'"
      ]
     },
     "metadata": {},
     "output_type": "display_data"
    },
    {
     "data": {
      "text/plain": [
       "<Response [200]>"
      ]
     },
     "metadata": {},
     "output_type": "display_data"
    },
    {
     "data": {
      "text/plain": [
       "b'{\\n  \"observation_id\": \"9ac66922-d13b-4877-8bab-41ef925d3bb8\", \\n  \"outcome\": \"True\", \\n  \"predicted_outcome\": \"False\"\\n}\\n'"
      ]
     },
     "metadata": {},
     "output_type": "display_data"
    },
    {
     "data": {
      "text/plain": [
       "<Response [200]>"
      ]
     },
     "metadata": {},
     "output_type": "display_data"
    },
    {
     "data": {
      "text/plain": [
       "b'{\\n  \"observation_id\": \"27dc412f-64e2-4245-9a25-db0514b2e980\", \\n  \"outcome\": \"True\", \\n  \"predicted_outcome\": \"True\"\\n}\\n'"
      ]
     },
     "metadata": {},
     "output_type": "display_data"
    },
    {
     "data": {
      "text/plain": [
       "<Response [200]>"
      ]
     },
     "metadata": {},
     "output_type": "display_data"
    },
    {
     "data": {
      "text/plain": [
       "b'{\\n  \"observation_id\": \"aeed813b-d4e9-489d-81b3-9b8ec8f62d52\", \\n  \"outcome\": \"False\", \\n  \"predicted_outcome\": \"False\"\\n}\\n'"
      ]
     },
     "metadata": {},
     "output_type": "display_data"
    },
    {
     "data": {
      "text/plain": [
       "<Response [200]>"
      ]
     },
     "metadata": {},
     "output_type": "display_data"
    },
    {
     "data": {
      "text/plain": [
       "b'{\\n  \"observation_id\": \"caabe84e-97e0-4305-b540-eda6d56e51f3\", \\n  \"outcome\": \"True\", \\n  \"predicted_outcome\": \"False\"\\n}\\n'"
      ]
     },
     "metadata": {},
     "output_type": "display_data"
    },
    {
     "data": {
      "text/plain": [
       "<Response [200]>"
      ]
     },
     "metadata": {},
     "output_type": "display_data"
    },
    {
     "data": {
      "text/plain": [
       "b'{\\n  \"observation_id\": \"29d64e93-a47d-45ba-b02f-258f0c459091\", \\n  \"outcome\": \"True\", \\n  \"predicted_outcome\": \"True\"\\n}\\n'"
      ]
     },
     "metadata": {},
     "output_type": "display_data"
    },
    {
     "data": {
      "text/plain": [
       "<Response [200]>"
      ]
     },
     "metadata": {},
     "output_type": "display_data"
    },
    {
     "data": {
      "text/plain": [
       "b'{\\n  \"observation_id\": \"1037c940-3a60-47eb-bef4-2596218725f0\", \\n  \"outcome\": \"False\", \\n  \"predicted_outcome\": \"True\"\\n}\\n'"
      ]
     },
     "metadata": {},
     "output_type": "display_data"
    },
    {
     "data": {
      "text/plain": [
       "<Response [200]>"
      ]
     },
     "metadata": {},
     "output_type": "display_data"
    },
    {
     "data": {
      "text/plain": [
       "b'{\\n  \"observation_id\": \"923a1db5-1a27-4eb0-92ea-819c7ffdf85e\", \\n  \"outcome\": \"True\", \\n  \"predicted_outcome\": \"False\"\\n}\\n'"
      ]
     },
     "metadata": {},
     "output_type": "display_data"
    },
    {
     "data": {
      "text/plain": [
       "<Response [200]>"
      ]
     },
     "metadata": {},
     "output_type": "display_data"
    },
    {
     "data": {
      "text/plain": [
       "b'{\\n  \"observation_id\": \"9249984b-5b19-4730-95d2-201197fff581\", \\n  \"outcome\": \"False\", \\n  \"predicted_outcome\": \"False\"\\n}\\n'"
      ]
     },
     "metadata": {},
     "output_type": "display_data"
    },
    {
     "data": {
      "text/plain": [
       "<Response [200]>"
      ]
     },
     "metadata": {},
     "output_type": "display_data"
    },
    {
     "data": {
      "text/plain": [
       "b'{\\n  \"observation_id\": \"e477ebd7-a324-4d63-9def-51b5f6a81a54\", \\n  \"outcome\": \"True\", \\n  \"predicted_outcome\": \"False\"\\n}\\n'"
      ]
     },
     "metadata": {},
     "output_type": "display_data"
    },
    {
     "data": {
      "text/plain": [
       "<Response [200]>"
      ]
     },
     "metadata": {},
     "output_type": "display_data"
    },
    {
     "data": {
      "text/plain": [
       "b'{\\n  \"observation_id\": \"d46707aa-cf72-4fb4-aa64-fe6eff29e8f7\", \\n  \"outcome\": \"True\", \\n  \"predicted_outcome\": \"True\"\\n}\\n'"
      ]
     },
     "metadata": {},
     "output_type": "display_data"
    },
    {
     "data": {
      "text/plain": [
       "<Response [200]>"
      ]
     },
     "metadata": {},
     "output_type": "display_data"
    },
    {
     "data": {
      "text/plain": [
       "b'{\\n  \"observation_id\": \"06e5e365-15a8-465a-8092-eef6762a78d7\", \\n  \"outcome\": \"False\", \\n  \"predicted_outcome\": \"True\"\\n}\\n'"
      ]
     },
     "metadata": {},
     "output_type": "display_data"
    },
    {
     "data": {
      "text/plain": [
       "<Response [200]>"
      ]
     },
     "metadata": {},
     "output_type": "display_data"
    },
    {
     "data": {
      "text/plain": [
       "b'{\\n  \"observation_id\": \"89f0b741-dd82-4600-8b98-4c3230a0540d\", \\n  \"outcome\": \"False\", \\n  \"predicted_outcome\": \"False\"\\n}\\n'"
      ]
     },
     "metadata": {},
     "output_type": "display_data"
    }
   ],
   "source": [
    "# Testing the /update endpoint\n",
    "\n",
    "url = f\"https://{APP_NAME}/search_result/\"\n",
    "for n in range(len(parsed_json)):\n",
    "\n",
    "    payload = parsed_json[n]['data']\n",
    "\n",
    "    r = requests.post(url, data=json.dumps(payload), headers={\"Content-Type\": \"application/json\"})\n",
    "    display(r)\n",
    "    display(r.content)\n"
   ]
  },
  {
   "attachments": {},
   "cell_type": "markdown",
   "metadata": {},
   "source": [
    "# Check data in the database"
   ]
  },
  {
   "cell_type": "code",
   "execution_count": 32,
   "metadata": {},
   "outputs": [
    {
     "ename": "NameError",
     "evalue": "name 'sqlalchemy' is not defined",
     "output_type": "error",
     "traceback": [
      "\u001b[0;31m---------------------------------------------------------------------------\u001b[0m",
      "\u001b[0;31mNameError\u001b[0m                                 Traceback (most recent call last)",
      "\u001b[1;32m/Users/joaosa/projects/ldsa_capstone/15 Create Model Files Redeployment.ipynb Cell 19\u001b[0m in \u001b[0;36m<cell line: 9>\u001b[0;34m()\u001b[0m\n\u001b[1;32m      <a href='vscode-notebook-cell:/Users/joaosa/projects/ldsa_capstone/15%20Create%20Model%20Files%20Redeployment.ipynb#X23sZmlsZQ%3D%3D?line=5'>6</a>\u001b[0m db_name \u001b[39m=\u001b[39m \u001b[39m'\u001b[39m\u001b[39mrailway\u001b[39m\u001b[39m'\u001b[39m\n\u001b[1;32m      <a href='vscode-notebook-cell:/Users/joaosa/projects/ldsa_capstone/15%20Create%20Model%20Files%20Redeployment.ipynb#X23sZmlsZQ%3D%3D?line=7'>8</a>\u001b[0m conn_str \u001b[39m=\u001b[39m \u001b[39m'\u001b[39m\u001b[39mpostgresql://\u001b[39m\u001b[39m{}\u001b[39;00m\u001b[39m:\u001b[39m\u001b[39m{}\u001b[39;00m\u001b[39m@\u001b[39m\u001b[39m{}\u001b[39;00m\u001b[39m:\u001b[39m\u001b[39m{}\u001b[39;00m\u001b[39m/\u001b[39m\u001b[39m{}\u001b[39;00m\u001b[39m'\u001b[39m\u001b[39m.\u001b[39mformat(username, password, host_name, port, db_name)\n\u001b[0;32m----> <a href='vscode-notebook-cell:/Users/joaosa/projects/ldsa_capstone/15%20Create%20Model%20Files%20Redeployment.ipynb#X23sZmlsZQ%3D%3D?line=8'>9</a>\u001b[0m engine \u001b[39m=\u001b[39m sqlalchemy\u001b[39m.\u001b[39mcreate_engine(conn_str)\n\u001b[1;32m     <a href='vscode-notebook-cell:/Users/joaosa/projects/ldsa_capstone/15%20Create%20Model%20Files%20Redeployment.ipynb#X23sZmlsZQ%3D%3D?line=9'>10</a>\u001b[0m query \u001b[39m=\u001b[39m \u001b[39m'\u001b[39m\u001b[39mSELECT * FROM prediction;\u001b[39m\u001b[39m'\u001b[39m\n\u001b[1;32m     <a href='vscode-notebook-cell:/Users/joaosa/projects/ldsa_capstone/15%20Create%20Model%20Files%20Redeployment.ipynb#X23sZmlsZQ%3D%3D?line=10'>11</a>\u001b[0m data_server \u001b[39m=\u001b[39m pd\u001b[39m.\u001b[39mDataFrame(engine\u001b[39m.\u001b[39mconnect()\u001b[39m.\u001b[39mexecute(sqlalchemy\u001b[39m.\u001b[39mtext(query)))\n",
      "\u001b[0;31mNameError\u001b[0m: name 'sqlalchemy' is not defined"
     ]
    }
   ],
   "source": [
    "#server is down, so no worries (this credentials will fail, use yours)\n",
    "username = 'postgres'\n",
    "password = 'e4a0hDUQGnH26EDm82PK'\n",
    "host_name = 'containers-us-west-118.railway.app'\n",
    "port = 7357\n",
    "db_name = 'railway'\n",
    "\n",
    "conn_str = 'postgresql://{}:{}@{}:{}/{}'.format(username, password, host_name, port, db_name)\n",
    "engine = sqlalchemy.create_engine(conn_str)\n",
    "query = 'SELECT * FROM prediction;'\n",
    "data_server = pd.DataFrame(engine.connect().execute(sqlalchemy.text(query)))\n",
    "data_server"
   ]
  },
  {
   "cell_type": "code",
   "execution_count": 3,
   "metadata": {},
   "outputs": [],
   "source": [
    "data_server.to_csv('data/requests1_final.csv')"
   ]
  },
  {
   "cell_type": "code",
   "execution_count": 6,
   "metadata": {},
   "outputs": [
    {
     "data": {
      "text/plain": [
       "outcome  true_outcome\n",
       "True     False           1941\n",
       "False    False           1185\n",
       "True     True             638\n",
       "False    True             236\n",
       "dtype: int64"
      ]
     },
     "execution_count": 6,
     "metadata": {},
     "output_type": "execute_result"
    }
   ],
   "source": [
    "data_server[[\"outcome\",\"true_outcome\"]].value_counts(dropna=False)"
   ]
  },
  {
   "cell_type": "code",
   "execution_count": 4,
   "metadata": {},
   "outputs": [
    {
     "data": {
      "text/plain": [
       "False    3126\n",
       "True      874\n",
       "Name: true_outcome, dtype: int64"
      ]
     },
     "execution_count": 4,
     "metadata": {},
     "output_type": "execute_result"
    }
   ],
   "source": [
    "data_server[\"true_outcome\"].value_counts(dropna=False)"
   ]
  },
  {
   "cell_type": "code",
   "execution_count": 22,
   "metadata": {},
   "outputs": [
    {
     "data": {
      "text/html": [
       "<div>\n",
       "<style scoped>\n",
       "    .dataframe tbody tr th:only-of-type {\n",
       "        vertical-align: middle;\n",
       "    }\n",
       "\n",
       "    .dataframe tbody tr th {\n",
       "        vertical-align: top;\n",
       "    }\n",
       "\n",
       "    .dataframe thead th {\n",
       "        text-align: right;\n",
       "    }\n",
       "</style>\n",
       "<table border=\"1\" class=\"dataframe\">\n",
       "  <thead>\n",
       "    <tr style=\"text-align: right;\">\n",
       "      <th></th>\n",
       "      <th>observation_id</th>\n",
       "      <th>Type</th>\n",
       "      <th>Date</th>\n",
       "      <th>Part of a policing operation</th>\n",
       "      <th>Latitude</th>\n",
       "      <th>Longitude</th>\n",
       "      <th>Gender</th>\n",
       "      <th>Age range</th>\n",
       "      <th>Self-defined ethnicity</th>\n",
       "      <th>Officer-defined ethnicity</th>\n",
       "      <th>Legislation</th>\n",
       "      <th>Object of search</th>\n",
       "      <th>Outcome</th>\n",
       "      <th>Outcome linked to object of search</th>\n",
       "      <th>Removal of more than just outer clothing</th>\n",
       "      <th>station</th>\n",
       "    </tr>\n",
       "  </thead>\n",
       "  <tbody>\n",
       "    <tr>\n",
       "      <th>0</th>\n",
       "      <td>2e4d0094-c30b-471b-a211-72a9790feca2</td>\n",
       "      <td>Person search</td>\n",
       "      <td>2020-12-01T01:10:00+00:00</td>\n",
       "      <td>NaN</td>\n",
       "      <td>50.798824</td>\n",
       "      <td>-1.089471</td>\n",
       "      <td>Male</td>\n",
       "      <td>25-34</td>\n",
       "      <td>Other ethnic group - Not stated</td>\n",
       "      <td>White</td>\n",
       "      <td>Police and Criminal Evidence Act 1984 (section 1)</td>\n",
       "      <td>Article for use in theft</td>\n",
       "      <td>Community resolution</td>\n",
       "      <td>False</td>\n",
       "      <td>False</td>\n",
       "      <td>hampshire</td>\n",
       "    </tr>\n",
       "    <tr>\n",
       "      <th>1</th>\n",
       "      <td>4779fbe8-6e05-4534-85fd-db32952ee309</td>\n",
       "      <td>Person search</td>\n",
       "      <td>2020-12-01T02:00:00+00:00</td>\n",
       "      <td>NaN</td>\n",
       "      <td>50.785099</td>\n",
       "      <td>-1.091540</td>\n",
       "      <td>Male</td>\n",
       "      <td>over 34</td>\n",
       "      <td>White - Any other White background</td>\n",
       "      <td>Other</td>\n",
       "      <td>Misuse of Drugs Act 1971 (section 23)</td>\n",
       "      <td>Controlled drugs</td>\n",
       "      <td>A no further action disposal</td>\n",
       "      <td>False</td>\n",
       "      <td>False</td>\n",
       "      <td>hampshire</td>\n",
       "    </tr>\n",
       "    <tr>\n",
       "      <th>2</th>\n",
       "      <td>cb5c685d-acac-42e2-914d-75e6ff73b0a8</td>\n",
       "      <td>Person search</td>\n",
       "      <td>2020-12-01T09:15:00+00:00</td>\n",
       "      <td>NaN</td>\n",
       "      <td>50.952006</td>\n",
       "      <td>-1.403341</td>\n",
       "      <td>Male</td>\n",
       "      <td>over 34</td>\n",
       "      <td>White - English/Welsh/Scottish/Northern Irish/...</td>\n",
       "      <td>White</td>\n",
       "      <td>Misuse of Drugs Act 1971 (section 23)</td>\n",
       "      <td>Controlled drugs</td>\n",
       "      <td>A no further action disposal</td>\n",
       "      <td>False</td>\n",
       "      <td>True</td>\n",
       "      <td>hampshire</td>\n",
       "    </tr>\n",
       "    <tr>\n",
       "      <th>3</th>\n",
       "      <td>f486e116-5b1e-45db-9931-a7f070c5c478</td>\n",
       "      <td>Person search</td>\n",
       "      <td>2020-12-01T10:20:00+00:00</td>\n",
       "      <td>NaN</td>\n",
       "      <td>50.806383</td>\n",
       "      <td>-1.079844</td>\n",
       "      <td>Male</td>\n",
       "      <td>10-17</td>\n",
       "      <td>Other ethnic group - Not stated</td>\n",
       "      <td>White</td>\n",
       "      <td>Police and Criminal Evidence Act 1984 (section 1)</td>\n",
       "      <td>Stolen goods</td>\n",
       "      <td>A no further action disposal</td>\n",
       "      <td>False</td>\n",
       "      <td>False</td>\n",
       "      <td>hampshire</td>\n",
       "    </tr>\n",
       "    <tr>\n",
       "      <th>4</th>\n",
       "      <td>78f4020e-12cc-4889-bf1a-2f2c29b2f662</td>\n",
       "      <td>Person search</td>\n",
       "      <td>2020-12-01T10:24:00+00:00</td>\n",
       "      <td>NaN</td>\n",
       "      <td>50.806670</td>\n",
       "      <td>-1.081982</td>\n",
       "      <td>Male</td>\n",
       "      <td>10-17</td>\n",
       "      <td>Other ethnic group - Not stated</td>\n",
       "      <td>Asian</td>\n",
       "      <td>Police and Criminal Evidence Act 1984 (section 1)</td>\n",
       "      <td>Offensive weapons</td>\n",
       "      <td>A no further action disposal</td>\n",
       "      <td>False</td>\n",
       "      <td>False</td>\n",
       "      <td>hampshire</td>\n",
       "    </tr>\n",
       "    <tr>\n",
       "      <th>...</th>\n",
       "      <td>...</td>\n",
       "      <td>...</td>\n",
       "      <td>...</td>\n",
       "      <td>...</td>\n",
       "      <td>...</td>\n",
       "      <td>...</td>\n",
       "      <td>...</td>\n",
       "      <td>...</td>\n",
       "      <td>...</td>\n",
       "      <td>...</td>\n",
       "      <td>...</td>\n",
       "      <td>...</td>\n",
       "      <td>...</td>\n",
       "      <td>...</td>\n",
       "      <td>...</td>\n",
       "      <td>...</td>\n",
       "    </tr>\n",
       "    <tr>\n",
       "      <th>856605</th>\n",
       "      <td>ee337b9a-12ad-45fd-8c60-49091a0f4ab8</td>\n",
       "      <td>Person and Vehicle search</td>\n",
       "      <td>2020-04-30T15:10:00+00:00</td>\n",
       "      <td>NaN</td>\n",
       "      <td>54.965502</td>\n",
       "      <td>-1.604609</td>\n",
       "      <td>Male</td>\n",
       "      <td>18-24</td>\n",
       "      <td>White - Any other White background</td>\n",
       "      <td>White</td>\n",
       "      <td>Misuse of Drugs Act 1971 (section 23)</td>\n",
       "      <td>Controlled drugs</td>\n",
       "      <td>A no further action disposal</td>\n",
       "      <td>True</td>\n",
       "      <td>False</td>\n",
       "      <td>northumbria</td>\n",
       "    </tr>\n",
       "    <tr>\n",
       "      <th>856606</th>\n",
       "      <td>5973a004-e579-4dd2-bc26-71ab5717f87a</td>\n",
       "      <td>Person and Vehicle search</td>\n",
       "      <td>2020-04-30T15:10:00+00:00</td>\n",
       "      <td>NaN</td>\n",
       "      <td>54.965502</td>\n",
       "      <td>-1.604609</td>\n",
       "      <td>Male</td>\n",
       "      <td>25-34</td>\n",
       "      <td>White - Any other White background</td>\n",
       "      <td>Other</td>\n",
       "      <td>Misuse of Drugs Act 1971 (section 23)</td>\n",
       "      <td>Controlled drugs</td>\n",
       "      <td>A no further action disposal</td>\n",
       "      <td>True</td>\n",
       "      <td>True</td>\n",
       "      <td>northumbria</td>\n",
       "    </tr>\n",
       "    <tr>\n",
       "      <th>856607</th>\n",
       "      <td>ad053a34-364e-4d24-8f5c-9734ab5fdbe0</td>\n",
       "      <td>Person and Vehicle search</td>\n",
       "      <td>2020-04-30T17:00:00+00:00</td>\n",
       "      <td>NaN</td>\n",
       "      <td>54.966266</td>\n",
       "      <td>-1.453704</td>\n",
       "      <td>Male</td>\n",
       "      <td>18-24</td>\n",
       "      <td>White - English/Welsh/Scottish/Northern Irish/...</td>\n",
       "      <td>White</td>\n",
       "      <td>Misuse of Drugs Act 1971 (section 23)</td>\n",
       "      <td>Controlled drugs</td>\n",
       "      <td>Khat or Cannabis warning</td>\n",
       "      <td>True</td>\n",
       "      <td>False</td>\n",
       "      <td>northumbria</td>\n",
       "    </tr>\n",
       "    <tr>\n",
       "      <th>856608</th>\n",
       "      <td>8736e5ec-7ca2-420b-ad56-4dd88d27fe6e</td>\n",
       "      <td>Person search</td>\n",
       "      <td>2020-04-30T17:35:00+00:00</td>\n",
       "      <td>NaN</td>\n",
       "      <td>54.971596</td>\n",
       "      <td>-1.636589</td>\n",
       "      <td>Male</td>\n",
       "      <td>25-34</td>\n",
       "      <td>White - English/Welsh/Scottish/Northern Irish/...</td>\n",
       "      <td>White</td>\n",
       "      <td>Misuse of Drugs Act 1971 (section 23)</td>\n",
       "      <td>Controlled drugs</td>\n",
       "      <td>Arrest</td>\n",
       "      <td>True</td>\n",
       "      <td>False</td>\n",
       "      <td>northumbria</td>\n",
       "    </tr>\n",
       "    <tr>\n",
       "      <th>856609</th>\n",
       "      <td>a697ebdf-0ff2-4d6e-8c0e-1e6285858301</td>\n",
       "      <td>Person search</td>\n",
       "      <td>2020-04-30T17:36:00+00:00</td>\n",
       "      <td>NaN</td>\n",
       "      <td>54.972352</td>\n",
       "      <td>-1.637175</td>\n",
       "      <td>Male</td>\n",
       "      <td>18-24</td>\n",
       "      <td>White - English/Welsh/Scottish/Northern Irish/...</td>\n",
       "      <td>White</td>\n",
       "      <td>Misuse of Drugs Act 1971 (section 23)</td>\n",
       "      <td>Controlled drugs</td>\n",
       "      <td>Arrest</td>\n",
       "      <td>True</td>\n",
       "      <td>False</td>\n",
       "      <td>northumbria</td>\n",
       "    </tr>\n",
       "  </tbody>\n",
       "</table>\n",
       "<p>856610 rows × 16 columns</p>\n",
       "</div>"
      ],
      "text/plain": [
       "                              observation_id                       Type  \\\n",
       "0       2e4d0094-c30b-471b-a211-72a9790feca2              Person search   \n",
       "1       4779fbe8-6e05-4534-85fd-db32952ee309              Person search   \n",
       "2       cb5c685d-acac-42e2-914d-75e6ff73b0a8              Person search   \n",
       "3       f486e116-5b1e-45db-9931-a7f070c5c478              Person search   \n",
       "4       78f4020e-12cc-4889-bf1a-2f2c29b2f662              Person search   \n",
       "...                                      ...                        ...   \n",
       "856605  ee337b9a-12ad-45fd-8c60-49091a0f4ab8  Person and Vehicle search   \n",
       "856606  5973a004-e579-4dd2-bc26-71ab5717f87a  Person and Vehicle search   \n",
       "856607  ad053a34-364e-4d24-8f5c-9734ab5fdbe0  Person and Vehicle search   \n",
       "856608  8736e5ec-7ca2-420b-ad56-4dd88d27fe6e              Person search   \n",
       "856609  a697ebdf-0ff2-4d6e-8c0e-1e6285858301              Person search   \n",
       "\n",
       "                             Date Part of a policing operation   Latitude  \\\n",
       "0       2020-12-01T01:10:00+00:00                          NaN  50.798824   \n",
       "1       2020-12-01T02:00:00+00:00                          NaN  50.785099   \n",
       "2       2020-12-01T09:15:00+00:00                          NaN  50.952006   \n",
       "3       2020-12-01T10:20:00+00:00                          NaN  50.806383   \n",
       "4       2020-12-01T10:24:00+00:00                          NaN  50.806670   \n",
       "...                           ...                          ...        ...   \n",
       "856605  2020-04-30T15:10:00+00:00                          NaN  54.965502   \n",
       "856606  2020-04-30T15:10:00+00:00                          NaN  54.965502   \n",
       "856607  2020-04-30T17:00:00+00:00                          NaN  54.966266   \n",
       "856608  2020-04-30T17:35:00+00:00                          NaN  54.971596   \n",
       "856609  2020-04-30T17:36:00+00:00                          NaN  54.972352   \n",
       "\n",
       "        Longitude Gender Age range  \\\n",
       "0       -1.089471   Male     25-34   \n",
       "1       -1.091540   Male   over 34   \n",
       "2       -1.403341   Male   over 34   \n",
       "3       -1.079844   Male     10-17   \n",
       "4       -1.081982   Male     10-17   \n",
       "...           ...    ...       ...   \n",
       "856605  -1.604609   Male     18-24   \n",
       "856606  -1.604609   Male     25-34   \n",
       "856607  -1.453704   Male     18-24   \n",
       "856608  -1.636589   Male     25-34   \n",
       "856609  -1.637175   Male     18-24   \n",
       "\n",
       "                                   Self-defined ethnicity  \\\n",
       "0                         Other ethnic group - Not stated   \n",
       "1                      White - Any other White background   \n",
       "2       White - English/Welsh/Scottish/Northern Irish/...   \n",
       "3                         Other ethnic group - Not stated   \n",
       "4                         Other ethnic group - Not stated   \n",
       "...                                                   ...   \n",
       "856605                 White - Any other White background   \n",
       "856606                 White - Any other White background   \n",
       "856607  White - English/Welsh/Scottish/Northern Irish/...   \n",
       "856608  White - English/Welsh/Scottish/Northern Irish/...   \n",
       "856609  White - English/Welsh/Scottish/Northern Irish/...   \n",
       "\n",
       "       Officer-defined ethnicity  \\\n",
       "0                          White   \n",
       "1                          Other   \n",
       "2                          White   \n",
       "3                          White   \n",
       "4                          Asian   \n",
       "...                          ...   \n",
       "856605                     White   \n",
       "856606                     Other   \n",
       "856607                     White   \n",
       "856608                     White   \n",
       "856609                     White   \n",
       "\n",
       "                                              Legislation  \\\n",
       "0       Police and Criminal Evidence Act 1984 (section 1)   \n",
       "1                   Misuse of Drugs Act 1971 (section 23)   \n",
       "2                   Misuse of Drugs Act 1971 (section 23)   \n",
       "3       Police and Criminal Evidence Act 1984 (section 1)   \n",
       "4       Police and Criminal Evidence Act 1984 (section 1)   \n",
       "...                                                   ...   \n",
       "856605              Misuse of Drugs Act 1971 (section 23)   \n",
       "856606              Misuse of Drugs Act 1971 (section 23)   \n",
       "856607              Misuse of Drugs Act 1971 (section 23)   \n",
       "856608              Misuse of Drugs Act 1971 (section 23)   \n",
       "856609              Misuse of Drugs Act 1971 (section 23)   \n",
       "\n",
       "                Object of search                       Outcome  \\\n",
       "0       Article for use in theft          Community resolution   \n",
       "1               Controlled drugs  A no further action disposal   \n",
       "2               Controlled drugs  A no further action disposal   \n",
       "3                   Stolen goods  A no further action disposal   \n",
       "4              Offensive weapons  A no further action disposal   \n",
       "...                          ...                           ...   \n",
       "856605          Controlled drugs  A no further action disposal   \n",
       "856606          Controlled drugs  A no further action disposal   \n",
       "856607          Controlled drugs      Khat or Cannabis warning   \n",
       "856608          Controlled drugs                        Arrest   \n",
       "856609          Controlled drugs                        Arrest   \n",
       "\n",
       "       Outcome linked to object of search  \\\n",
       "0                                   False   \n",
       "1                                   False   \n",
       "2                                   False   \n",
       "3                                   False   \n",
       "4                                   False   \n",
       "...                                   ...   \n",
       "856605                               True   \n",
       "856606                               True   \n",
       "856607                               True   \n",
       "856608                               True   \n",
       "856609                               True   \n",
       "\n",
       "       Removal of more than just outer clothing      station  \n",
       "0                                         False    hampshire  \n",
       "1                                         False    hampshire  \n",
       "2                                          True    hampshire  \n",
       "3                                         False    hampshire  \n",
       "4                                         False    hampshire  \n",
       "...                                         ...          ...  \n",
       "856605                                    False  northumbria  \n",
       "856606                                     True  northumbria  \n",
       "856607                                    False  northumbria  \n",
       "856608                                    False  northumbria  \n",
       "856609                                    False  northumbria  \n",
       "\n",
       "[856610 rows x 16 columns]"
      ]
     },
     "execution_count": 22,
     "metadata": {},
     "output_type": "execute_result"
    }
   ],
   "source": [
    "df_"
   ]
  },
  {
   "cell_type": "code",
   "execution_count": null,
   "metadata": {},
   "outputs": [],
   "source": []
  },
  {
   "cell_type": "code",
   "execution_count": 27,
   "metadata": {},
   "outputs": [
    {
     "data": {
      "text/plain": [
       "Outcome linked to object of search  Legislation                                              Outcome                        \n",
       "False                               Misuse of Drugs Act 1971 (section 23)                    A no further action disposal       63508\n",
       "                                                                                             Arrest                              7928\n",
       "                                                                                             Community resolution                2852\n",
       "                                                                                             Summons / charged by post           1623\n",
       "                                                                                             Khat or Cannabis warning             668\n",
       "                                                                                             Penalty Notice for Disorder          297\n",
       "                                                                                             Caution (simple or conditional)      290\n",
       "                                    Police and Criminal Evidence Act 1984 (section 1)        A no further action disposal         223\n",
       "                                    Psychoactive Substances Act 2016 (s36(2))                A no further action disposal         208\n",
       "                                    Police and Criminal Evidence Act 1984 (section 1)        Community resolution                  85\n",
       "                                                                                             Arrest                                81\n",
       "                                    Psychoactive Substances Act 2016 (s36(2))                Arrest                                35\n",
       "                                    Police and Criminal Evidence Act 1984 (section 1)        Summons / charged by post             17\n",
       "                                                                                             Khat or Cannabis warning              12\n",
       "                                    Firearms Act 1968 (section 47)                           A no further action disposal          10\n",
       "                                    Criminal Justice Act 1988 (section 139B)                 Arrest                                10\n",
       "                                    Police and Criminal Evidence Act 1984 (section 1)        Caution (simple or conditional)        5\n",
       "                                    Aviation Security Act 1982 (section 27(1))               A no further action disposal           2\n",
       "                                    Firearms Act 1968 (section 47)                           Community resolution                   2\n",
       "                                                                                             Arrest                                 2\n",
       "                                    Deer Act 1991 (section 12)                               A no further action disposal           2\n",
       "                                    Poaching Prevention Act 1862 (section 2)                 A no further action disposal           1\n",
       "                                    Criminal Justice Act 1988 (section 139B)                 A no further action disposal           1\n",
       "                                    Firearms Act 1968 (section 47)                           Summons / charged by post              1\n",
       "                                    Police and Criminal Evidence Act 1984 (section 1)        Penalty Notice for Disorder            1\n",
       "                                    Customs and Excise Management Act 1979 (section 163)     A no further action disposal           1\n",
       "                                    Criminal Justice and Public Order Act 1994 (section 60)  A no further action disposal           1\n",
       "                                    Psychoactive Substances Act 2016 (s36(2))                Penalty Notice for Disorder            1\n",
       "                                                                                             Summons / charged by post              1\n",
       "dtype: int64"
      ]
     },
     "execution_count": 27,
     "metadata": {},
     "output_type": "execute_result"
    }
   ],
   "source": [
    "df_.loc[(df_['Outcome linked to object of search'] == False) & (df_['Object of search'] == 'Controlled drugs'), ['Outcome linked to object of search', 'Legislation', 'Outcome']].value_counts()"
   ]
  },
  {
   "cell_type": "code",
   "execution_count": 7,
   "metadata": {},
   "outputs": [
    {
     "data": {
      "text/plain": [
       "'c'"
      ]
     },
     "execution_count": 7,
     "metadata": {},
     "output_type": "execute_result"
    }
   ],
   "source": [
    "a = ['a' , 'b']\n",
    "b = ['c', 'd']\n",
    "\n",
    "z = [(x,y) for x in a for y in b]\n",
    "\n",
    "z[0][1]"
   ]
  }
 ],
 "metadata": {
  "kernelspec": {
   "display_name": "cap_prod",
   "language": "python",
   "name": "python3"
  },
  "language_info": {
   "codemirror_mode": {
    "name": "ipython",
    "version": 3
   },
   "file_extension": ".py",
   "mimetype": "text/x-python",
   "name": "python",
   "nbconvert_exporter": "python",
   "pygments_lexer": "ipython3",
   "version": "3.8.14"
  },
  "orig_nbformat": 4
 },
 "nbformat": 4,
 "nbformat_minor": 2
}
