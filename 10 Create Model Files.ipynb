{
 "cells": [
  {
   "cell_type": "code",
   "execution_count": 28,
   "metadata": {},
   "outputs": [],
   "source": [
    "import aux_functions\n",
    "from app_functions import attempt_predict\n",
    "from transformers import TimeTransformer2, BoolTransformer, lat_lon_imputer, Group_Age_Range, Group_Ethnicity\n",
    "\n",
    "import json\n",
    "import joblib\n",
    "import pickle\n",
    "import requests\n",
    "from time import sleep\n",
    "import random\n",
    "\n",
    "import pandas as pd\n",
    "pd.set_option('display.max_columns', 100)\n",
    "import os\n",
    "import matplotlib.pyplot as plt\n",
    "import matplotlib.gridspec as gridspec\n",
    "import seaborn as sns\n",
    "import numpy as np\n",
    "import datetime as dt\n",
    "\n",
    "from sklearn.model_selection import train_test_split\n",
    "from sklearn.pipeline import make_pipeline, Pipeline\n",
    "from sklearn.base import BaseEstimator, TransformerMixin\n",
    "from sklearn.model_selection import cross_val_score\n",
    "# from category_encoders import OneHotEncoder\n",
    "from sklearn.impute import SimpleImputer, KNNImputer\n",
    "from sklearn.preprocessing import StandardScaler, MinMaxScaler, OneHotEncoder, LabelEncoder, RobustScaler, OrdinalEncoder\n",
    "from category_encoders.target_encoder import TargetEncoder\n",
    "from sklearn.compose import ColumnTransformer\n",
    "from sklearn.ensemble import RandomForestClassifier\n",
    "from sklearn.linear_model import LogisticRegression\n",
    "from sklearn.tree import DecisionTreeClassifier\n",
    "from sklearn.ensemble import GradientBoostingClassifier\n",
    "from sklearn.svm import SVC, LinearSVC\n",
    "from sklearn.neighbors import KNeighborsClassifier\n",
    "from sklearn.naive_bayes import GaussianNB, BernoulliNB, MultinomialNB, CategoricalNB\n",
    "\n",
    "from imblearn.over_sampling import RandomOverSampler, SMOTE\n",
    "from imblearn.under_sampling import RandomUnderSampler\n",
    "\n",
    "from sklearn.utils import resample\n",
    "from sklearn.metrics import precision_score, recall_score, f1_score,  accuracy_score, roc_auc_score, make_scorer, confusion_matrix, roc_curve\n",
    "\n",
    "# needed to use matplotlib inside jupyter notebook\n",
    "%matplotlib inline "
   ]
  },
  {
   "cell_type": "markdown",
   "metadata": {},
   "source": [
    "# Get the data"
   ]
  },
  {
   "cell_type": "code",
   "execution_count": 29,
   "metadata": {},
   "outputs": [],
   "source": [
    "df_ = pd.read_csv(\"data/train.csv\")\n",
    "\n",
    "drop_cols = ['Self-defined ethnicity', 'Outcome', 'Outcome linked to object of search', 'Removal of more than just outer clothing']\n",
    "\n",
    "df_clean = aux_functions.clean_data(df_, drop_cols)"
   ]
  },
  {
   "cell_type": "markdown",
   "metadata": {},
   "source": [
    "# Pipeline Definition"
   ]
  },
  {
   "cell_type": "code",
   "execution_count": 30,
   "metadata": {},
   "outputs": [],
   "source": [
    "def create_pipeline(df, model):\n",
    "\n",
    "    y = df[\"target\"].copy()\n",
    "    X = df.drop(columns=[\"target\"]).copy()\n",
    "\n",
    "\n",
    "    time_cols = ['Date']\n",
    "\n",
    "    categorical_cols = ['Type', 'Object of search']\n",
    "    \n",
    "    bool_cols = ['Part of a policing operation']\n",
    "\n",
    "    numerical_cols = ['Latitude', 'Longitude', 'station'] # station is needed for NaN imputing\n",
    "\n",
    "    # Define timeseries pipeline\n",
    "    time_pipe = Pipeline([\n",
    "            ('time_transformer', TimeTransformer2()),\n",
    "            ('scaler', MinMaxScaler())\n",
    "        ])\n",
    "    \n",
    "    \n",
    "    # Define categorical pipeline\n",
    "    cat_pipe = Pipeline([\n",
    "            ('imputer', SimpleImputer(strategy='most_frequent')),\n",
    "            ('encoder', TargetEncoder(handle_unknown='value', min_samples_leaf=20 , smoothing=10))\n",
    "        ])\n",
    "    \n",
    "    # Define boolean pipeline\n",
    "    bool_pipe = Pipeline([\n",
    "            ('bool_transformer', BoolTransformer())\n",
    "        ])\n",
    "\n",
    "    # Define numerical pipeline\n",
    "    numeric_pipe = Pipeline([\n",
    "            ('imputer', lat_lon_imputer()),\n",
    "            ('scaler', MinMaxScaler())\n",
    "        ])\n",
    "\n",
    "    \n",
    "    # Combine categorical and numerical pipelines\n",
    "    preprocessor = ColumnTransformer([\n",
    "        ('time_transformer', time_pipe, time_cols),\n",
    "        ('cat', cat_pipe, categorical_cols),\n",
    "        ('bool', bool_pipe, bool_cols),\n",
    "        ('num', numeric_pipe, numerical_cols)],\n",
    "    remainder='drop')\n",
    "\n",
    "\n",
    "    # Fit a pipeline with transformers and an estimator to the training data\n",
    "    pipeline = Pipeline([\n",
    "            ('preprocessor', preprocessor),\n",
    "            ('model', model)\n",
    "        ])\n",
    "\n",
    "    rus = RandomUnderSampler(random_state=42)\n",
    "    X_resampled, y_resampled = rus.fit_resample(X, y)\n",
    "\n",
    "    pipeline.fit(X_resampled, np.ravel(y_resampled))\n",
    "    # pipeline.fit(X, np.ravel(y))\n",
    "\n",
    "\n",
    "    return pipeline, X_resampled, y_resampled\n",
    "    # return pipeline, X, y\n",
    "\n",
    "\n",
    "def see_cross_val(pipeline, X, y):\n",
    "\n",
    "    prec_scorer = make_scorer(precision_score)\n",
    "\n",
    "    prec_scores = cross_val_score(pipeline, X, np.ravel(y), cv=5, scoring=prec_scorer)\n",
    "    print(prec_scores)"
   ]
  },
  {
   "attachments": {},
   "cell_type": "markdown",
   "metadata": {},
   "source": [
    "# Train the Model with all the Data"
   ]
  },
  {
   "cell_type": "code",
   "execution_count": 31,
   "metadata": {},
   "outputs": [
    {
     "name": "stdout",
     "output_type": "stream",
     "text": [
      "[0.52007437 0.54811129 0.51345917 0.5432847  0.53321139]\n"
     ]
    }
   ],
   "source": [
    "# Check transformed data\n",
    "\n",
    "model = GaussianNB()\n",
    "\n",
    "pipeline, X, y = create_pipeline(df_clean, model)\n",
    "\n",
    "see_cross_val(pipeline, X, y)"
   ]
  },
  {
   "attachments": {},
   "cell_type": "markdown",
   "metadata": {},
   "source": [
    "# Extract Model Files"
   ]
  },
  {
   "cell_type": "code",
   "execution_count": 32,
   "metadata": {},
   "outputs": [
    {
     "data": {
      "text/plain": [
       "['pipeline.pickle']"
      ]
     },
     "execution_count": 32,
     "metadata": {},
     "output_type": "execute_result"
    }
   ],
   "source": [
    "with open(\"columns.json\", 'w') as fh:\n",
    "    json.dump(X_train.columns.tolist(), fh)\n",
    "\n",
    "\n",
    "with open(\"dtypes.pickle\", 'wb') as fh:\n",
    "    pickle.dump(X_train.dtypes, fh)\n",
    "\n",
    "joblib.dump(pipeline, \"pipeline.pickle\") "
   ]
  },
  {
   "attachments": {},
   "cell_type": "markdown",
   "metadata": {},
   "source": [
    "# Test the App"
   ]
  },
  {
   "cell_type": "code",
   "execution_count": 37,
   "metadata": {},
   "outputs": [
    {
     "name": "stdout",
     "output_type": "stream",
     "text": [
      "{'observation_id': 'eeb891e3-3913-4590-82a9-dc23c212dceb', 'Type': 'Person search', 'Date': '2022-04-18T22:24:57+00:00', 'Part of a policing operation': nan, 'Latitude': nan, 'Longitude': nan, 'Gender': 'Male', 'Age range': '10-17', 'Officer-defined ethnicity': 'Other', 'Legislation': 'Police and Criminal Evidence Act 1984 (section 1)', 'Object of search': 'Articles for use in criminal damage', 'station': 'city-of-london'}\n",
      "{'observation_id': '1558a55e-3df2-4665-8beb-0f0c5eaa0408', 'Type': 'Person search', 'Date': '2022-04-06T18:25:00+00:00', 'Part of a policing operation': True, 'Latitude': nan, 'Longitude': nan, 'Gender': 'Male', 'Age range': '10-17', 'Officer-defined ethnicity': 'White', 'Legislation': 'Misuse of Drugs Act 1971 (section 23)', 'Object of search': 'Controlled drugs', 'station': 'nottinghamshire'}\n",
      "{'observation_id': 'eeb891e3-3913-4590-82a9-dc23c212dceb', 'Type': 'Person search', 'Date': '2022-04-18T22:24:57+00:00', 'Part of a policing operation': nan, 'Latitude': nan, 'Longitude': nan, 'Gender': 'Male', 'Age range': '10-17', 'Officer-defined ethnicity': 'Other', 'Legislation': 'Police and Criminal Evidence Act 1984 (section 1)', 'Object of search': 'Articles for use in criminal damage', 'station': 'city-of-london'}\n",
      "{'observation_id': '898d6606-c55b-4a54-9480-f967beaff1cf', 'Type': 'Person and Vehicle search', 'Date': '2022-01-07T20:20:00+00:00', 'Part of a policing operation': True, 'Latitude': nan, 'Longitude': nan, 'Gender': 'Male', 'Age range': '25-34', 'Officer-defined ethnicity': 'White', 'Legislation': 'Misuse of Drugs Act 1971 (section 23)', 'Object of search': 'Controlled drugs', 'station': 'nottinghamshire'}\n",
      "{'observation_id': '3ff08b3c-c1fc-4c9f-97fe-470cf3a61cef', 'Type': 'Person search', 'Date': '2022-05-08T20:21:00+00:00', 'Part of a policing operation': True, 'Latitude': nan, 'Longitude': nan, 'Gender': 'Male', 'Age range': 'over 34', 'Officer-defined ethnicity': 'White', 'Legislation': 'Misuse of Drugs Act 1971 (section 23)', 'Object of search': 'Controlled drugs', 'station': 'nottinghamshire'}\n",
      "{'observation_id': '73d7c589-7605-42ab-9c5c-d0fbb897adb0', 'Type': 'Person search', 'Date': '2022-02-12T01:43:00+00:00', 'Part of a policing operation': nan, 'Latitude': 54.525683, 'Longitude': -1.556382, 'Gender': 'Male', 'Age range': 'over 34', 'Officer-defined ethnicity': 'White', 'Legislation': 'Police and Criminal Evidence Act 1984 (section 1)', 'Object of search': 'Article for use in theft', 'station': 'durham'}\n",
      "{'observation_id': '1d276941-2dd7-4cc0-b14d-764ee8bcd966', 'Type': 'Person search', 'Date': '2022-05-13T18:23:00+00:00', 'Part of a policing operation': True, 'Latitude': nan, 'Longitude': nan, 'Gender': 'Male', 'Age range': '25-34', 'Officer-defined ethnicity': 'White', 'Legislation': 'Misuse of Drugs Act 1971 (section 23)', 'Object of search': 'Controlled drugs', 'station': 'nottinghamshire'}\n",
      "{'observation_id': 'fd0a32a8-1672-45da-bf93-b93524441b24', 'Type': 'Person search', 'Date': '2022-01-26T01:48:18+00:00', 'Part of a policing operation': nan, 'Latitude': 52.558052, 'Longitude': -0.272402, 'Gender': 'Female', 'Age range': 'over 34', 'Officer-defined ethnicity': 'White', 'Legislation': 'Misuse of Drugs Act 1971 (section 23)', 'Object of search': 'Controlled drugs', 'station': 'cambridgeshire'}\n",
      "{'observation_id': '15af9195-3fa0-40aa-9083-da7767f0c801', 'Type': 'Person search', 'Date': '2022-02-16T05:01:31+00:00', 'Part of a policing operation': nan, 'Latitude': 51.513463, 'Longitude': -0.082913, 'Gender': 'Male', 'Age range': '18-24', 'Officer-defined ethnicity': 'White', 'Legislation': 'Misuse of Drugs Act 1971 (section 23)', 'Object of search': 'Controlled drugs', 'station': 'city-of-london'}\n",
      "{'observation_id': '9ac66922-d13b-4877-8bab-41ef925d3bb8', 'Type': 'Person search', 'Date': '2022-03-04T23:48:16+00:00', 'Part of a policing operation': nan, 'Latitude': 52.339135, 'Longitude': -0.163148, 'Gender': 'Male', 'Age range': '10-17', 'Officer-defined ethnicity': 'White', 'Legislation': 'Misuse of Drugs Act 1971 (section 23)', 'Object of search': 'Controlled drugs', 'station': 'cambridgeshire'}\n",
      "{'observation_id': '27dc412f-64e2-4245-9a25-db0514b2e980', 'Type': 'Person search', 'Date': '2022-03-17T20:20:00+00:00', 'Part of a policing operation': True, 'Latitude': nan, 'Longitude': nan, 'Gender': 'Male', 'Age range': '18-24', 'Officer-defined ethnicity': 'White', 'Legislation': 'Police and Criminal Evidence Act 1984 (section 1)', 'Object of search': 'Articles for use in criminal damage', 'station': 'nottinghamshire'}\n",
      "{'observation_id': 'aeed813b-d4e9-489d-81b3-9b8ec8f62d52', 'Type': 'Person search', 'Date': '2022-05-13T22:58:26+00:00', 'Part of a policing operation': nan, 'Latitude': 52.525437, 'Longitude': -0.261064, 'Gender': 'Male', 'Age range': '10-17', 'Officer-defined ethnicity': 'White', 'Legislation': 'Misuse of Drugs Act 1971 (section 23)', 'Object of search': 'Controlled drugs', 'station': 'cambridgeshire'}\n",
      "{'observation_id': 'caabe84e-97e0-4305-b540-eda6d56e51f3', 'Type': 'Person search', 'Date': '2022-04-17T22:45:00+00:00', 'Part of a policing operation': nan, 'Latitude': 54.523648, 'Longitude': -1.557748, 'Gender': 'Male', 'Age range': '18-24', 'Officer-defined ethnicity': 'White', 'Legislation': 'Misuse of Drugs Act 1971 (section 23)', 'Object of search': 'Controlled drugs', 'station': 'durham'}\n",
      "{'observation_id': '29d64e93-a47d-45ba-b02f-258f0c459091', 'Type': 'Person search', 'Date': '2022-01-28T10:10:00+00:00', 'Part of a policing operation': False, 'Latitude': nan, 'Longitude': nan, 'Gender': 'Male', 'Age range': '10-17', 'Officer-defined ethnicity': 'Asian', 'Legislation': 'Police and Criminal Evidence Act 1984 (section 1)', 'Object of search': 'Offensive weapons', 'station': 'nottinghamshire'}\n",
      "{'observation_id': '1037c940-3a60-47eb-bef4-2596218725f0', 'Type': 'Person search', 'Date': '2022-04-02T19:00:00+00:00', 'Part of a policing operation': nan, 'Latitude': 54.857714, 'Longitude': -1.611271, 'Gender': 'Male', 'Age range': '25-34', 'Officer-defined ethnicity': 'White', 'Legislation': 'Police and Criminal Evidence Act 1984 (section 1)', 'Object of search': 'Offensive weapons', 'station': 'durham'}\n",
      "{'observation_id': '923a1db5-1a27-4eb0-92ea-819c7ffdf85e', 'Type': 'Person search', 'Date': '2022-04-11T09:41:57+00:00', 'Part of a policing operation': nan, 'Latitude': 52.204443, 'Longitude': 0.103386, 'Gender': 'Male', 'Age range': '18-24', 'Officer-defined ethnicity': 'Black', 'Legislation': 'Misuse of Drugs Act 1971 (section 23)', 'Object of search': 'Controlled drugs', 'station': 'cambridgeshire'}\n",
      "{'observation_id': '9249984b-5b19-4730-95d2-201197fff581', 'Type': 'Person and Vehicle search', 'Date': '2022-04-28T20:10:00+00:00', 'Part of a policing operation': False, 'Latitude': nan, 'Longitude': nan, 'Gender': 'Male', 'Age range': 'over 34', 'Officer-defined ethnicity': 'White', 'Legislation': 'Misuse of Drugs Act 1971 (section 23)', 'Object of search': 'Controlled drugs', 'station': 'nottinghamshire'}\n",
      "{'observation_id': 'e477ebd7-a324-4d63-9def-51b5f6a81a54', 'Type': 'Person and Vehicle search', 'Date': '2022-03-17T10:37:51+00:00', 'Part of a policing operation': nan, 'Latitude': 52.225282, 'Longitude': 0.119716, 'Gender': 'Male', 'Age range': '18-24', 'Officer-defined ethnicity': 'Asian', 'Legislation': 'Misuse of Drugs Act 1971 (section 23)', 'Object of search': 'Controlled drugs', 'station': 'cambridgeshire'}\n",
      "{'observation_id': 'd46707aa-cf72-4fb4-aa64-fe6eff29e8f7', 'Type': 'Person and Vehicle search', 'Date': '2022-03-15T21:34:00+00:00', 'Part of a policing operation': False, 'Latitude': nan, 'Longitude': nan, 'Gender': 'Male', 'Age range': '18-24', 'Officer-defined ethnicity': 'Asian', 'Legislation': 'Police and Criminal Evidence Act 1984 (section 1)', 'Object of search': 'Article for use in theft', 'station': 'nottinghamshire'}\n",
      "{'observation_id': '06e5e365-15a8-465a-8092-eef6762a78d7', 'Type': 'Person search', 'Date': '2022-04-27T08:02:00+00:00', 'Part of a policing operation': nan, 'Latitude': 54.630745, 'Longitude': -1.651373, 'Gender': 'Male', 'Age range': 'over 34', 'Officer-defined ethnicity': 'White', 'Legislation': 'Police and Criminal Evidence Act 1984 (section 1)', 'Object of search': 'Article for use in theft', 'station': 'durham'}\n",
      "{'observation_id': '89f0b741-dd82-4600-8b98-4c3230a0540d', 'Type': 'Person search', 'Date': '2022-03-09T05:33:02+00:00', 'Part of a policing operation': nan, 'Latitude': nan, 'Longitude': nan, 'Gender': 'Male', 'Age range': 'over 34', 'Officer-defined ethnicity': 'White', 'Legislation': 'Misuse of Drugs Act 1971 (section 23)', 'Object of search': 'Controlled drugs', 'station': 'city-of-london'}\n"
     ]
    }
   ],
   "source": [
    "with open('data/trial_moment_1.json') as moment_1:\n",
    "  parsed_json = json.load(moment_1)\n",
    "\n",
    "print(parsed_json[1][\"data\"])\n",
    "\n",
    "for n in range(len(parsed_json)):\n",
    "  print(parsed_json[n][\"data\"])"
   ]
  },
  {
   "cell_type": "code",
   "execution_count": 40,
   "metadata": {},
   "outputs": [
    {
     "name": "stdout",
     "output_type": "stream",
     "text": [
      "False\n"
     ]
    }
   ],
   "source": [
    "print(~np.isnan(parsed_json[0][\"data\"][\"Latitude\"]))"
   ]
  },
  {
   "cell_type": "code",
   "execution_count": 44,
   "metadata": {},
   "outputs": [],
   "source": [
    "APP_NAME = 'ldsacapstone-production.up.railway.app'"
   ]
  },
  {
   "cell_type": "code",
   "execution_count": 53,
   "metadata": {},
   "outputs": [
    {
     "data": {
      "text/plain": [
       "{'observation_id': 'eeb891e3-3913-4590-82a9-dc23c212dceb',\n",
       " 'Type': 'Person search',\n",
       " 'Date': '2022-04-18T22:24:57+00:00',\n",
       " 'Part of a policing operation': nan,\n",
       " 'Latitude': nan,\n",
       " 'Longitude': nan,\n",
       " 'Gender': 'Male',\n",
       " 'Age range': '10-17',\n",
       " 'Officer-defined ethnicity': 'Other',\n",
       " 'Legislation': 'Police and Criminal Evidence Act 1984 (section 1)',\n",
       " 'Object of search': 'Articles for use in criminal damage',\n",
       " 'station': 'city-of-london'}"
      ]
     },
     "execution_count": 53,
     "metadata": {},
     "output_type": "execute_result"
    }
   ],
   "source": [
    "parsed_json[1][\"data\"]"
   ]
  },
  {
   "cell_type": "code",
   "execution_count": 63,
   "metadata": {},
   "outputs": [
    {
     "data": {
      "text/plain": [
       "'nan'"
      ]
     },
     "execution_count": 63,
     "metadata": {},
     "output_type": "execute_result"
    }
   ],
   "source": [
    "str(np.NaN)"
   ]
  },
  {
   "cell_type": "code",
   "execution_count": 65,
   "metadata": {},
   "outputs": [
    {
     "data": {
      "text/plain": [
       "nan"
      ]
     },
     "execution_count": 65,
     "metadata": {},
     "output_type": "execute_result"
    }
   ],
   "source": [
    "float('nan')"
   ]
  },
  {
   "cell_type": "code",
   "execution_count": 64,
   "metadata": {},
   "outputs": [
    {
     "data": {
      "text/plain": [
       "<Response [200]>"
      ]
     },
     "metadata": {},
     "output_type": "display_data"
    },
    {
     "data": {
      "text/plain": [
       "b'{\\n  \"Part of a policing operation\": NaN, \\n  \"error\": \"Provided \\\\\"Part of a policing operation\\\\\" field is not of the correct data type\"\\n}\\n'"
      ]
     },
     "metadata": {},
     "output_type": "display_data"
    }
   ],
   "source": [
    "url = f\"https://{APP_NAME}/should_search/\"\n",
    "payload = parsed_json[1][\"data\"]\n",
    "r = requests.post(url, data=json.dumps(payload), headers={\"Content-Type\": \"application/json\"})\n",
    "display(r)\n",
    "display(r.content)\n",
    "\n",
    "\n"
   ]
  },
  {
   "cell_type": "code",
   "execution_count": null,
   "metadata": {},
   "outputs": [],
   "source": [
    "# Testing the /update endpoint\n",
    "\n",
    "url = f\"https://{APP_NAME}/search_result/\"\n",
    "payload = {\n",
    "    \"observation_id\": 'teste1-teste2-teste3-teste4-teste5',\n",
    "    \"outcome\": str(False)\n",
    "}\n",
    "\n",
    "r = requests.post(url, json=payload)\n",
    "display(r)\n",
    "display(r.content)"
   ]
  }
 ],
 "metadata": {
  "kernelspec": {
   "display_name": "cap_prod",
   "language": "python",
   "name": "python3"
  },
  "language_info": {
   "codemirror_mode": {
    "name": "ipython",
    "version": 3
   },
   "file_extension": ".py",
   "mimetype": "text/x-python",
   "name": "python",
   "nbconvert_exporter": "python",
   "pygments_lexer": "ipython3",
   "version": "3.8.14"
  },
  "orig_nbformat": 4
 },
 "nbformat": 4,
 "nbformat_minor": 2
}
