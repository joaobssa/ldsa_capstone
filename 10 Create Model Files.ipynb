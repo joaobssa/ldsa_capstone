{
 "cells": [
  {
   "cell_type": "code",
   "execution_count": 1,
   "metadata": {},
   "outputs": [],
   "source": [
    "import aux_functions\n",
    "from app_functions import attempt_predict\n",
    "from transformers import TimeTransformer2, BoolTransformer, lat_lon_imputer, Group_Age_Range, Group_Ethnicity\n",
    "\n",
    "import json\n",
    "import joblib\n",
    "import pickle\n",
    "import requests\n",
    "from time import sleep\n",
    "import random\n",
    "import sqlalchemy\n",
    "import psycopg2\n",
    "\n",
    "import pandas as pd\n",
    "pd.set_option('display.max_columns', 100)\n",
    "import os\n",
    "import matplotlib.pyplot as plt\n",
    "import matplotlib.gridspec as gridspec\n",
    "import seaborn as sns\n",
    "import numpy as np\n",
    "import datetime as dt\n",
    "\n",
    "from sklearn.model_selection import train_test_split\n",
    "from sklearn.pipeline import make_pipeline, Pipeline\n",
    "from sklearn.base import BaseEstimator, TransformerMixin\n",
    "from sklearn.model_selection import cross_val_score\n",
    "# from category_encoders import OneHotEncoder\n",
    "from sklearn.impute import SimpleImputer, KNNImputer\n",
    "from sklearn.preprocessing import StandardScaler, MinMaxScaler, OneHotEncoder, LabelEncoder, RobustScaler, OrdinalEncoder\n",
    "from category_encoders.target_encoder import TargetEncoder\n",
    "from sklearn.compose import ColumnTransformer\n",
    "from sklearn.ensemble import RandomForestClassifier\n",
    "from sklearn.linear_model import LogisticRegression\n",
    "from sklearn.tree import DecisionTreeClassifier\n",
    "from sklearn.ensemble import GradientBoostingClassifier\n",
    "from sklearn.svm import SVC, LinearSVC\n",
    "from sklearn.neighbors import KNeighborsClassifier\n",
    "from sklearn.naive_bayes import GaussianNB, BernoulliNB, MultinomialNB, CategoricalNB\n",
    "\n",
    "from imblearn.over_sampling import RandomOverSampler, SMOTE\n",
    "from imblearn.under_sampling import RandomUnderSampler\n",
    "\n",
    "from sklearn.utils import resample\n",
    "from sklearn.metrics import precision_score, recall_score, f1_score,  accuracy_score, roc_auc_score, make_scorer, confusion_matrix, roc_curve\n",
    "\n",
    "# needed to use matplotlib inside jupyter notebook\n",
    "%matplotlib inline "
   ]
  },
  {
   "cell_type": "markdown",
   "metadata": {},
   "source": [
    "# Get the data"
   ]
  },
  {
   "cell_type": "code",
   "execution_count": 2,
   "metadata": {},
   "outputs": [],
   "source": [
    "df_ = pd.read_csv(\"data/train.csv\")\n",
    "\n",
    "drop_cols = ['Self-defined ethnicity', 'Outcome', 'Outcome linked to object of search', 'Removal of more than just outer clothing']\n",
    "\n",
    "df_clean = aux_functions.clean_data(df_, drop_cols)"
   ]
  },
  {
   "cell_type": "markdown",
   "metadata": {},
   "source": [
    "# Pipeline Definition"
   ]
  },
  {
   "cell_type": "code",
   "execution_count": 3,
   "metadata": {},
   "outputs": [],
   "source": [
    "def create_pipeline(df, model):\n",
    "\n",
    "    y = df[\"target\"].copy()\n",
    "    X = df.drop(columns=[\"target\"]).copy()\n",
    "\n",
    "\n",
    "    time_cols = ['Date']\n",
    "\n",
    "    categorical_cols = ['Type', 'Object of search']\n",
    "    \n",
    "    bool_cols = ['Part of a policing operation']\n",
    "\n",
    "    numerical_cols = ['Latitude', 'Longitude', 'station'] # station is needed for NaN imputing\n",
    "\n",
    "    # Define timeseries pipeline\n",
    "    time_pipe = Pipeline([\n",
    "            ('time_transformer', TimeTransformer2()),\n",
    "            ('scaler', MinMaxScaler())\n",
    "        ])\n",
    "    \n",
    "    \n",
    "    # Define categorical pipeline\n",
    "    cat_pipe = Pipeline([\n",
    "            ('imputer', SimpleImputer(strategy='most_frequent')),\n",
    "            ('encoder', TargetEncoder(handle_unknown='value', min_samples_leaf=20 , smoothing=10))\n",
    "        ])\n",
    "    \n",
    "    # Define boolean pipeline\n",
    "    bool_pipe = Pipeline([\n",
    "            ('bool_transformer', BoolTransformer())\n",
    "        ])\n",
    "\n",
    "    # Define numerical pipeline\n",
    "    numeric_pipe = Pipeline([\n",
    "            ('imputer', lat_lon_imputer()),\n",
    "            ('extra_imputer', SimpleImputer(strategy='mean')),\n",
    "            ('scaler', MinMaxScaler())\n",
    "        ])\n",
    "\n",
    "    \n",
    "    # Combine categorical and numerical pipelines\n",
    "    preprocessor = ColumnTransformer([\n",
    "        ('time_transformer', time_pipe, time_cols),\n",
    "        ('cat', cat_pipe, categorical_cols),\n",
    "        ('bool', bool_pipe, bool_cols),\n",
    "        ('num', numeric_pipe, numerical_cols)],\n",
    "    remainder='drop')\n",
    "\n",
    "\n",
    "    # Fit a pipeline with transformers and an estimator to the training data\n",
    "    pipeline = Pipeline([\n",
    "            ('preprocessor', preprocessor),\n",
    "            ('model', model)\n",
    "        ])\n",
    "\n",
    "    rus = RandomUnderSampler(random_state=42)\n",
    "    X_resampled, y_resampled = rus.fit_resample(X, y)\n",
    "\n",
    "    pipeline.fit(X_resampled, np.ravel(y_resampled))\n",
    "    # pipeline.fit(X, np.ravel(y))\n",
    "\n",
    "\n",
    "    return pipeline, X_resampled, y_resampled\n",
    "    # return pipeline, X, y\n",
    "\n",
    "\n",
    "def see_cross_val(pipeline, X, y):\n",
    "\n",
    "    prec_scorer = make_scorer(precision_score)\n",
    "\n",
    "    prec_scores = cross_val_score(pipeline, X, np.ravel(y), cv=5, scoring=prec_scorer)\n",
    "    print(prec_scores)"
   ]
  },
  {
   "attachments": {},
   "cell_type": "markdown",
   "metadata": {},
   "source": [
    "# Train the Model with all the Data"
   ]
  },
  {
   "cell_type": "code",
   "execution_count": 4,
   "metadata": {},
   "outputs": [
    {
     "name": "stdout",
     "output_type": "stream",
     "text": [
      "[0.52007437 0.54811129 0.51345917 0.5432847  0.53321139]\n"
     ]
    }
   ],
   "source": [
    "# Check transformed data\n",
    "\n",
    "model = GaussianNB()\n",
    "\n",
    "pipeline, X, y = create_pipeline(df_clean, model)\n",
    "\n",
    "see_cross_val(pipeline, X, y)"
   ]
  },
  {
   "attachments": {},
   "cell_type": "markdown",
   "metadata": {},
   "source": [
    "# Extract Model Files"
   ]
  },
  {
   "cell_type": "code",
   "execution_count": 8,
   "metadata": {},
   "outputs": [
    {
     "data": {
      "text/plain": [
       "Index(['observation_id', 'Type', 'Date', 'Part of a policing operation',\n",
       "       'Latitude', 'Longitude', 'Gender', 'Age range',\n",
       "       'Officer-defined ethnicity', 'Legislation', 'Object of search',\n",
       "       'station'],\n",
       "      dtype='object')"
      ]
     },
     "execution_count": 8,
     "metadata": {},
     "output_type": "execute_result"
    }
   ],
   "source": [
    "X.columns"
   ]
  },
  {
   "cell_type": "code",
   "execution_count": 5,
   "metadata": {},
   "outputs": [
    {
     "data": {
      "text/plain": [
       "['pipeline.pickle']"
      ]
     },
     "execution_count": 5,
     "metadata": {},
     "output_type": "execute_result"
    }
   ],
   "source": [
    "with open(\"columns.json\", 'w') as fh:\n",
    "    json.dump(X.columns.tolist(), fh)\n",
    "\n",
    "\n",
    "with open(\"dtypes.pickle\", 'wb') as fh:\n",
    "    pickle.dump(X.dtypes, fh)\n",
    "\n",
    "joblib.dump(pipeline, \"pipeline.pickle\") "
   ]
  },
  {
   "cell_type": "code",
   "execution_count": 11,
   "metadata": {},
   "outputs": [
    {
     "data": {
      "text/plain": [
       "array([0])"
      ]
     },
     "execution_count": 11,
     "metadata": {},
     "output_type": "execute_result"
    }
   ],
   "source": [
    "pipeline.predict(df_.loc[df_['observation_id'] == 'ba138584-f313-467c-a6c5-74ef31ea5e0e', X.columns])"
   ]
  },
  {
   "attachments": {},
   "cell_type": "markdown",
   "metadata": {},
   "source": [
    "# Test the App"
   ]
  },
  {
   "cell_type": "code",
   "execution_count": 3,
   "metadata": {},
   "outputs": [
    {
     "name": "stdout",
     "output_type": "stream",
     "text": [
      "{'observation_id': 'eeb891e3-3913-4590-82a9-dc23c212dceb', 'Type': 'Person search', 'Date': '2022-04-18T22:24:57+00:00', 'Part of a policing operation': nan, 'Latitude': nan, 'Longitude': nan, 'Gender': 'Male', 'Age range': '10-17', 'Officer-defined ethnicity': 'Other', 'Legislation': 'Police and Criminal Evidence Act 1984 (section 1)', 'Object of search': 'Articles for use in criminal damage', 'station': 'city-of-london'}\n",
      "{'observation_id': '1558a55e-3df2-4665-8beb-0f0c5eaa0408', 'Type': 'Person search', 'Date': '2022-04-06T18:25:00+00:00', 'Part of a policing operation': True, 'Latitude': nan, 'Longitude': nan, 'Gender': 'Male', 'Age range': '10-17', 'Officer-defined ethnicity': 'White', 'Legislation': 'Misuse of Drugs Act 1971 (section 23)', 'Object of search': 'Controlled drugs', 'station': 'nottinghamshire'}\n",
      "{'observation_id': 'eeb891e3-3913-4590-82a9-dc23c212dceb', 'Type': 'Person search', 'Date': '2022-04-18T22:24:57+00:00', 'Part of a policing operation': nan, 'Latitude': nan, 'Longitude': nan, 'Gender': 'Male', 'Age range': '10-17', 'Officer-defined ethnicity': 'Other', 'Legislation': 'Police and Criminal Evidence Act 1984 (section 1)', 'Object of search': 'Articles for use in criminal damage', 'station': 'city-of-london'}\n",
      "{'observation_id': '898d6606-c55b-4a54-9480-f967beaff1cf', 'Type': 'Person and Vehicle search', 'Date': '2022-01-07T20:20:00+00:00', 'Part of a policing operation': True, 'Latitude': nan, 'Longitude': nan, 'Gender': 'Male', 'Age range': '25-34', 'Officer-defined ethnicity': 'White', 'Legislation': 'Misuse of Drugs Act 1971 (section 23)', 'Object of search': 'Controlled drugs', 'station': 'nottinghamshire'}\n",
      "{'observation_id': '3ff08b3c-c1fc-4c9f-97fe-470cf3a61cef', 'Type': 'Person search', 'Date': '2022-05-08T20:21:00+00:00', 'Part of a policing operation': True, 'Latitude': nan, 'Longitude': nan, 'Gender': 'Male', 'Age range': 'over 34', 'Officer-defined ethnicity': 'White', 'Legislation': 'Misuse of Drugs Act 1971 (section 23)', 'Object of search': 'Controlled drugs', 'station': 'nottinghamshire'}\n",
      "{'observation_id': '73d7c589-7605-42ab-9c5c-d0fbb897adb0', 'Type': 'Person search', 'Date': '2022-02-12T01:43:00+00:00', 'Part of a policing operation': nan, 'Latitude': 54.525683, 'Longitude': -1.556382, 'Gender': 'Male', 'Age range': 'over 34', 'Officer-defined ethnicity': 'White', 'Legislation': 'Police and Criminal Evidence Act 1984 (section 1)', 'Object of search': 'Article for use in theft', 'station': 'durham'}\n",
      "{'observation_id': '1d276941-2dd7-4cc0-b14d-764ee8bcd966', 'Type': 'Person search', 'Date': '2022-05-13T18:23:00+00:00', 'Part of a policing operation': True, 'Latitude': nan, 'Longitude': nan, 'Gender': 'Male', 'Age range': '25-34', 'Officer-defined ethnicity': 'White', 'Legislation': 'Misuse of Drugs Act 1971 (section 23)', 'Object of search': 'Controlled drugs', 'station': 'nottinghamshire'}\n",
      "{'observation_id': 'fd0a32a8-1672-45da-bf93-b93524441b24', 'Type': 'Person search', 'Date': '2022-01-26T01:48:18+00:00', 'Part of a policing operation': nan, 'Latitude': 52.558052, 'Longitude': -0.272402, 'Gender': 'Female', 'Age range': 'over 34', 'Officer-defined ethnicity': 'White', 'Legislation': 'Misuse of Drugs Act 1971 (section 23)', 'Object of search': 'Controlled drugs', 'station': 'cambridgeshire'}\n",
      "{'observation_id': '15af9195-3fa0-40aa-9083-da7767f0c801', 'Type': 'Person search', 'Date': '2022-02-16T05:01:31+00:00', 'Part of a policing operation': nan, 'Latitude': 51.513463, 'Longitude': -0.082913, 'Gender': 'Male', 'Age range': '18-24', 'Officer-defined ethnicity': 'White', 'Legislation': 'Misuse of Drugs Act 1971 (section 23)', 'Object of search': 'Controlled drugs', 'station': 'city-of-london'}\n",
      "{'observation_id': '9ac66922-d13b-4877-8bab-41ef925d3bb8', 'Type': 'Person search', 'Date': '2022-03-04T23:48:16+00:00', 'Part of a policing operation': nan, 'Latitude': 52.339135, 'Longitude': -0.163148, 'Gender': 'Male', 'Age range': '10-17', 'Officer-defined ethnicity': 'White', 'Legislation': 'Misuse of Drugs Act 1971 (section 23)', 'Object of search': 'Controlled drugs', 'station': 'cambridgeshire'}\n",
      "{'observation_id': '27dc412f-64e2-4245-9a25-db0514b2e980', 'Type': 'Person search', 'Date': '2022-03-17T20:20:00+00:00', 'Part of a policing operation': True, 'Latitude': nan, 'Longitude': nan, 'Gender': 'Male', 'Age range': '18-24', 'Officer-defined ethnicity': 'White', 'Legislation': 'Police and Criminal Evidence Act 1984 (section 1)', 'Object of search': 'Articles for use in criminal damage', 'station': 'nottinghamshire'}\n",
      "{'observation_id': 'aeed813b-d4e9-489d-81b3-9b8ec8f62d52', 'Type': 'Person search', 'Date': '2022-05-13T22:58:26+00:00', 'Part of a policing operation': nan, 'Latitude': 52.525437, 'Longitude': -0.261064, 'Gender': 'Male', 'Age range': '10-17', 'Officer-defined ethnicity': 'White', 'Legislation': 'Misuse of Drugs Act 1971 (section 23)', 'Object of search': 'Controlled drugs', 'station': 'cambridgeshire'}\n",
      "{'observation_id': 'caabe84e-97e0-4305-b540-eda6d56e51f3', 'Type': 'Person search', 'Date': '2022-04-17T22:45:00+00:00', 'Part of a policing operation': nan, 'Latitude': 54.523648, 'Longitude': -1.557748, 'Gender': 'Male', 'Age range': '18-24', 'Officer-defined ethnicity': 'White', 'Legislation': 'Misuse of Drugs Act 1971 (section 23)', 'Object of search': 'Controlled drugs', 'station': 'durham'}\n",
      "{'observation_id': '29d64e93-a47d-45ba-b02f-258f0c459091', 'Type': 'Person search', 'Date': '2022-01-28T10:10:00+00:00', 'Part of a policing operation': False, 'Latitude': nan, 'Longitude': nan, 'Gender': 'Male', 'Age range': '10-17', 'Officer-defined ethnicity': 'Asian', 'Legislation': 'Police and Criminal Evidence Act 1984 (section 1)', 'Object of search': 'Offensive weapons', 'station': 'nottinghamshire'}\n",
      "{'observation_id': '1037c940-3a60-47eb-bef4-2596218725f0', 'Type': 'Person search', 'Date': '2022-04-02T19:00:00+00:00', 'Part of a policing operation': nan, 'Latitude': 54.857714, 'Longitude': -1.611271, 'Gender': 'Male', 'Age range': '25-34', 'Officer-defined ethnicity': 'White', 'Legislation': 'Police and Criminal Evidence Act 1984 (section 1)', 'Object of search': 'Offensive weapons', 'station': 'durham'}\n",
      "{'observation_id': '923a1db5-1a27-4eb0-92ea-819c7ffdf85e', 'Type': 'Person search', 'Date': '2022-04-11T09:41:57+00:00', 'Part of a policing operation': nan, 'Latitude': 52.204443, 'Longitude': 0.103386, 'Gender': 'Male', 'Age range': '18-24', 'Officer-defined ethnicity': 'Black', 'Legislation': 'Misuse of Drugs Act 1971 (section 23)', 'Object of search': 'Controlled drugs', 'station': 'cambridgeshire'}\n",
      "{'observation_id': '9249984b-5b19-4730-95d2-201197fff581', 'Type': 'Person and Vehicle search', 'Date': '2022-04-28T20:10:00+00:00', 'Part of a policing operation': False, 'Latitude': nan, 'Longitude': nan, 'Gender': 'Male', 'Age range': 'over 34', 'Officer-defined ethnicity': 'White', 'Legislation': 'Misuse of Drugs Act 1971 (section 23)', 'Object of search': 'Controlled drugs', 'station': 'nottinghamshire'}\n",
      "{'observation_id': 'e477ebd7-a324-4d63-9def-51b5f6a81a54', 'Type': 'Person and Vehicle search', 'Date': '2022-03-17T10:37:51+00:00', 'Part of a policing operation': nan, 'Latitude': 52.225282, 'Longitude': 0.119716, 'Gender': 'Male', 'Age range': '18-24', 'Officer-defined ethnicity': 'Asian', 'Legislation': 'Misuse of Drugs Act 1971 (section 23)', 'Object of search': 'Controlled drugs', 'station': 'cambridgeshire'}\n",
      "{'observation_id': 'd46707aa-cf72-4fb4-aa64-fe6eff29e8f7', 'Type': 'Person and Vehicle search', 'Date': '2022-03-15T21:34:00+00:00', 'Part of a policing operation': False, 'Latitude': nan, 'Longitude': nan, 'Gender': 'Male', 'Age range': '18-24', 'Officer-defined ethnicity': 'Asian', 'Legislation': 'Police and Criminal Evidence Act 1984 (section 1)', 'Object of search': 'Article for use in theft', 'station': 'nottinghamshire'}\n",
      "{'observation_id': '06e5e365-15a8-465a-8092-eef6762a78d7', 'Type': 'Person search', 'Date': '2022-04-27T08:02:00+00:00', 'Part of a policing operation': nan, 'Latitude': 54.630745, 'Longitude': -1.651373, 'Gender': 'Male', 'Age range': 'over 34', 'Officer-defined ethnicity': 'White', 'Legislation': 'Police and Criminal Evidence Act 1984 (section 1)', 'Object of search': 'Article for use in theft', 'station': 'durham'}\n",
      "{'observation_id': '89f0b741-dd82-4600-8b98-4c3230a0540d', 'Type': 'Person search', 'Date': '2022-03-09T05:33:02+00:00', 'Part of a policing operation': nan, 'Latitude': nan, 'Longitude': nan, 'Gender': 'Male', 'Age range': 'over 34', 'Officer-defined ethnicity': 'White', 'Legislation': 'Misuse of Drugs Act 1971 (section 23)', 'Object of search': 'Controlled drugs', 'station': 'city-of-london'}\n"
     ]
    }
   ],
   "source": [
    "with open('data/trial_moment_1.json') as moment_1:\n",
    "  parsed_json = json.load(moment_1)\n",
    "\n",
    "print(parsed_json[1][\"data\"])\n",
    "\n",
    "for n in range(len(parsed_json)):\n",
    "  print(parsed_json[n][\"data\"])"
   ]
  },
  {
   "cell_type": "code",
   "execution_count": 2,
   "metadata": {},
   "outputs": [],
   "source": [
    "APP_NAME = 'ldsacapstone-production.up.railway.app'"
   ]
  },
  {
   "cell_type": "code",
   "execution_count": 11,
   "metadata": {},
   "outputs": [
    {
     "data": {
      "text/plain": [
       "<Response [200]>"
      ]
     },
     "metadata": {},
     "output_type": "display_data"
    },
    {
     "data": {
      "text/plain": [
       "b'{\\n  \"outcome\": \"[ True]\"\\n}\\n'"
      ]
     },
     "metadata": {},
     "output_type": "display_data"
    },
    {
     "data": {
      "text/plain": [
       "<Response [200]>"
      ]
     },
     "metadata": {},
     "output_type": "display_data"
    },
    {
     "data": {
      "text/plain": [
       "b'{\\n  \"outcome\": \"[False]\"\\n}\\n'"
      ]
     },
     "metadata": {},
     "output_type": "display_data"
    },
    {
     "data": {
      "text/plain": [
       "<Response [200]>"
      ]
     },
     "metadata": {},
     "output_type": "display_data"
    },
    {
     "data": {
      "text/plain": [
       "b'{\\n  \"outcome\": \"[ True]\"\\n}\\n'"
      ]
     },
     "metadata": {},
     "output_type": "display_data"
    },
    {
     "data": {
      "text/plain": [
       "<Response [200]>"
      ]
     },
     "metadata": {},
     "output_type": "display_data"
    },
    {
     "data": {
      "text/plain": [
       "b'{\\n  \"outcome\": \"[ True]\"\\n}\\n'"
      ]
     },
     "metadata": {},
     "output_type": "display_data"
    },
    {
     "data": {
      "text/plain": [
       "<Response [200]>"
      ]
     },
     "metadata": {},
     "output_type": "display_data"
    },
    {
     "data": {
      "text/plain": [
       "b'{\\n  \"outcome\": \"[False]\"\\n}\\n'"
      ]
     },
     "metadata": {},
     "output_type": "display_data"
    },
    {
     "data": {
      "text/plain": [
       "<Response [200]>"
      ]
     },
     "metadata": {},
     "output_type": "display_data"
    },
    {
     "data": {
      "text/plain": [
       "b'{\\n  \"outcome\": \"[ True]\"\\n}\\n'"
      ]
     },
     "metadata": {},
     "output_type": "display_data"
    },
    {
     "data": {
      "text/plain": [
       "<Response [200]>"
      ]
     },
     "metadata": {},
     "output_type": "display_data"
    },
    {
     "data": {
      "text/plain": [
       "b'{\\n  \"outcome\": \"[False]\"\\n}\\n'"
      ]
     },
     "metadata": {},
     "output_type": "display_data"
    },
    {
     "data": {
      "text/plain": [
       "<Response [200]>"
      ]
     },
     "metadata": {},
     "output_type": "display_data"
    },
    {
     "data": {
      "text/plain": [
       "b'{\\n  \"outcome\": \"[ True]\"\\n}\\n'"
      ]
     },
     "metadata": {},
     "output_type": "display_data"
    },
    {
     "data": {
      "text/plain": [
       "<Response [200]>"
      ]
     },
     "metadata": {},
     "output_type": "display_data"
    },
    {
     "data": {
      "text/plain": [
       "b'{\\n  \"outcome\": \"[ True]\"\\n}\\n'"
      ]
     },
     "metadata": {},
     "output_type": "display_data"
    },
    {
     "data": {
      "text/plain": [
       "<Response [200]>"
      ]
     },
     "metadata": {},
     "output_type": "display_data"
    },
    {
     "data": {
      "text/plain": [
       "b'{\\n  \"outcome\": \"[False]\"\\n}\\n'"
      ]
     },
     "metadata": {},
     "output_type": "display_data"
    },
    {
     "data": {
      "text/plain": [
       "<Response [200]>"
      ]
     },
     "metadata": {},
     "output_type": "display_data"
    },
    {
     "data": {
      "text/plain": [
       "b'{\\n  \"outcome\": \"[ True]\"\\n}\\n'"
      ]
     },
     "metadata": {},
     "output_type": "display_data"
    },
    {
     "data": {
      "text/plain": [
       "<Response [200]>"
      ]
     },
     "metadata": {},
     "output_type": "display_data"
    },
    {
     "data": {
      "text/plain": [
       "b'{\\n  \"outcome\": \"[False]\"\\n}\\n'"
      ]
     },
     "metadata": {},
     "output_type": "display_data"
    },
    {
     "data": {
      "text/plain": [
       "<Response [200]>"
      ]
     },
     "metadata": {},
     "output_type": "display_data"
    },
    {
     "data": {
      "text/plain": [
       "b'{\\n  \"outcome\": \"[False]\"\\n}\\n'"
      ]
     },
     "metadata": {},
     "output_type": "display_data"
    },
    {
     "data": {
      "text/plain": [
       "<Response [200]>"
      ]
     },
     "metadata": {},
     "output_type": "display_data"
    },
    {
     "data": {
      "text/plain": [
       "b'{\\n  \"outcome\": \"[False]\"\\n}\\n'"
      ]
     },
     "metadata": {},
     "output_type": "display_data"
    },
    {
     "data": {
      "text/plain": [
       "<Response [200]>"
      ]
     },
     "metadata": {},
     "output_type": "display_data"
    },
    {
     "data": {
      "text/plain": [
       "b'{\\n  \"outcome\": \"[ True]\"\\n}\\n'"
      ]
     },
     "metadata": {},
     "output_type": "display_data"
    },
    {
     "data": {
      "text/plain": [
       "<Response [200]>"
      ]
     },
     "metadata": {},
     "output_type": "display_data"
    },
    {
     "data": {
      "text/plain": [
       "b'{\\n  \"outcome\": \"[ True]\"\\n}\\n'"
      ]
     },
     "metadata": {},
     "output_type": "display_data"
    },
    {
     "data": {
      "text/plain": [
       "<Response [200]>"
      ]
     },
     "metadata": {},
     "output_type": "display_data"
    },
    {
     "data": {
      "text/plain": [
       "b'{\\n  \"outcome\": \"[ True]\"\\n}\\n'"
      ]
     },
     "metadata": {},
     "output_type": "display_data"
    },
    {
     "data": {
      "text/plain": [
       "<Response [200]>"
      ]
     },
     "metadata": {},
     "output_type": "display_data"
    },
    {
     "data": {
      "text/plain": [
       "b'{\\n  \"outcome\": \"[False]\"\\n}\\n'"
      ]
     },
     "metadata": {},
     "output_type": "display_data"
    },
    {
     "data": {
      "text/plain": [
       "<Response [200]>"
      ]
     },
     "metadata": {},
     "output_type": "display_data"
    },
    {
     "data": {
      "text/plain": [
       "b'{\\n  \"outcome\": \"[False]\"\\n}\\n'"
      ]
     },
     "metadata": {},
     "output_type": "display_data"
    },
    {
     "data": {
      "text/plain": [
       "<Response [200]>"
      ]
     },
     "metadata": {},
     "output_type": "display_data"
    },
    {
     "data": {
      "text/plain": [
       "b'{\\n  \"outcome\": \"[ True]\"\\n}\\n'"
      ]
     },
     "metadata": {},
     "output_type": "display_data"
    }
   ],
   "source": [
    "# testing the predict endpoing\n",
    "\n",
    "url = f\"https://{APP_NAME}/should_search/\"\n",
    "\n",
    "for n in range(len(parsed_json)):\n",
    "\n",
    "    payload = parsed_json[n][\"data\"]\n",
    "\n",
    "    r = requests.post(url, data=json.dumps(payload), headers={\"Content-Type\": \"application/json\"})\n",
    "    display(r)\n",
    "    display(r.content)\n",
    "\n",
    "\n"
   ]
  },
  {
   "cell_type": "code",
   "execution_count": 14,
   "metadata": {},
   "outputs": [
    {
     "name": "stdout",
     "output_type": "stream",
     "text": [
      "{'observation_id': 'eeb891e3-3913-4590-82a9-dc23c212dceb', 'outcome': True}\n",
      "{'observation_id': '1558a55e-3df2-4665-8beb-0f0c5eaa0408', 'outcome': False}\n",
      "{'observation_id': 'eeb891e3-3913-4590-82a9-dc23c212dceb', 'outcome': True}\n",
      "{'observation_id': '898d6606-c55b-4a54-9480-f967beaff1cf', 'outcome': False}\n",
      "{'observation_id': '3ff08b3c-c1fc-4c9f-97fe-470cf3a61cef', 'outcome': False}\n",
      "{'observation_id': '73d7c589-7605-42ab-9c5c-d0fbb897adb0', 'outcome': False}\n",
      "{'observation_id': '1d276941-2dd7-4cc0-b14d-764ee8bcd966', 'outcome': False}\n",
      "{'observation_id': 'fd0a32a8-1672-45da-bf93-b93524441b24', 'outcome': True}\n",
      "{'observation_id': '15af9195-3fa0-40aa-9083-da7767f0c801', 'outcome': True}\n",
      "{'observation_id': '9ac66922-d13b-4877-8bab-41ef925d3bb8', 'outcome': True}\n",
      "{'observation_id': '27dc412f-64e2-4245-9a25-db0514b2e980', 'outcome': True}\n",
      "{'observation_id': 'aeed813b-d4e9-489d-81b3-9b8ec8f62d52', 'outcome': False}\n",
      "{'observation_id': 'caabe84e-97e0-4305-b540-eda6d56e51f3', 'outcome': True}\n",
      "{'observation_id': '29d64e93-a47d-45ba-b02f-258f0c459091', 'outcome': True}\n",
      "{'observation_id': '1037c940-3a60-47eb-bef4-2596218725f0', 'outcome': False}\n",
      "{'observation_id': '923a1db5-1a27-4eb0-92ea-819c7ffdf85e', 'outcome': True}\n",
      "{'observation_id': '9249984b-5b19-4730-95d2-201197fff581', 'outcome': False}\n",
      "{'observation_id': 'e477ebd7-a324-4d63-9def-51b5f6a81a54', 'outcome': True}\n",
      "{'observation_id': 'd46707aa-cf72-4fb4-aa64-fe6eff29e8f7', 'outcome': True}\n",
      "{'observation_id': '06e5e365-15a8-465a-8092-eef6762a78d7', 'outcome': False}\n",
      "{'observation_id': '89f0b741-dd82-4600-8b98-4c3230a0540d', 'outcome': False}\n"
     ]
    }
   ],
   "source": [
    "with open('data/trial_moment_2.json') as moment_1:\n",
    "  parsed_json = json.load(moment_1)\n",
    "\n",
    "print(parsed_json[1][\"data\"])\n",
    "\n",
    "for n in range(len(parsed_json)):\n",
    "  print(parsed_json[n][\"data\"])"
   ]
  },
  {
   "cell_type": "code",
   "execution_count": 17,
   "metadata": {},
   "outputs": [
    {
     "data": {
      "text/plain": [
       "<Response [200]>"
      ]
     },
     "metadata": {},
     "output_type": "display_data"
    },
    {
     "data": {
      "text/plain": [
       "b'{\\n  \"observation_id\": \"1558a55e-3df2-4665-8beb-0f0c5eaa0408\", \\n  \"outcome\": \"False\", \\n  \"predicted_outcome\": \"True\"\\n}\\n'"
      ]
     },
     "metadata": {},
     "output_type": "display_data"
    },
    {
     "data": {
      "text/plain": [
       "<Response [200]>"
      ]
     },
     "metadata": {},
     "output_type": "display_data"
    },
    {
     "data": {
      "text/plain": [
       "b'{\\n  \"observation_id\": \"eeb891e3-3913-4590-82a9-dc23c212dceb\", \\n  \"outcome\": \"True\", \\n  \"predicted_outcome\": \"False\"\\n}\\n'"
      ]
     },
     "metadata": {},
     "output_type": "display_data"
    },
    {
     "data": {
      "text/plain": [
       "<Response [200]>"
      ]
     },
     "metadata": {},
     "output_type": "display_data"
    },
    {
     "data": {
      "text/plain": [
       "b'{\\n  \"observation_id\": \"898d6606-c55b-4a54-9480-f967beaff1cf\", \\n  \"outcome\": \"False\", \\n  \"predicted_outcome\": \"True\"\\n}\\n'"
      ]
     },
     "metadata": {},
     "output_type": "display_data"
    },
    {
     "data": {
      "text/plain": [
       "<Response [200]>"
      ]
     },
     "metadata": {},
     "output_type": "display_data"
    },
    {
     "data": {
      "text/plain": [
       "b'{\\n  \"observation_id\": \"3ff08b3c-c1fc-4c9f-97fe-470cf3a61cef\", \\n  \"outcome\": \"False\", \\n  \"predicted_outcome\": \"True\"\\n}\\n'"
      ]
     },
     "metadata": {},
     "output_type": "display_data"
    },
    {
     "data": {
      "text/plain": [
       "<Response [200]>"
      ]
     },
     "metadata": {},
     "output_type": "display_data"
    },
    {
     "data": {
      "text/plain": [
       "b'{\\n  \"observation_id\": \"73d7c589-7605-42ab-9c5c-d0fbb897adb0\", \\n  \"outcome\": \"False\", \\n  \"predicted_outcome\": \"False\"\\n}\\n'"
      ]
     },
     "metadata": {},
     "output_type": "display_data"
    },
    {
     "data": {
      "text/plain": [
       "<Response [200]>"
      ]
     },
     "metadata": {},
     "output_type": "display_data"
    },
    {
     "data": {
      "text/plain": [
       "b'{\\n  \"observation_id\": \"1d276941-2dd7-4cc0-b14d-764ee8bcd966\", \\n  \"outcome\": \"False\", \\n  \"predicted_outcome\": \"True\"\\n}\\n'"
      ]
     },
     "metadata": {},
     "output_type": "display_data"
    },
    {
     "data": {
      "text/plain": [
       "<Response [200]>"
      ]
     },
     "metadata": {},
     "output_type": "display_data"
    },
    {
     "data": {
      "text/plain": [
       "b'{\\n  \"observation_id\": \"fd0a32a8-1672-45da-bf93-b93524441b24\", \\n  \"outcome\": \"True\", \\n  \"predicted_outcome\": \"False\"\\n}\\n'"
      ]
     },
     "metadata": {},
     "output_type": "display_data"
    },
    {
     "data": {
      "text/plain": [
       "<Response [200]>"
      ]
     },
     "metadata": {},
     "output_type": "display_data"
    },
    {
     "data": {
      "text/plain": [
       "b'{\\n  \"observation_id\": \"15af9195-3fa0-40aa-9083-da7767f0c801\", \\n  \"outcome\": \"True\", \\n  \"predicted_outcome\": \"True\"\\n}\\n'"
      ]
     },
     "metadata": {},
     "output_type": "display_data"
    },
    {
     "data": {
      "text/plain": [
       "<Response [200]>"
      ]
     },
     "metadata": {},
     "output_type": "display_data"
    },
    {
     "data": {
      "text/plain": [
       "b'{\\n  \"observation_id\": \"9ac66922-d13b-4877-8bab-41ef925d3bb8\", \\n  \"outcome\": \"True\", \\n  \"predicted_outcome\": \"True\"\\n}\\n'"
      ]
     },
     "metadata": {},
     "output_type": "display_data"
    },
    {
     "data": {
      "text/plain": [
       "<Response [200]>"
      ]
     },
     "metadata": {},
     "output_type": "display_data"
    },
    {
     "data": {
      "text/plain": [
       "b'{\\n  \"observation_id\": \"27dc412f-64e2-4245-9a25-db0514b2e980\", \\n  \"outcome\": \"True\", \\n  \"predicted_outcome\": \"False\"\\n}\\n'"
      ]
     },
     "metadata": {},
     "output_type": "display_data"
    },
    {
     "data": {
      "text/plain": [
       "<Response [200]>"
      ]
     },
     "metadata": {},
     "output_type": "display_data"
    },
    {
     "data": {
      "text/plain": [
       "b'{\\n  \"observation_id\": \"aeed813b-d4e9-489d-81b3-9b8ec8f62d52\", \\n  \"outcome\": \"False\", \\n  \"predicted_outcome\": \"True\"\\n}\\n'"
      ]
     },
     "metadata": {},
     "output_type": "display_data"
    },
    {
     "data": {
      "text/plain": [
       "<Response [200]>"
      ]
     },
     "metadata": {},
     "output_type": "display_data"
    },
    {
     "data": {
      "text/plain": [
       "b'{\\n  \"observation_id\": \"caabe84e-97e0-4305-b540-eda6d56e51f3\", \\n  \"outcome\": \"True\", \\n  \"predicted_outcome\": \"False\"\\n}\\n'"
      ]
     },
     "metadata": {},
     "output_type": "display_data"
    },
    {
     "data": {
      "text/plain": [
       "<Response [200]>"
      ]
     },
     "metadata": {},
     "output_type": "display_data"
    },
    {
     "data": {
      "text/plain": [
       "b'{\\n  \"observation_id\": \"29d64e93-a47d-45ba-b02f-258f0c459091\", \\n  \"outcome\": \"True\", \\n  \"predicted_outcome\": \"False\"\\n}\\n'"
      ]
     },
     "metadata": {},
     "output_type": "display_data"
    },
    {
     "data": {
      "text/plain": [
       "<Response [200]>"
      ]
     },
     "metadata": {},
     "output_type": "display_data"
    },
    {
     "data": {
      "text/plain": [
       "b'{\\n  \"observation_id\": \"1037c940-3a60-47eb-bef4-2596218725f0\", \\n  \"outcome\": \"False\", \\n  \"predicted_outcome\": \"False\"\\n}\\n'"
      ]
     },
     "metadata": {},
     "output_type": "display_data"
    },
    {
     "data": {
      "text/plain": [
       "<Response [200]>"
      ]
     },
     "metadata": {},
     "output_type": "display_data"
    },
    {
     "data": {
      "text/plain": [
       "b'{\\n  \"observation_id\": \"923a1db5-1a27-4eb0-92ea-819c7ffdf85e\", \\n  \"outcome\": \"True\", \\n  \"predicted_outcome\": \"True\"\\n}\\n'"
      ]
     },
     "metadata": {},
     "output_type": "display_data"
    },
    {
     "data": {
      "text/plain": [
       "<Response [200]>"
      ]
     },
     "metadata": {},
     "output_type": "display_data"
    },
    {
     "data": {
      "text/plain": [
       "b'{\\n  \"observation_id\": \"9249984b-5b19-4730-95d2-201197fff581\", \\n  \"outcome\": \"False\", \\n  \"predicted_outcome\": \"True\"\\n}\\n'"
      ]
     },
     "metadata": {},
     "output_type": "display_data"
    },
    {
     "data": {
      "text/plain": [
       "<Response [200]>"
      ]
     },
     "metadata": {},
     "output_type": "display_data"
    },
    {
     "data": {
      "text/plain": [
       "b'{\\n  \"observation_id\": \"e477ebd7-a324-4d63-9def-51b5f6a81a54\", \\n  \"outcome\": \"True\", \\n  \"predicted_outcome\": \"True\"\\n}\\n'"
      ]
     },
     "metadata": {},
     "output_type": "display_data"
    },
    {
     "data": {
      "text/plain": [
       "<Response [200]>"
      ]
     },
     "metadata": {},
     "output_type": "display_data"
    },
    {
     "data": {
      "text/plain": [
       "b'{\\n  \"observation_id\": \"d46707aa-cf72-4fb4-aa64-fe6eff29e8f7\", \\n  \"outcome\": \"True\", \\n  \"predicted_outcome\": \"False\"\\n}\\n'"
      ]
     },
     "metadata": {},
     "output_type": "display_data"
    },
    {
     "data": {
      "text/plain": [
       "<Response [200]>"
      ]
     },
     "metadata": {},
     "output_type": "display_data"
    },
    {
     "data": {
      "text/plain": [
       "b'{\\n  \"observation_id\": \"06e5e365-15a8-465a-8092-eef6762a78d7\", \\n  \"outcome\": \"False\", \\n  \"predicted_outcome\": \"False\"\\n}\\n'"
      ]
     },
     "metadata": {},
     "output_type": "display_data"
    },
    {
     "data": {
      "text/plain": [
       "<Response [200]>"
      ]
     },
     "metadata": {},
     "output_type": "display_data"
    },
    {
     "data": {
      "text/plain": [
       "b'{\\n  \"observation_id\": \"89f0b741-dd82-4600-8b98-4c3230a0540d\", \\n  \"outcome\": \"False\", \\n  \"predicted_outcome\": \"True\"\\n}\\n'"
      ]
     },
     "metadata": {},
     "output_type": "display_data"
    }
   ],
   "source": [
    "# Testing the /update endpoint\n",
    "\n",
    "url = f\"https://{APP_NAME}/search_result/\"\n",
    "for n in range(len(parsed_json)):\n",
    "\n",
    "    payload = parsed_json[n]['data']\n",
    "\n",
    "    r = requests.post(url, data=json.dumps(payload), headers={\"Content-Type\": \"application/json\"})\n",
    "    display(r)\n",
    "    display(r.content)\n"
   ]
  },
  {
   "cell_type": "code",
   "execution_count": 18,
   "metadata": {},
   "outputs": [
    {
     "data": {
      "text/html": [
       "<div>\n",
       "<style scoped>\n",
       "    .dataframe tbody tr th:only-of-type {\n",
       "        vertical-align: middle;\n",
       "    }\n",
       "\n",
       "    .dataframe tbody tr th {\n",
       "        vertical-align: top;\n",
       "    }\n",
       "\n",
       "    .dataframe thead th {\n",
       "        text-align: right;\n",
       "    }\n",
       "</style>\n",
       "<table border=\"1\" class=\"dataframe\">\n",
       "  <thead>\n",
       "    <tr style=\"text-align: right;\">\n",
       "      <th></th>\n",
       "      <th>id</th>\n",
       "      <th>observation_id</th>\n",
       "      <th>type</th>\n",
       "      <th>date</th>\n",
       "      <th>part_of_a_policing_operation</th>\n",
       "      <th>latitude</th>\n",
       "      <th>longitude</th>\n",
       "      <th>gender</th>\n",
       "      <th>age_range</th>\n",
       "      <th>officer_defined_ethnicity</th>\n",
       "      <th>legislation</th>\n",
       "      <th>object_of_search</th>\n",
       "      <th>station</th>\n",
       "      <th>proba</th>\n",
       "      <th>outcome</th>\n",
       "      <th>true_outcome</th>\n",
       "    </tr>\n",
       "  </thead>\n",
       "  <tbody>\n",
       "    <tr>\n",
       "      <th>0</th>\n",
       "      <td>42</td>\n",
       "      <td>1558a55e-3df2-4665-8beb-0f0c5eaa0408</td>\n",
       "      <td>Person search</td>\n",
       "      <td>2022-04-06T18:25:00+00:00</td>\n",
       "      <td>True</td>\n",
       "      <td>NaN</td>\n",
       "      <td>NaN</td>\n",
       "      <td>Male</td>\n",
       "      <td>10-17</td>\n",
       "      <td>White</td>\n",
       "      <td>Misuse of Drugs Act 1971 (section 23)</td>\n",
       "      <td>Controlled drugs</td>\n",
       "      <td>nottinghamshire</td>\n",
       "      <td>0.850019</td>\n",
       "      <td>True</td>\n",
       "      <td>False</td>\n",
       "    </tr>\n",
       "    <tr>\n",
       "      <th>1</th>\n",
       "      <td>43</td>\n",
       "      <td>eeb891e3-3913-4590-82a9-dc23c212dceb</td>\n",
       "      <td>Person search</td>\n",
       "      <td>2022-04-18T22:24:57+00:00</td>\n",
       "      <td>False</td>\n",
       "      <td>NaN</td>\n",
       "      <td>NaN</td>\n",
       "      <td>Male</td>\n",
       "      <td>10-17</td>\n",
       "      <td>Other</td>\n",
       "      <td>Police and Criminal Evidence Act 1984 (section 1)</td>\n",
       "      <td>Articles for use in criminal damage</td>\n",
       "      <td>city-of-london</td>\n",
       "      <td>0.108532</td>\n",
       "      <td>False</td>\n",
       "      <td>True</td>\n",
       "    </tr>\n",
       "    <tr>\n",
       "      <th>2</th>\n",
       "      <td>44</td>\n",
       "      <td>898d6606-c55b-4a54-9480-f967beaff1cf</td>\n",
       "      <td>Person and Vehicle search</td>\n",
       "      <td>2022-01-07T20:20:00+00:00</td>\n",
       "      <td>True</td>\n",
       "      <td>NaN</td>\n",
       "      <td>NaN</td>\n",
       "      <td>Male</td>\n",
       "      <td>25-34</td>\n",
       "      <td>White</td>\n",
       "      <td>Misuse of Drugs Act 1971 (section 23)</td>\n",
       "      <td>Controlled drugs</td>\n",
       "      <td>nottinghamshire</td>\n",
       "      <td>0.894015</td>\n",
       "      <td>True</td>\n",
       "      <td>False</td>\n",
       "    </tr>\n",
       "    <tr>\n",
       "      <th>3</th>\n",
       "      <td>45</td>\n",
       "      <td>3ff08b3c-c1fc-4c9f-97fe-470cf3a61cef</td>\n",
       "      <td>Person search</td>\n",
       "      <td>2022-05-08T20:21:00+00:00</td>\n",
       "      <td>True</td>\n",
       "      <td>NaN</td>\n",
       "      <td>NaN</td>\n",
       "      <td>Male</td>\n",
       "      <td>over 34</td>\n",
       "      <td>White</td>\n",
       "      <td>Misuse of Drugs Act 1971 (section 23)</td>\n",
       "      <td>Controlled drugs</td>\n",
       "      <td>nottinghamshire</td>\n",
       "      <td>0.847000</td>\n",
       "      <td>True</td>\n",
       "      <td>False</td>\n",
       "    </tr>\n",
       "    <tr>\n",
       "      <th>4</th>\n",
       "      <td>46</td>\n",
       "      <td>73d7c589-7605-42ab-9c5c-d0fbb897adb0</td>\n",
       "      <td>Person search</td>\n",
       "      <td>2022-02-12T01:43:00+00:00</td>\n",
       "      <td>False</td>\n",
       "      <td>54.525684</td>\n",
       "      <td>-1.556382</td>\n",
       "      <td>Male</td>\n",
       "      <td>over 34</td>\n",
       "      <td>White</td>\n",
       "      <td>Police and Criminal Evidence Act 1984 (section 1)</td>\n",
       "      <td>Article for use in theft</td>\n",
       "      <td>durham</td>\n",
       "      <td>0.058079</td>\n",
       "      <td>False</td>\n",
       "      <td>False</td>\n",
       "    </tr>\n",
       "    <tr>\n",
       "      <th>5</th>\n",
       "      <td>47</td>\n",
       "      <td>1d276941-2dd7-4cc0-b14d-764ee8bcd966</td>\n",
       "      <td>Person search</td>\n",
       "      <td>2022-05-13T18:23:00+00:00</td>\n",
       "      <td>True</td>\n",
       "      <td>NaN</td>\n",
       "      <td>NaN</td>\n",
       "      <td>Male</td>\n",
       "      <td>25-34</td>\n",
       "      <td>White</td>\n",
       "      <td>Misuse of Drugs Act 1971 (section 23)</td>\n",
       "      <td>Controlled drugs</td>\n",
       "      <td>nottinghamshire</td>\n",
       "      <td>0.849693</td>\n",
       "      <td>True</td>\n",
       "      <td>False</td>\n",
       "    </tr>\n",
       "    <tr>\n",
       "      <th>6</th>\n",
       "      <td>48</td>\n",
       "      <td>fd0a32a8-1672-45da-bf93-b93524441b24</td>\n",
       "      <td>Person search</td>\n",
       "      <td>2022-01-26T01:48:18+00:00</td>\n",
       "      <td>False</td>\n",
       "      <td>52.558052</td>\n",
       "      <td>-0.272402</td>\n",
       "      <td>Female</td>\n",
       "      <td>over 34</td>\n",
       "      <td>White</td>\n",
       "      <td>Misuse of Drugs Act 1971 (section 23)</td>\n",
       "      <td>Controlled drugs</td>\n",
       "      <td>cambridgeshire</td>\n",
       "      <td>0.470050</td>\n",
       "      <td>False</td>\n",
       "      <td>True</td>\n",
       "    </tr>\n",
       "    <tr>\n",
       "      <th>7</th>\n",
       "      <td>49</td>\n",
       "      <td>15af9195-3fa0-40aa-9083-da7767f0c801</td>\n",
       "      <td>Person search</td>\n",
       "      <td>2022-02-16T05:01:31+00:00</td>\n",
       "      <td>False</td>\n",
       "      <td>51.513462</td>\n",
       "      <td>-0.082913</td>\n",
       "      <td>Male</td>\n",
       "      <td>18-24</td>\n",
       "      <td>White</td>\n",
       "      <td>Misuse of Drugs Act 1971 (section 23)</td>\n",
       "      <td>Controlled drugs</td>\n",
       "      <td>city-of-london</td>\n",
       "      <td>0.532643</td>\n",
       "      <td>True</td>\n",
       "      <td>True</td>\n",
       "    </tr>\n",
       "    <tr>\n",
       "      <th>8</th>\n",
       "      <td>50</td>\n",
       "      <td>9ac66922-d13b-4877-8bab-41ef925d3bb8</td>\n",
       "      <td>Person search</td>\n",
       "      <td>2022-03-04T23:48:16+00:00</td>\n",
       "      <td>False</td>\n",
       "      <td>52.339134</td>\n",
       "      <td>-0.163148</td>\n",
       "      <td>Male</td>\n",
       "      <td>10-17</td>\n",
       "      <td>White</td>\n",
       "      <td>Misuse of Drugs Act 1971 (section 23)</td>\n",
       "      <td>Controlled drugs</td>\n",
       "      <td>cambridgeshire</td>\n",
       "      <td>0.536486</td>\n",
       "      <td>True</td>\n",
       "      <td>True</td>\n",
       "    </tr>\n",
       "    <tr>\n",
       "      <th>9</th>\n",
       "      <td>51</td>\n",
       "      <td>27dc412f-64e2-4245-9a25-db0514b2e980</td>\n",
       "      <td>Person search</td>\n",
       "      <td>2022-03-17T20:20:00+00:00</td>\n",
       "      <td>True</td>\n",
       "      <td>NaN</td>\n",
       "      <td>NaN</td>\n",
       "      <td>Male</td>\n",
       "      <td>18-24</td>\n",
       "      <td>White</td>\n",
       "      <td>Police and Criminal Evidence Act 1984 (section 1)</td>\n",
       "      <td>Articles for use in criminal damage</td>\n",
       "      <td>nottinghamshire</td>\n",
       "      <td>0.353656</td>\n",
       "      <td>False</td>\n",
       "      <td>True</td>\n",
       "    </tr>\n",
       "    <tr>\n",
       "      <th>10</th>\n",
       "      <td>52</td>\n",
       "      <td>aeed813b-d4e9-489d-81b3-9b8ec8f62d52</td>\n",
       "      <td>Person search</td>\n",
       "      <td>2022-05-13T22:58:26+00:00</td>\n",
       "      <td>False</td>\n",
       "      <td>52.525436</td>\n",
       "      <td>-0.261064</td>\n",
       "      <td>Male</td>\n",
       "      <td>10-17</td>\n",
       "      <td>White</td>\n",
       "      <td>Misuse of Drugs Act 1971 (section 23)</td>\n",
       "      <td>Controlled drugs</td>\n",
       "      <td>cambridgeshire</td>\n",
       "      <td>0.529505</td>\n",
       "      <td>True</td>\n",
       "      <td>False</td>\n",
       "    </tr>\n",
       "    <tr>\n",
       "      <th>11</th>\n",
       "      <td>53</td>\n",
       "      <td>caabe84e-97e0-4305-b540-eda6d56e51f3</td>\n",
       "      <td>Person search</td>\n",
       "      <td>2022-04-17T22:45:00+00:00</td>\n",
       "      <td>False</td>\n",
       "      <td>54.523647</td>\n",
       "      <td>-1.557748</td>\n",
       "      <td>Male</td>\n",
       "      <td>18-24</td>\n",
       "      <td>White</td>\n",
       "      <td>Misuse of Drugs Act 1971 (section 23)</td>\n",
       "      <td>Controlled drugs</td>\n",
       "      <td>durham</td>\n",
       "      <td>0.483769</td>\n",
       "      <td>False</td>\n",
       "      <td>True</td>\n",
       "    </tr>\n",
       "    <tr>\n",
       "      <th>12</th>\n",
       "      <td>54</td>\n",
       "      <td>29d64e93-a47d-45ba-b02f-258f0c459091</td>\n",
       "      <td>Person search</td>\n",
       "      <td>2022-01-28T10:10:00+00:00</td>\n",
       "      <td>False</td>\n",
       "      <td>NaN</td>\n",
       "      <td>NaN</td>\n",
       "      <td>Male</td>\n",
       "      <td>10-17</td>\n",
       "      <td>Asian</td>\n",
       "      <td>Police and Criminal Evidence Act 1984 (section 1)</td>\n",
       "      <td>Offensive weapons</td>\n",
       "      <td>nottinghamshire</td>\n",
       "      <td>0.123486</td>\n",
       "      <td>False</td>\n",
       "      <td>True</td>\n",
       "    </tr>\n",
       "    <tr>\n",
       "      <th>13</th>\n",
       "      <td>55</td>\n",
       "      <td>1037c940-3a60-47eb-bef4-2596218725f0</td>\n",
       "      <td>Person search</td>\n",
       "      <td>2022-04-02T19:00:00+00:00</td>\n",
       "      <td>False</td>\n",
       "      <td>54.857716</td>\n",
       "      <td>-1.611271</td>\n",
       "      <td>Male</td>\n",
       "      <td>25-34</td>\n",
       "      <td>White</td>\n",
       "      <td>Police and Criminal Evidence Act 1984 (section 1)</td>\n",
       "      <td>Offensive weapons</td>\n",
       "      <td>durham</td>\n",
       "      <td>0.117827</td>\n",
       "      <td>False</td>\n",
       "      <td>False</td>\n",
       "    </tr>\n",
       "    <tr>\n",
       "      <th>14</th>\n",
       "      <td>56</td>\n",
       "      <td>923a1db5-1a27-4eb0-92ea-819c7ffdf85e</td>\n",
       "      <td>Person search</td>\n",
       "      <td>2022-04-11T09:41:57+00:00</td>\n",
       "      <td>False</td>\n",
       "      <td>52.204445</td>\n",
       "      <td>0.103386</td>\n",
       "      <td>Male</td>\n",
       "      <td>18-24</td>\n",
       "      <td>Black</td>\n",
       "      <td>Misuse of Drugs Act 1971 (section 23)</td>\n",
       "      <td>Controlled drugs</td>\n",
       "      <td>cambridgeshire</td>\n",
       "      <td>0.524253</td>\n",
       "      <td>True</td>\n",
       "      <td>True</td>\n",
       "    </tr>\n",
       "    <tr>\n",
       "      <th>15</th>\n",
       "      <td>57</td>\n",
       "      <td>9249984b-5b19-4730-95d2-201197fff581</td>\n",
       "      <td>Person and Vehicle search</td>\n",
       "      <td>2022-04-28T20:10:00+00:00</td>\n",
       "      <td>False</td>\n",
       "      <td>NaN</td>\n",
       "      <td>NaN</td>\n",
       "      <td>Male</td>\n",
       "      <td>over 34</td>\n",
       "      <td>White</td>\n",
       "      <td>Misuse of Drugs Act 1971 (section 23)</td>\n",
       "      <td>Controlled drugs</td>\n",
       "      <td>nottinghamshire</td>\n",
       "      <td>0.607691</td>\n",
       "      <td>True</td>\n",
       "      <td>False</td>\n",
       "    </tr>\n",
       "    <tr>\n",
       "      <th>16</th>\n",
       "      <td>58</td>\n",
       "      <td>e477ebd7-a324-4d63-9def-51b5f6a81a54</td>\n",
       "      <td>Person and Vehicle search</td>\n",
       "      <td>2022-03-17T10:37:51+00:00</td>\n",
       "      <td>False</td>\n",
       "      <td>52.225280</td>\n",
       "      <td>0.119716</td>\n",
       "      <td>Male</td>\n",
       "      <td>18-24</td>\n",
       "      <td>Asian</td>\n",
       "      <td>Misuse of Drugs Act 1971 (section 23)</td>\n",
       "      <td>Controlled drugs</td>\n",
       "      <td>cambridgeshire</td>\n",
       "      <td>0.628806</td>\n",
       "      <td>True</td>\n",
       "      <td>True</td>\n",
       "    </tr>\n",
       "    <tr>\n",
       "      <th>17</th>\n",
       "      <td>59</td>\n",
       "      <td>d46707aa-cf72-4fb4-aa64-fe6eff29e8f7</td>\n",
       "      <td>Person and Vehicle search</td>\n",
       "      <td>2022-03-15T21:34:00+00:00</td>\n",
       "      <td>False</td>\n",
       "      <td>NaN</td>\n",
       "      <td>NaN</td>\n",
       "      <td>Male</td>\n",
       "      <td>18-24</td>\n",
       "      <td>Asian</td>\n",
       "      <td>Police and Criminal Evidence Act 1984 (section 1)</td>\n",
       "      <td>Article for use in theft</td>\n",
       "      <td>nottinghamshire</td>\n",
       "      <td>0.114035</td>\n",
       "      <td>False</td>\n",
       "      <td>True</td>\n",
       "    </tr>\n",
       "    <tr>\n",
       "      <th>18</th>\n",
       "      <td>60</td>\n",
       "      <td>06e5e365-15a8-465a-8092-eef6762a78d7</td>\n",
       "      <td>Person search</td>\n",
       "      <td>2022-04-27T08:02:00+00:00</td>\n",
       "      <td>False</td>\n",
       "      <td>54.630745</td>\n",
       "      <td>-1.651373</td>\n",
       "      <td>Male</td>\n",
       "      <td>over 34</td>\n",
       "      <td>White</td>\n",
       "      <td>Police and Criminal Evidence Act 1984 (section 1)</td>\n",
       "      <td>Article for use in theft</td>\n",
       "      <td>durham</td>\n",
       "      <td>0.067917</td>\n",
       "      <td>False</td>\n",
       "      <td>False</td>\n",
       "    </tr>\n",
       "    <tr>\n",
       "      <th>19</th>\n",
       "      <td>61</td>\n",
       "      <td>89f0b741-dd82-4600-8b98-4c3230a0540d</td>\n",
       "      <td>Person search</td>\n",
       "      <td>2022-03-09T05:33:02+00:00</td>\n",
       "      <td>False</td>\n",
       "      <td>NaN</td>\n",
       "      <td>NaN</td>\n",
       "      <td>Male</td>\n",
       "      <td>over 34</td>\n",
       "      <td>White</td>\n",
       "      <td>Misuse of Drugs Act 1971 (section 23)</td>\n",
       "      <td>Controlled drugs</td>\n",
       "      <td>city-of-london</td>\n",
       "      <td>0.532578</td>\n",
       "      <td>True</td>\n",
       "      <td>False</td>\n",
       "    </tr>\n",
       "  </tbody>\n",
       "</table>\n",
       "</div>"
      ],
      "text/plain": [
       "    id                        observation_id                       type  \\\n",
       "0   42  1558a55e-3df2-4665-8beb-0f0c5eaa0408              Person search   \n",
       "1   43  eeb891e3-3913-4590-82a9-dc23c212dceb              Person search   \n",
       "2   44  898d6606-c55b-4a54-9480-f967beaff1cf  Person and Vehicle search   \n",
       "3   45  3ff08b3c-c1fc-4c9f-97fe-470cf3a61cef              Person search   \n",
       "4   46  73d7c589-7605-42ab-9c5c-d0fbb897adb0              Person search   \n",
       "5   47  1d276941-2dd7-4cc0-b14d-764ee8bcd966              Person search   \n",
       "6   48  fd0a32a8-1672-45da-bf93-b93524441b24              Person search   \n",
       "7   49  15af9195-3fa0-40aa-9083-da7767f0c801              Person search   \n",
       "8   50  9ac66922-d13b-4877-8bab-41ef925d3bb8              Person search   \n",
       "9   51  27dc412f-64e2-4245-9a25-db0514b2e980              Person search   \n",
       "10  52  aeed813b-d4e9-489d-81b3-9b8ec8f62d52              Person search   \n",
       "11  53  caabe84e-97e0-4305-b540-eda6d56e51f3              Person search   \n",
       "12  54  29d64e93-a47d-45ba-b02f-258f0c459091              Person search   \n",
       "13  55  1037c940-3a60-47eb-bef4-2596218725f0              Person search   \n",
       "14  56  923a1db5-1a27-4eb0-92ea-819c7ffdf85e              Person search   \n",
       "15  57  9249984b-5b19-4730-95d2-201197fff581  Person and Vehicle search   \n",
       "16  58  e477ebd7-a324-4d63-9def-51b5f6a81a54  Person and Vehicle search   \n",
       "17  59  d46707aa-cf72-4fb4-aa64-fe6eff29e8f7  Person and Vehicle search   \n",
       "18  60  06e5e365-15a8-465a-8092-eef6762a78d7              Person search   \n",
       "19  61  89f0b741-dd82-4600-8b98-4c3230a0540d              Person search   \n",
       "\n",
       "                         date  part_of_a_policing_operation   latitude  \\\n",
       "0   2022-04-06T18:25:00+00:00                          True        NaN   \n",
       "1   2022-04-18T22:24:57+00:00                         False        NaN   \n",
       "2   2022-01-07T20:20:00+00:00                          True        NaN   \n",
       "3   2022-05-08T20:21:00+00:00                          True        NaN   \n",
       "4   2022-02-12T01:43:00+00:00                         False  54.525684   \n",
       "5   2022-05-13T18:23:00+00:00                          True        NaN   \n",
       "6   2022-01-26T01:48:18+00:00                         False  52.558052   \n",
       "7   2022-02-16T05:01:31+00:00                         False  51.513462   \n",
       "8   2022-03-04T23:48:16+00:00                         False  52.339134   \n",
       "9   2022-03-17T20:20:00+00:00                          True        NaN   \n",
       "10  2022-05-13T22:58:26+00:00                         False  52.525436   \n",
       "11  2022-04-17T22:45:00+00:00                         False  54.523647   \n",
       "12  2022-01-28T10:10:00+00:00                         False        NaN   \n",
       "13  2022-04-02T19:00:00+00:00                         False  54.857716   \n",
       "14  2022-04-11T09:41:57+00:00                         False  52.204445   \n",
       "15  2022-04-28T20:10:00+00:00                         False        NaN   \n",
       "16  2022-03-17T10:37:51+00:00                         False  52.225280   \n",
       "17  2022-03-15T21:34:00+00:00                         False        NaN   \n",
       "18  2022-04-27T08:02:00+00:00                         False  54.630745   \n",
       "19  2022-03-09T05:33:02+00:00                         False        NaN   \n",
       "\n",
       "    longitude  gender age_range officer_defined_ethnicity  \\\n",
       "0         NaN    Male     10-17                     White   \n",
       "1         NaN    Male     10-17                     Other   \n",
       "2         NaN    Male     25-34                     White   \n",
       "3         NaN    Male   over 34                     White   \n",
       "4   -1.556382    Male   over 34                     White   \n",
       "5         NaN    Male     25-34                     White   \n",
       "6   -0.272402  Female   over 34                     White   \n",
       "7   -0.082913    Male     18-24                     White   \n",
       "8   -0.163148    Male     10-17                     White   \n",
       "9         NaN    Male     18-24                     White   \n",
       "10  -0.261064    Male     10-17                     White   \n",
       "11  -1.557748    Male     18-24                     White   \n",
       "12        NaN    Male     10-17                     Asian   \n",
       "13  -1.611271    Male     25-34                     White   \n",
       "14   0.103386    Male     18-24                     Black   \n",
       "15        NaN    Male   over 34                     White   \n",
       "16   0.119716    Male     18-24                     Asian   \n",
       "17        NaN    Male     18-24                     Asian   \n",
       "18  -1.651373    Male   over 34                     White   \n",
       "19        NaN    Male   over 34                     White   \n",
       "\n",
       "                                          legislation  \\\n",
       "0               Misuse of Drugs Act 1971 (section 23)   \n",
       "1   Police and Criminal Evidence Act 1984 (section 1)   \n",
       "2               Misuse of Drugs Act 1971 (section 23)   \n",
       "3               Misuse of Drugs Act 1971 (section 23)   \n",
       "4   Police and Criminal Evidence Act 1984 (section 1)   \n",
       "5               Misuse of Drugs Act 1971 (section 23)   \n",
       "6               Misuse of Drugs Act 1971 (section 23)   \n",
       "7               Misuse of Drugs Act 1971 (section 23)   \n",
       "8               Misuse of Drugs Act 1971 (section 23)   \n",
       "9   Police and Criminal Evidence Act 1984 (section 1)   \n",
       "10              Misuse of Drugs Act 1971 (section 23)   \n",
       "11              Misuse of Drugs Act 1971 (section 23)   \n",
       "12  Police and Criminal Evidence Act 1984 (section 1)   \n",
       "13  Police and Criminal Evidence Act 1984 (section 1)   \n",
       "14              Misuse of Drugs Act 1971 (section 23)   \n",
       "15              Misuse of Drugs Act 1971 (section 23)   \n",
       "16              Misuse of Drugs Act 1971 (section 23)   \n",
       "17  Police and Criminal Evidence Act 1984 (section 1)   \n",
       "18  Police and Criminal Evidence Act 1984 (section 1)   \n",
       "19              Misuse of Drugs Act 1971 (section 23)   \n",
       "\n",
       "                       object_of_search          station     proba  outcome  \\\n",
       "0                      Controlled drugs  nottinghamshire  0.850019     True   \n",
       "1   Articles for use in criminal damage   city-of-london  0.108532    False   \n",
       "2                      Controlled drugs  nottinghamshire  0.894015     True   \n",
       "3                      Controlled drugs  nottinghamshire  0.847000     True   \n",
       "4              Article for use in theft           durham  0.058079    False   \n",
       "5                      Controlled drugs  nottinghamshire  0.849693     True   \n",
       "6                      Controlled drugs   cambridgeshire  0.470050    False   \n",
       "7                      Controlled drugs   city-of-london  0.532643     True   \n",
       "8                      Controlled drugs   cambridgeshire  0.536486     True   \n",
       "9   Articles for use in criminal damage  nottinghamshire  0.353656    False   \n",
       "10                     Controlled drugs   cambridgeshire  0.529505     True   \n",
       "11                     Controlled drugs           durham  0.483769    False   \n",
       "12                    Offensive weapons  nottinghamshire  0.123486    False   \n",
       "13                    Offensive weapons           durham  0.117827    False   \n",
       "14                     Controlled drugs   cambridgeshire  0.524253     True   \n",
       "15                     Controlled drugs  nottinghamshire  0.607691     True   \n",
       "16                     Controlled drugs   cambridgeshire  0.628806     True   \n",
       "17             Article for use in theft  nottinghamshire  0.114035    False   \n",
       "18             Article for use in theft           durham  0.067917    False   \n",
       "19                     Controlled drugs   city-of-london  0.532578     True   \n",
       "\n",
       "    true_outcome  \n",
       "0          False  \n",
       "1           True  \n",
       "2          False  \n",
       "3          False  \n",
       "4          False  \n",
       "5          False  \n",
       "6           True  \n",
       "7           True  \n",
       "8           True  \n",
       "9           True  \n",
       "10         False  \n",
       "11          True  \n",
       "12          True  \n",
       "13         False  \n",
       "14          True  \n",
       "15         False  \n",
       "16          True  \n",
       "17          True  \n",
       "18         False  \n",
       "19         False  "
      ]
     },
     "execution_count": 18,
     "metadata": {},
     "output_type": "execute_result"
    }
   ],
   "source": [
    "#server is down, so no worries (this credentials will fail, use yours)\n",
    "username = 'postgres'\n",
    "password = 'e4a0hDUQGnH26EDm82PK'\n",
    "host_name = 'containers-us-west-118.railway.app'\n",
    "port = 7357\n",
    "db_name = 'railway'\n",
    "\n",
    "conn_str = 'postgresql://{}:{}@{}:{}/{}'.format(username, password, host_name, port, db_name)\n",
    "engine = sqlalchemy.create_engine(conn_str)\n",
    "query = 'SELECT * FROM prediction;'\n",
    "data_server = pd.DataFrame(engine.connect().execute(sqlalchemy.text(query)))\n",
    "data_server"
   ]
  },
  {
   "cell_type": "code",
   "execution_count": null,
   "metadata": {},
   "outputs": [],
   "source": []
  }
 ],
 "metadata": {
  "kernelspec": {
   "display_name": "cap_prod",
   "language": "python",
   "name": "python3"
  },
  "language_info": {
   "codemirror_mode": {
    "name": "ipython",
    "version": 3
   },
   "file_extension": ".py",
   "mimetype": "text/x-python",
   "name": "python",
   "nbconvert_exporter": "python",
   "pygments_lexer": "ipython3",
   "version": "3.8.14"
  },
  "orig_nbformat": 4
 },
 "nbformat": 4,
 "nbformat_minor": 2
}
