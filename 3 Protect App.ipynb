{
 "cells": [
  {
   "cell_type": "code",
   "execution_count": 1,
   "metadata": {},
   "outputs": [],
   "source": [
    "import aux_functions\n",
    "from app_functions import attempt_predict\n",
    "from transformers import TimeTransformer, BoolTransformer\n",
    "\n",
    "import json\n",
    "import joblib\n",
    "import pickle\n",
    "import requests\n",
    "from time import sleep\n",
    "import random\n",
    "\n",
    "import pandas as pd\n",
    "pd.set_option('display.max_columns', 100)\n",
    "import os\n",
    "import matplotlib.pyplot as plt\n",
    "import matplotlib.gridspec as gridspec\n",
    "import seaborn as sns\n",
    "import numpy as np\n",
    "import datetime as dt\n",
    "\n",
    "from sklearn.model_selection import train_test_split\n",
    "from sklearn.pipeline import make_pipeline, Pipeline\n",
    "from sklearn.base import BaseEstimator, TransformerMixin\n",
    "from sklearn.model_selection import cross_val_score\n",
    "# from category_encoders import OneHotEncoder\n",
    "from sklearn.impute import SimpleImputer\n",
    "from sklearn.preprocessing import StandardScaler, OneHotEncoder, LabelEncoder, RobustScaler, OrdinalEncoder\n",
    "from sklearn.compose import ColumnTransformer\n",
    "from sklearn.model_selection import cross_val_score\n",
    "from sklearn.ensemble import RandomForestClassifier\n",
    "from sklearn.linear_model import LogisticRegression\n",
    "from sklearn.tree import DecisionTreeClassifier\n",
    "from sklearn.ensemble import GradientBoostingClassifier\n",
    "from sklearn.svm import SVC\n",
    "from sklearn.neighbors import KNeighborsClassifier\n",
    "from sklearn.naive_bayes import GaussianNB\n",
    "\n",
    "from sklearn.utils import resample\n",
    "from sklearn.metrics import precision_score, recall_score, f1_score,  accuracy_score, roc_auc_score, make_scorer, confusion_matrix, roc_curve\n",
    "\n",
    "# needed to use matplotlib inside jupyter notebook\n",
    "%matplotlib inline "
   ]
  },
  {
   "attachments": {},
   "cell_type": "markdown",
   "metadata": {},
   "source": [
    "# Get the data"
   ]
  },
  {
   "cell_type": "code",
   "execution_count": 2,
   "metadata": {},
   "outputs": [
    {
     "data": {
      "text/html": [
       "<div>\n",
       "<style scoped>\n",
       "    .dataframe tbody tr th:only-of-type {\n",
       "        vertical-align: middle;\n",
       "    }\n",
       "\n",
       "    .dataframe tbody tr th {\n",
       "        vertical-align: top;\n",
       "    }\n",
       "\n",
       "    .dataframe thead th {\n",
       "        text-align: right;\n",
       "    }\n",
       "</style>\n",
       "<table border=\"1\" class=\"dataframe\">\n",
       "  <thead>\n",
       "    <tr style=\"text-align: right;\">\n",
       "      <th></th>\n",
       "      <th>observation_id</th>\n",
       "      <th>Type</th>\n",
       "      <th>Date</th>\n",
       "      <th>Part of a policing operation</th>\n",
       "      <th>Latitude</th>\n",
       "      <th>Longitude</th>\n",
       "      <th>Gender</th>\n",
       "      <th>Age range</th>\n",
       "      <th>Officer-defined ethnicity</th>\n",
       "      <th>Legislation</th>\n",
       "      <th>Object of search</th>\n",
       "      <th>station</th>\n",
       "      <th>target</th>\n",
       "    </tr>\n",
       "  </thead>\n",
       "  <tbody>\n",
       "    <tr>\n",
       "      <th>438050</th>\n",
       "      <td>b7287b3c-fb25-42a5-afa3-e8320817eb6f</td>\n",
       "      <td>Person search</td>\n",
       "      <td>2021-07-30T16:00:00+00:00</td>\n",
       "      <td>False</td>\n",
       "      <td>53.797198</td>\n",
       "      <td>-1.789092</td>\n",
       "      <td>Male</td>\n",
       "      <td>25-34</td>\n",
       "      <td>Asian</td>\n",
       "      <td>Misuse of Drugs Act 1971 (section 23)</td>\n",
       "      <td>Controlled drugs</td>\n",
       "      <td>west-yorkshire</td>\n",
       "      <td>0</td>\n",
       "    </tr>\n",
       "    <tr>\n",
       "      <th>8521</th>\n",
       "      <td>4f9c9bbb-8806-4a9f-a83d-a7d1c9957527</td>\n",
       "      <td>Person search</td>\n",
       "      <td>2020-12-20T01:26:43+00:00</td>\n",
       "      <td>&lt;NA&gt;</td>\n",
       "      <td>51.508963</td>\n",
       "      <td>-0.073894</td>\n",
       "      <td>Male</td>\n",
       "      <td>over 34</td>\n",
       "      <td>White</td>\n",
       "      <td>Misuse of Drugs Act 1971 (section 23)</td>\n",
       "      <td>Controlled drugs</td>\n",
       "      <td>city-of-london</td>\n",
       "      <td>0</td>\n",
       "    </tr>\n",
       "    <tr>\n",
       "      <th>601361</th>\n",
       "      <td>1e57860f-9cb6-4afe-aabf-00b11c5012d2</td>\n",
       "      <td>Person search</td>\n",
       "      <td>2021-05-12T13:05:27+00:00</td>\n",
       "      <td>&lt;NA&gt;</td>\n",
       "      <td>53.397291</td>\n",
       "      <td>-3.034496</td>\n",
       "      <td>Male</td>\n",
       "      <td>over 34</td>\n",
       "      <td>White</td>\n",
       "      <td>Misuse of Drugs Act 1971 (section 23)</td>\n",
       "      <td>Controlled drugs</td>\n",
       "      <td>merseyside</td>\n",
       "      <td>0</td>\n",
       "    </tr>\n",
       "    <tr>\n",
       "      <th>282181</th>\n",
       "      <td>8d166c18-7351-41e0-8be6-3f9fb574d8d9</td>\n",
       "      <td>Person search</td>\n",
       "      <td>2020-06-15T11:20:00+00:00</td>\n",
       "      <td>&lt;NA&gt;</td>\n",
       "      <td>53.041893</td>\n",
       "      <td>-2.979160</td>\n",
       "      <td>Male</td>\n",
       "      <td>over 34</td>\n",
       "      <td>White</td>\n",
       "      <td>Misuse of Drugs Act 1971 (section 23)</td>\n",
       "      <td>Controlled drugs</td>\n",
       "      <td>north-wales</td>\n",
       "      <td>0</td>\n",
       "    </tr>\n",
       "    <tr>\n",
       "      <th>797640</th>\n",
       "      <td>3a2bdbf8-83f2-448b-bcf7-a2502632d5a8</td>\n",
       "      <td>Person search</td>\n",
       "      <td>2020-08-13T23:00:00+00:00</td>\n",
       "      <td>False</td>\n",
       "      <td>51.022386</td>\n",
       "      <td>-0.353517</td>\n",
       "      <td>Male</td>\n",
       "      <td>10-17</td>\n",
       "      <td>White</td>\n",
       "      <td>Police and Criminal Evidence Act 1984 (section 1)</td>\n",
       "      <td>Offensive weapons</td>\n",
       "      <td>sussex</td>\n",
       "      <td>0</td>\n",
       "    </tr>\n",
       "  </tbody>\n",
       "</table>\n",
       "</div>"
      ],
      "text/plain": [
       "                              observation_id           Type  \\\n",
       "438050  b7287b3c-fb25-42a5-afa3-e8320817eb6f  Person search   \n",
       "8521    4f9c9bbb-8806-4a9f-a83d-a7d1c9957527  Person search   \n",
       "601361  1e57860f-9cb6-4afe-aabf-00b11c5012d2  Person search   \n",
       "282181  8d166c18-7351-41e0-8be6-3f9fb574d8d9  Person search   \n",
       "797640  3a2bdbf8-83f2-448b-bcf7-a2502632d5a8  Person search   \n",
       "\n",
       "                             Date  Part of a policing operation   Latitude  \\\n",
       "438050  2021-07-30T16:00:00+00:00                         False  53.797198   \n",
       "8521    2020-12-20T01:26:43+00:00                          <NA>  51.508963   \n",
       "601361  2021-05-12T13:05:27+00:00                          <NA>  53.397291   \n",
       "282181  2020-06-15T11:20:00+00:00                          <NA>  53.041893   \n",
       "797640  2020-08-13T23:00:00+00:00                         False  51.022386   \n",
       "\n",
       "        Longitude Gender Age range Officer-defined ethnicity  \\\n",
       "438050  -1.789092   Male     25-34                     Asian   \n",
       "8521    -0.073894   Male   over 34                     White   \n",
       "601361  -3.034496   Male   over 34                     White   \n",
       "282181  -2.979160   Male   over 34                     White   \n",
       "797640  -0.353517   Male     10-17                     White   \n",
       "\n",
       "                                              Legislation   Object of search  \\\n",
       "438050              Misuse of Drugs Act 1971 (section 23)   Controlled drugs   \n",
       "8521                Misuse of Drugs Act 1971 (section 23)   Controlled drugs   \n",
       "601361              Misuse of Drugs Act 1971 (section 23)   Controlled drugs   \n",
       "282181              Misuse of Drugs Act 1971 (section 23)   Controlled drugs   \n",
       "797640  Police and Criminal Evidence Act 1984 (section 1)  Offensive weapons   \n",
       "\n",
       "               station  target  \n",
       "438050  west-yorkshire       0  \n",
       "8521    city-of-london       0  \n",
       "601361      merseyside       0  \n",
       "282181     north-wales       0  \n",
       "797640          sussex       0  "
      ]
     },
     "execution_count": 2,
     "metadata": {},
     "output_type": "execute_result"
    }
   ],
   "source": [
    "df_ = pd.read_csv(\"data/train.csv\")\n",
    "\n",
    "drop_cols = ['Self-defined ethnicity', 'Outcome', 'Outcome linked to object of search', 'Removal of more than just outer clothing']\n",
    "\n",
    "\n",
    "df_clean = aux_functions.clean_data(df_, drop_cols)\n",
    "\n",
    "df_train, df_test = train_test_split(df_clean, test_size=0.3, random_state=42)\n",
    "\n",
    "df_test.head()"
   ]
  },
  {
   "attachments": {},
   "cell_type": "markdown",
   "metadata": {},
   "source": [
    "# Recover Model"
   ]
  },
  {
   "cell_type": "code",
   "execution_count": 3,
   "metadata": {},
   "outputs": [],
   "source": [
    "with open(os.path.join(\"columns.json\"), 'r') as fh:\n",
    "    columns = json.load(fh)\n",
    "\n",
    "with open(os.path.join(\"dtypes.pickle\"), 'rb') as fh:\n",
    "    dtypes = pickle.load(fh)\n",
    "\n",
    "pipeline_recovered = joblib.load(os.path.join(\"pipeline.pickle\"))"
   ]
  },
  {
   "attachments": {},
   "cell_type": "markdown",
   "metadata": {},
   "source": [
    "# Define APP Protection Function"
   ]
  },
  {
   "attachments": {},
   "cell_type": "markdown",
   "metadata": {},
   "source": [
    "## Objective\n",
    "\n",
    "* Validate that observation includes a valid id\n",
    "* Validate that observation has no unknown fields\n",
    "* Validate that fields have the correct data types\n",
    "* Validate that categorical columns have correct values\n"
   ]
  },
  {
   "cell_type": "code",
   "execution_count": 4,
   "metadata": {},
   "outputs": [
    {
     "data": {
      "text/plain": [
       "Index(['observation_id', 'Type', 'Date', 'Part of a policing operation',\n",
       "       'Latitude', 'Longitude', 'Gender', 'Age range',\n",
       "       'Officer-defined ethnicity', 'Legislation', 'Object of search',\n",
       "       'station', 'target'],\n",
       "      dtype='object')"
      ]
     },
     "execution_count": 4,
     "metadata": {},
     "output_type": "execute_result"
    }
   ],
   "source": [
    "df_test.columns"
   ]
  },
  {
   "attachments": {},
   "cell_type": "markdown",
   "metadata": {},
   "source": [
    "# Generate Observation"
   ]
  },
  {
   "cell_type": "code",
   "execution_count": 5,
   "metadata": {},
   "outputs": [],
   "source": [
    "y_test = df_test[\"target\"].copy()\n",
    "X_test = df_test.drop(columns=[\"target\"]).copy()"
   ]
  },
  {
   "cell_type": "code",
   "execution_count": 6,
   "metadata": {},
   "outputs": [
    {
     "data": {
      "text/plain": [
       "{'observation_id': 'b7287b3c-fb25-42a5-afa3-e8320817eb6f',\n",
       " 'Type': 'Person search',\n",
       " 'Date': '2021-07-30T16:00:00+00:00',\n",
       " 'Part of a policing operation': False,\n",
       " 'Latitude': 53.797198,\n",
       " 'Longitude': -1.789092,\n",
       " 'Gender': 'Male',\n",
       " 'Age range': '25-34',\n",
       " 'Officer-defined ethnicity': 'Asian',\n",
       " 'Legislation': 'Misuse of Drugs Act 1971 (section 23)',\n",
       " 'Object of search': 'Controlled drugs',\n",
       " 'station': 'west-yorkshire'}"
      ]
     },
     "execution_count": 6,
     "metadata": {},
     "output_type": "execute_result"
    }
   ],
   "source": [
    "obs_dict = X_test.iloc[0, :].to_dict()\n",
    "\n",
    "obs_dict"
   ]
  },
  {
   "cell_type": "code",
   "execution_count": 7,
   "metadata": {},
   "outputs": [
    {
     "data": {
      "text/plain": [
       "{'error': \"Unrecognized columns provided: {'extra column 2', 'extra column 1'}\"}"
      ]
     },
     "metadata": {},
     "output_type": "display_data"
    }
   ],
   "source": [
    "# example with extra columns\n",
    "\n",
    "obs_dict = {'observation_id': \"b7287b3c-fb25-42a5-afa3-e8320817eb6f\",\n",
    "    'Type': 'Person search',\n",
    "    'Date': '2021-07-30T16:00:00+00:00',\n",
    "    'Part of a policing operation': False,\n",
    "    'Latitude': 53.797198,\n",
    "    'Longitude': -1.789092,\n",
    "    'Gender': 'Male',\n",
    "    'extra column 1': 1,\n",
    "    'extra column 2': 3,\n",
    "    'Age range': '25-34',\n",
    "    'Officer-defined ethnicity': 'Asian',\n",
    "    'Legislation': 'Misuse of Drugs Act 1971 (section 23)',\n",
    "    'Object of search': 'Controlled drugs',\n",
    "    'station': 'west-yorkshire'}\n",
    "\n",
    "response, check = aux_functions.attempt_predict(obs_dict)\n",
    "\n",
    "if check:\n",
    "    print(\"passed\")\n",
    "    display(response)\n",
    "else: \n",
    "    display(response)"
   ]
  },
  {
   "cell_type": "code",
   "execution_count": 8,
   "metadata": {},
   "outputs": [
    {
     "data": {
      "text/plain": [
       "{'error': \"Missing columns: {'Gender', 'Longitude'}\"}"
      ]
     },
     "metadata": {},
     "output_type": "display_data"
    }
   ],
   "source": [
    "# example with missing columns\n",
    "\n",
    "obs_dict = {'observation_id': \"b7287b3c-fb25-42a5-afa3-e8320817eb6f\",\n",
    "    'Type': 'Person search',\n",
    "    'Date': '2021-07-30T16:00:00+00:00',\n",
    "    'Part of a policing operation': False,\n",
    "    'Latitude': 53.797198,\n",
    "    'Age range': '25-34',\n",
    "    'Officer-defined ethnicity': 'Asian',\n",
    "    'Legislation': 'Misuse of Drugs Act 1971 (section 23)',\n",
    "    'Object of search': 'Controlled drugs',\n",
    "    'station': 'west-yorkshire'}\n",
    "\n",
    "response, check = aux_functions.attempt_predict(obs_dict)\n",
    "\n",
    "if check:\n",
    "    print(\"passed\")\n",
    "    display(response)\n",
    "else: \n",
    "    display(response)"
   ]
  },
  {
   "cell_type": "code",
   "execution_count": 9,
   "metadata": {},
   "outputs": [
    {
     "data": {
      "text/plain": [
       "{'error': \"Invalid value provided for Type: Alien Invaders. Allowed values are: 'Person search','Person and Vehicle search','Vehicle search'\"}"
      ]
     },
     "metadata": {},
     "output_type": "display_data"
    }
   ],
   "source": [
    "# Example with weird Type category\n",
    "\n",
    "obs_dict = {'observation_id': \"b7287b3c-fb25-42a5-afa3-e8320817eb6f\",\n",
    "    'Type': 'Alien Invaders',\n",
    "    'Date': '2021-07-30T16:00:00+00:00',\n",
    "    'Part of a policing operation': False,\n",
    "    'Latitude': 53.797198,\n",
    "    'Longitude': -1.789092,\n",
    "    'Gender': 'Male',\n",
    "    'Age range': '25-34',\n",
    "    'Officer-defined ethnicity': 'Asian',\n",
    "    'Legislation': 'Misuse of Drugs Act 1971 (section 23)',\n",
    "    'Object of search': 'Controlled drugs',\n",
    "    'station': 'west-yorkshire'}\n",
    "\n",
    "response, check = aux_functions.attempt_predict(obs_dict)\n",
    "\n",
    "if check:\n",
    "    print(\"passed\")\n",
    "    display(response)\n",
    "else: \n",
    "    display(response)\n"
   ]
  },
  {
   "cell_type": "code",
   "execution_count": 10,
   "metadata": {},
   "outputs": [
    {
     "data": {
      "text/plain": [
       "{'error': \"Invalid value provided for Gender: Whatever. Allowed values are: 'Female','Male','Other'\"}"
      ]
     },
     "metadata": {},
     "output_type": "display_data"
    }
   ],
   "source": [
    "# Example with weird Gender category\n",
    "\n",
    "obs_dict = {'observation_id': \"b7287b3c-fb25-42a5-afa3-e8320817eb6f\",\n",
    "    'Type': 'Person search',\n",
    "    'Date': '2021-07-30T16:00:00+00:00',\n",
    "    'Part of a policing operation': False,\n",
    "    'Latitude': 53.797198,\n",
    "    'Longitude': -1.789092,\n",
    "    'Gender': 'Whatever',\n",
    "    'Age range': '25-34',\n",
    "    'Officer-defined ethnicity': 'Asian',\n",
    "    'Legislation': 'Misuse of Drugs Act 1971 (section 23)',\n",
    "    'Object of search': 'Controlled drugs',\n",
    "    'station': 'west-yorkshire'}\n",
    "\n",
    "response, check = aux_functions.attempt_predict(obs_dict)\n",
    "\n",
    "if check:\n",
    "    print(\"passed\")\n",
    "    display(response)\n",
    "else: \n",
    "    display(response)\n"
   ]
  },
  {
   "cell_type": "code",
   "execution_count": 11,
   "metadata": {},
   "outputs": [
    {
     "data": {
      "text/plain": [
       "{'error': \"Invalid value provided for Age range: 10000000000000>. Allowed values are: 'under 10','10-17','18-24','25-34','over 34'\"}"
      ]
     },
     "metadata": {},
     "output_type": "display_data"
    }
   ],
   "source": [
    "# Example with weird Age range category\n",
    "\n",
    "obs_dict = {'observation_id': \"b7287b3c-fb25-42a5-afa3-e8320817eb6f\",\n",
    "    'Type': 'Person search',\n",
    "    'Date': '2021-07-30T16:00:00+00:00',\n",
    "    'Part of a policing operation': False,\n",
    "    'Latitude': 53.797198,\n",
    "    'Longitude': -1.789092,\n",
    "    'Gender': 'Male',\n",
    "    'Age range': '10000000000000>',\n",
    "    'Officer-defined ethnicity': 'Asian',\n",
    "    'Legislation': 'Misuse of Drugs Act 1971 (section 23)',\n",
    "    'Object of search': 'Controlled drugs',\n",
    "    'station': 'west-yorkshire'}\n",
    "\n",
    "response, check = aux_functions.attempt_predict(obs_dict)\n",
    "\n",
    "if check:\n",
    "    print(\"passed\")\n",
    "    display(response)\n",
    "else: \n",
    "    display(response)"
   ]
  },
  {
   "cell_type": "code",
   "execution_count": 12,
   "metadata": {},
   "outputs": [
    {
     "data": {
      "text/plain": [
       "{'error': \"Invalid value provided for Officer-defined ethnicity: Extra-terrestrial. Allowed values are: 'Asian','Black','Mixed','White','Other'\"}"
      ]
     },
     "metadata": {},
     "output_type": "display_data"
    }
   ],
   "source": [
    "# Example with weird Officer-defined ethnicity category\n",
    "\n",
    "obs_dict = {'observation_id': \"b7287b3c-fb25-42a5-afa3-e8320817eb6f\",\n",
    "    'Type': 'Person search',\n",
    "    'Date': '2021-07-30T16:00:00+00:00',\n",
    "    'Part of a policing operation': False,\n",
    "    'Latitude': 53.797198,\n",
    "    'Longitude': -1.789092,\n",
    "    'Gender': 'Male',\n",
    "    'Age range': '25-34',\n",
    "    'Officer-defined ethnicity': 'Extra-terrestrial',\n",
    "    'Legislation': 'Misuse of Drugs Act 1971 (section 23)',\n",
    "    'Object of search': 'Controlled drugs',\n",
    "    'station': 'west-yorkshire'}\n",
    "\n",
    "response, check = aux_functions.attempt_predict(obs_dict)\n",
    "\n",
    "if check:\n",
    "    print(\"passed\")\n",
    "    display(response)\n",
    "else: \n",
    "    display(response)\n"
   ]
  },
  {
   "cell_type": "code",
   "execution_count": 13,
   "metadata": {},
   "outputs": [
    {
     "data": {
      "text/plain": [
       "{'Date': 'yes', 'error': 'Date format is incorrect'}"
      ]
     },
     "metadata": {},
     "output_type": "display_data"
    }
   ],
   "source": [
    "# Example with weird date ethnicity category\n",
    "\n",
    "obs_dict = {'observation_id': \"b7287b3c-fb25-42a5-afa3-e8320817eb6f\",\n",
    "    'Type': 'Person search',\n",
    "    'Date': 'yes',\n",
    "    'Part of a policing operation': False,\n",
    "    'Latitude': 53.797198,\n",
    "    'Longitude': -1.789092,\n",
    "    'Gender': 'Male',\n",
    "    'Age range': '25-34',\n",
    "    'Officer-defined ethnicity': 'Black',\n",
    "    'Legislation': 'Misuse of Drugs Act 1971 (section 23)',\n",
    "    'Object of search': 'Controlled drugs',\n",
    "    'station': 'west-yorkshire'}\n",
    "\n",
    "response, check = aux_functions.attempt_predict(obs_dict)\n",
    "\n",
    "if check:\n",
    "    print(\"passed\")\n",
    "    display(response)\n",
    "else: \n",
    "    display(response)"
   ]
  },
  {
   "cell_type": "code",
   "execution_count": 14,
   "metadata": {},
   "outputs": [
    {
     "data": {
      "text/plain": [
       "{'Date': '2019-07-30T16:00:00+00:00', 'error': 'Provided date is before 2020'}"
      ]
     },
     "metadata": {},
     "output_type": "display_data"
    }
   ],
   "source": [
    "# Example with date before 2020 ethnicity category\n",
    "\n",
    "obs_dict = {'observation_id': \"b7287b3c-fb25-42a5-afa3-e8320817eb6f\",\n",
    "    'Type': 'Person search',\n",
    "    'Date': '2019-07-30T16:00:00+00:00',\n",
    "    'Part of a policing operation': False,\n",
    "    'Latitude': 53.797198,\n",
    "    'Longitude': -1.789092,\n",
    "    'Gender': 'Male',\n",
    "    'Age range': '25-34',\n",
    "    'Officer-defined ethnicity': 'Black',\n",
    "    'Legislation': 'Misuse of Drugs Act 1971 (section 23)',\n",
    "    'Object of search': 'Controlled drugs',\n",
    "    'station': 'west-yorkshire'}\n",
    "\n",
    "response, check = aux_functions.attempt_predict(obs_dict)\n",
    "\n",
    "if check:\n",
    "    print(\"passed\")\n",
    "    display(response)\n",
    "else: \n",
    "    display(response)"
   ]
  },
  {
   "attachments": {},
   "cell_type": "markdown",
   "metadata": {},
   "source": [
    "# Run through test data set"
   ]
  },
  {
   "cell_type": "code",
   "execution_count": 16,
   "metadata": {},
   "outputs": [
    {
     "name": "stdout",
     "output_type": "stream",
     "text": [
      "passed\n"
     ]
    },
    {
     "data": {
      "text/plain": [
       "{'observation_id': 'c871fe09-ea1a-4f7c-96e0-9b0c951ef9f7',\n",
       " 'Type': 'Person search',\n",
       " 'Date': '2021-03-31T17:00:00+00:00',\n",
       " 'Part of a policing operation': False,\n",
       " 'Latitude': 52.277093,\n",
       " 'Longitude': -1.532447,\n",
       " 'Gender': 'Male',\n",
       " 'Age range': 'over 34',\n",
       " 'Officer-defined ethnicity': 'Mixed',\n",
       " 'Legislation': 'Police and Criminal Evidence Act 1984 (section 1)',\n",
       " 'Object of search': 'Anything to threaten or harm anyone',\n",
       " 'station': 'warwickshire'}"
      ]
     },
     "metadata": {},
     "output_type": "display_data"
    },
    {
     "data": {
      "text/plain": [
       "{'Part of a policing operation': <NA>,\n",
       " 'error': 'Provided \"Part of a policing operation\" field is not of the correct data type'}"
      ]
     },
     "metadata": {},
     "output_type": "display_data"
    },
    {
     "name": "stdout",
     "output_type": "stream",
     "text": [
      "passed\n"
     ]
    },
    {
     "data": {
      "text/plain": [
       "{'observation_id': '98c66d19-f859-4f00-974e-aed0080e31dd',\n",
       " 'Type': 'Person and Vehicle search',\n",
       " 'Date': '2021-02-19T19:40:00+00:00',\n",
       " 'Part of a policing operation': False,\n",
       " 'Latitude': 53.714726,\n",
       " 'Longitude': -1.882627,\n",
       " 'Gender': 'Male',\n",
       " 'Age range': '25-34',\n",
       " 'Officer-defined ethnicity': 'White',\n",
       " 'Legislation': 'Misuse of Drugs Act 1971 (section 23)',\n",
       " 'Object of search': 'Controlled drugs',\n",
       " 'station': 'west-yorkshire'}"
      ]
     },
     "metadata": {},
     "output_type": "display_data"
    },
    {
     "data": {
      "text/plain": [
       "{'Part of a policing operation': <NA>,\n",
       " 'error': 'Provided \"Part of a policing operation\" field is not of the correct data type'}"
      ]
     },
     "metadata": {},
     "output_type": "display_data"
    },
    {
     "data": {
      "text/plain": [
       "{'Legislation': 'nan',\n",
       " 'error': 'Provided \"Legislation\" field is not of the correct data type'}"
      ]
     },
     "metadata": {},
     "output_type": "display_data"
    },
    {
     "data": {
      "text/plain": [
       "{'Part of a policing operation': <NA>,\n",
       " 'error': 'Provided \"Part of a policing operation\" field is not of the correct data type'}"
      ]
     },
     "metadata": {},
     "output_type": "display_data"
    },
    {
     "name": "stdout",
     "output_type": "stream",
     "text": [
      "passed\n"
     ]
    },
    {
     "data": {
      "text/plain": [
       "{'observation_id': 'a4573c16-4ea0-4fb0-a1ec-f98977be5ae0',\n",
       " 'Type': 'Person search',\n",
       " 'Date': '2020-11-06T00:00:00+00:00',\n",
       " 'Part of a policing operation': False,\n",
       " 'Latitude': 50.867224,\n",
       " 'Longitude': 0.553719,\n",
       " 'Gender': 'Female',\n",
       " 'Age range': 'over 34',\n",
       " 'Officer-defined ethnicity': 'White',\n",
       " 'Legislation': 'Police and Criminal Evidence Act 1984 (section 1)',\n",
       " 'Object of search': 'Stolen goods',\n",
       " 'station': 'sussex'}"
      ]
     },
     "metadata": {},
     "output_type": "display_data"
    },
    {
     "data": {
      "text/plain": [
       "{'Part of a policing operation': <NA>,\n",
       " 'error': 'Provided \"Part of a policing operation\" field is not of the correct data type'}"
      ]
     },
     "metadata": {},
     "output_type": "display_data"
    },
    {
     "data": {
      "text/plain": [
       "{'Part of a policing operation': <NA>,\n",
       " 'error': 'Provided \"Part of a policing operation\" field is not of the correct data type'}"
      ]
     },
     "metadata": {},
     "output_type": "display_data"
    },
    {
     "data": {
      "text/plain": [
       "{'Part of a policing operation': <NA>,\n",
       " 'error': 'Provided \"Part of a policing operation\" field is not of the correct data type'}"
      ]
     },
     "metadata": {},
     "output_type": "display_data"
    },
    {
     "data": {
      "text/plain": [
       "{'Legislation': 'nan',\n",
       " 'error': 'Provided \"Legislation\" field is not of the correct data type'}"
      ]
     },
     "metadata": {},
     "output_type": "display_data"
    },
    {
     "data": {
      "text/plain": [
       "{'Part of a policing operation': <NA>,\n",
       " 'error': 'Provided \"Part of a policing operation\" field is not of the correct data type'}"
      ]
     },
     "metadata": {},
     "output_type": "display_data"
    },
    {
     "name": "stdout",
     "output_type": "stream",
     "text": [
      "passed\n"
     ]
    },
    {
     "data": {
      "text/plain": [
       "{'observation_id': '7f0485c0-e1da-43f9-bb5e-f71b8b5f5ba7',\n",
       " 'Type': 'Person search',\n",
       " 'Date': '2021-03-26T22:54:00+00:00',\n",
       " 'Part of a policing operation': False,\n",
       " 'Latitude': nan,\n",
       " 'Longitude': nan,\n",
       " 'Gender': 'Male',\n",
       " 'Age range': '10-17',\n",
       " 'Officer-defined ethnicity': 'White',\n",
       " 'Legislation': 'Police and Criminal Evidence Act 1984 (section 1)',\n",
       " 'Object of search': 'Article for use in theft',\n",
       " 'station': 'devon-and-cornwall'}"
      ]
     },
     "metadata": {},
     "output_type": "display_data"
    },
    {
     "name": "stdout",
     "output_type": "stream",
     "text": [
      "passed\n"
     ]
    },
    {
     "data": {
      "text/plain": [
       "{'observation_id': '9af5275d-97d3-4003-b7af-5d3bc23edb44',\n",
       " 'Type': 'Person search',\n",
       " 'Date': '2020-12-05T18:50:00+00:00',\n",
       " 'Part of a policing operation': False,\n",
       " 'Latitude': nan,\n",
       " 'Longitude': nan,\n",
       " 'Gender': 'Female',\n",
       " 'Age range': '18-24',\n",
       " 'Officer-defined ethnicity': 'White',\n",
       " 'Legislation': 'Misuse of Drugs Act 1971 (section 23)',\n",
       " 'Object of search': 'Controlled drugs',\n",
       " 'station': 'south-yorkshire'}"
      ]
     },
     "metadata": {},
     "output_type": "display_data"
    },
    {
     "name": "stdout",
     "output_type": "stream",
     "text": [
      "passed\n"
     ]
    },
    {
     "data": {
      "text/plain": [
       "{'observation_id': '89fb7860-019d-49b7-98fa-f9991cc52af8',\n",
       " 'Type': 'Person search',\n",
       " 'Date': '2020-05-15T08:57:00+00:00',\n",
       " 'Part of a policing operation': False,\n",
       " 'Latitude': nan,\n",
       " 'Longitude': nan,\n",
       " 'Gender': 'Male',\n",
       " 'Age range': 'over 34',\n",
       " 'Officer-defined ethnicity': 'White',\n",
       " 'Legislation': 'Misuse of Drugs Act 1971 (section 23)',\n",
       " 'Object of search': 'Controlled drugs',\n",
       " 'station': 'nottinghamshire'}"
      ]
     },
     "metadata": {},
     "output_type": "display_data"
    },
    {
     "data": {
      "text/plain": [
       "{'Part of a policing operation': <NA>,\n",
       " 'error': 'Provided \"Part of a policing operation\" field is not of the correct data type'}"
      ]
     },
     "metadata": {},
     "output_type": "display_data"
    },
    {
     "data": {
      "text/plain": [
       "{'Part of a policing operation': <NA>,\n",
       " 'error': 'Provided \"Part of a policing operation\" field is not of the correct data type'}"
      ]
     },
     "metadata": {},
     "output_type": "display_data"
    },
    {
     "data": {
      "text/plain": [
       "{'Part of a policing operation': <NA>,\n",
       " 'error': 'Provided \"Part of a policing operation\" field is not of the correct data type'}"
      ]
     },
     "metadata": {},
     "output_type": "display_data"
    },
    {
     "data": {
      "text/plain": [
       "{'Part of a policing operation': <NA>,\n",
       " 'error': 'Provided \"Part of a policing operation\" field is not of the correct data type'}"
      ]
     },
     "metadata": {},
     "output_type": "display_data"
    },
    {
     "data": {
      "text/plain": [
       "{'Part of a policing operation': <NA>,\n",
       " 'error': 'Provided \"Part of a policing operation\" field is not of the correct data type'}"
      ]
     },
     "metadata": {},
     "output_type": "display_data"
    },
    {
     "name": "stdout",
     "output_type": "stream",
     "text": [
      "passed\n"
     ]
    },
    {
     "data": {
      "text/plain": [
       "{'observation_id': 'fb381e71-49b2-4ece-8676-7ca89ed458c5',\n",
       " 'Type': 'Person and Vehicle search',\n",
       " 'Date': '2021-01-22T00:39:14+00:00',\n",
       " 'Part of a policing operation': False,\n",
       " 'Latitude': 52.966965,\n",
       " 'Longitude': -2.705331,\n",
       " 'Gender': 'Male',\n",
       " 'Age range': '10-17',\n",
       " 'Officer-defined ethnicity': 'White',\n",
       " 'Legislation': 'Misuse of Drugs Act 1971 (section 23)',\n",
       " 'Object of search': 'Controlled drugs',\n",
       " 'station': 'west-mercia'}"
      ]
     },
     "metadata": {},
     "output_type": "display_data"
    },
    {
     "name": "stdout",
     "output_type": "stream",
     "text": [
      "passed\n"
     ]
    },
    {
     "data": {
      "text/plain": [
       "{'observation_id': 'd006d4f3-8b0a-4317-86c9-d2683fec84a6',\n",
       " 'Type': 'Person and Vehicle search',\n",
       " 'Date': '2021-07-07T22:30:00+00:00',\n",
       " 'Part of a policing operation': False,\n",
       " 'Latitude': 51.897327,\n",
       " 'Longitude': -2.070903,\n",
       " 'Gender': 'Male',\n",
       " 'Age range': '10-17',\n",
       " 'Officer-defined ethnicity': 'White',\n",
       " 'Legislation': 'Firearms Act 1968 (section 47)',\n",
       " 'Object of search': 'Firearms',\n",
       " 'station': 'gloucestershire'}"
      ]
     },
     "metadata": {},
     "output_type": "display_data"
    },
    {
     "data": {
      "text/plain": [
       "{'Part of a policing operation': <NA>,\n",
       " 'error': 'Provided \"Part of a policing operation\" field is not of the correct data type'}"
      ]
     },
     "metadata": {},
     "output_type": "display_data"
    },
    {
     "data": {
      "text/plain": [
       "{'Part of a policing operation': <NA>,\n",
       " 'error': 'Provided \"Part of a policing operation\" field is not of the correct data type'}"
      ]
     },
     "metadata": {},
     "output_type": "display_data"
    },
    {
     "data": {
      "text/plain": [
       "{'Part of a policing operation': <NA>,\n",
       " 'error': 'Provided \"Part of a policing operation\" field is not of the correct data type'}"
      ]
     },
     "metadata": {},
     "output_type": "display_data"
    },
    {
     "ename": "KeyboardInterrupt",
     "evalue": "",
     "output_type": "error",
     "traceback": [
      "\u001b[0;31m---------------------------------------------------------------------------\u001b[0m",
      "\u001b[0;31mKeyboardInterrupt\u001b[0m                         Traceback (most recent call last)",
      "\u001b[1;32m/Users/joaosa/projects/ldsa_capstone/3 Protect App.ipynb Cell 22\u001b[0m in \u001b[0;36m<cell line: 5>\u001b[0;34m()\u001b[0m\n\u001b[1;32m     <a href='vscode-notebook-cell:/Users/joaosa/projects/ldsa_capstone/3%20Protect%20App.ipynb#X31sZmlsZQ%3D%3D?line=13'>14</a>\u001b[0m \u001b[39melse\u001b[39;00m: \n\u001b[1;32m     <a href='vscode-notebook-cell:/Users/joaosa/projects/ldsa_capstone/3%20Protect%20App.ipynb#X31sZmlsZQ%3D%3D?line=14'>15</a>\u001b[0m     display(response)\n\u001b[0;32m---> <a href='vscode-notebook-cell:/Users/joaosa/projects/ldsa_capstone/3%20Protect%20App.ipynb#X31sZmlsZQ%3D%3D?line=16'>17</a>\u001b[0m sleep(\u001b[39m0.5\u001b[39;49m)\n",
      "\u001b[0;31mKeyboardInterrupt\u001b[0m: "
     ]
    }
   ],
   "source": [
    "# reshuffle available test set\n",
    "r = list(range(len(X_test)))\n",
    "random.shuffle(r)\n",
    "\n",
    "for i in r:\n",
    "    \n",
    "    obs_dict = X_test.iloc[i, :].to_dict()\n",
    "\n",
    "    response, check = aux_functions.attempt_predict(obs_dict)\n",
    "\n",
    "    if check:\n",
    "        print(\"passed\")\n",
    "        display(response)\n",
    "    else: \n",
    "        display(response)\n",
    "    \n",
    "    sleep(0.5)"
   ]
  },
  {
   "cell_type": "code",
   "execution_count": 23,
   "metadata": {},
   "outputs": [
    {
     "data": {
      "text/plain": [
       "<Response [200]>"
      ]
     },
     "metadata": {},
     "output_type": "display_data"
    },
    {
     "name": "stdout",
     "output_type": "stream",
     "text": [
      "b'{\\n  \"error\": \"Observation ID: \\\\\"2e4d0094-c30b-471b-a211-72a9790feca2\\\\\" already exists\", \\n  \"outcome\": \"[False]\"\\n}\\n'\n"
     ]
    }
   ],
   "source": [
    "r = list(range(len(X_test)))\n",
    "test_list = random.shuffle(r)\n",
    "\n",
    "url = f\"http://{APP_NAME}/should_search\"\n",
    "payload = {  \n",
    "        'observation_id': '2e4d0094-c30b-471b-a211-72a9790feca2',\n",
    "        'Type': 'Person search',\n",
    "        'Date': '2020-12-01 01:10:00+0000',\n",
    "        'Part of a policing operation': False,\n",
    "        'Latitude': 50.798824,\n",
    "        'Longitude': -1.089471,\n",
    "        'Gender': 'Male',\n",
    "        'Age range': '25-34',\n",
    "        'Officer-defined ethnicity': 'White',\n",
    "        'Legislation': 'Police and Criminal Evidence Act 1984 (section 1)',\n",
    "        'Object of search': 'Article for use in theft',\n",
    "        'station': 'hampshire'\n",
    "    }\n",
    "\n",
    "r = requests.post(url, json=payload)\n",
    "display(r)\n",
    "print(r.content)"
   ]
  },
  {
   "cell_type": "code",
   "execution_count": 22,
   "metadata": {},
   "outputs": [],
   "source": [
    "# TEST LOCALLY\n",
    "\n",
    "APP_NAME = 'localhost:5000' \n"
   ]
  },
  {
   "cell_type": "code",
   "execution_count": 34,
   "metadata": {},
   "outputs": [
    {
     "data": {
      "text/plain": [
       "{'observation_id': '45ae789b-68ce-4197-a4a3-d09427f47500',\n",
       " 'Type': 'Person search',\n",
       " 'Date': '2020-07-07T17:30:00+00:00',\n",
       " 'Part of a policing operation': <NA>,\n",
       " 'Latitude': 53.20278,\n",
       " 'Longitude': -2.870975,\n",
       " 'Gender': 'Male',\n",
       " 'Age range': '25-34',\n",
       " 'Officer-defined ethnicity': 'White',\n",
       " 'Legislation': 'Misuse of Drugs Act 1971 (section 23)',\n",
       " 'Object of search': 'Controlled drugs',\n",
       " 'station': 'cheshire'}"
      ]
     },
     "metadata": {},
     "output_type": "display_data"
    },
    {
     "ename": "TypeError",
     "evalue": "Object of type NAType is not JSON serializable",
     "output_type": "error",
     "traceback": [
      "\u001b[0;31m---------------------------------------------------------------------------\u001b[0m",
      "\u001b[0;31mTypeError\u001b[0m                                 Traceback (most recent call last)",
      "\u001b[1;32m/Users/joaosa/projects/ldsa_capstone/3 Protect App.ipynb Cell 25\u001b[0m in \u001b[0;36m<cell line: 6>\u001b[0;34m()\u001b[0m\n\u001b[1;32m     <a href='vscode-notebook-cell:/Users/joaosa/projects/ldsa_capstone/3%20Protect%20App.ipynb#X36sZmlsZQ%3D%3D?line=9'>10</a>\u001b[0m payload \u001b[39m=\u001b[39m obs_dict\n\u001b[1;32m     <a href='vscode-notebook-cell:/Users/joaosa/projects/ldsa_capstone/3%20Protect%20App.ipynb#X36sZmlsZQ%3D%3D?line=11'>12</a>\u001b[0m display(payload)\n\u001b[0;32m---> <a href='vscode-notebook-cell:/Users/joaosa/projects/ldsa_capstone/3%20Protect%20App.ipynb#X36sZmlsZQ%3D%3D?line=13'>14</a>\u001b[0m r \u001b[39m=\u001b[39m requests\u001b[39m.\u001b[39;49mpost(url, json\u001b[39m=\u001b[39;49mpayload)\n\u001b[1;32m     <a href='vscode-notebook-cell:/Users/joaosa/projects/ldsa_capstone/3%20Protect%20App.ipynb#X36sZmlsZQ%3D%3D?line=14'>15</a>\u001b[0m display(r)\n\u001b[1;32m     <a href='vscode-notebook-cell:/Users/joaosa/projects/ldsa_capstone/3%20Protect%20App.ipynb#X36sZmlsZQ%3D%3D?line=15'>16</a>\u001b[0m \u001b[39mprint\u001b[39m(r\u001b[39m.\u001b[39mcontent)\n",
      "File \u001b[0;32m~/.virtualenvs/cap_prod/lib/python3.8/site-packages/requests/api.py:117\u001b[0m, in \u001b[0;36mpost\u001b[0;34m(url, data, json, **kwargs)\u001b[0m\n\u001b[1;32m    105\u001b[0m \u001b[39mdef\u001b[39;00m \u001b[39mpost\u001b[39m(url, data\u001b[39m=\u001b[39m\u001b[39mNone\u001b[39;00m, json\u001b[39m=\u001b[39m\u001b[39mNone\u001b[39;00m, \u001b[39m*\u001b[39m\u001b[39m*\u001b[39mkwargs):\n\u001b[1;32m    106\u001b[0m \u001b[39m    \u001b[39m\u001b[39mr\u001b[39m\u001b[39m\"\"\"Sends a POST request.\u001b[39;00m\n\u001b[1;32m    107\u001b[0m \n\u001b[1;32m    108\u001b[0m \u001b[39m    :param url: URL for the new :class:`Request` object.\u001b[39;00m\n\u001b[0;32m   (...)\u001b[0m\n\u001b[1;32m    114\u001b[0m \u001b[39m    :rtype: requests.Response\u001b[39;00m\n\u001b[1;32m    115\u001b[0m \u001b[39m    \"\"\"\u001b[39;00m\n\u001b[0;32m--> 117\u001b[0m     \u001b[39mreturn\u001b[39;00m request(\u001b[39m'\u001b[39;49m\u001b[39mpost\u001b[39;49m\u001b[39m'\u001b[39;49m, url, data\u001b[39m=\u001b[39;49mdata, json\u001b[39m=\u001b[39;49mjson, \u001b[39m*\u001b[39;49m\u001b[39m*\u001b[39;49mkwargs)\n",
      "File \u001b[0;32m~/.virtualenvs/cap_prod/lib/python3.8/site-packages/requests/api.py:61\u001b[0m, in \u001b[0;36mrequest\u001b[0;34m(method, url, **kwargs)\u001b[0m\n\u001b[1;32m     57\u001b[0m \u001b[39m# By using the 'with' statement we are sure the session is closed, thus we\u001b[39;00m\n\u001b[1;32m     58\u001b[0m \u001b[39m# avoid leaving sockets open which can trigger a ResourceWarning in some\u001b[39;00m\n\u001b[1;32m     59\u001b[0m \u001b[39m# cases, and look like a memory leak in others.\u001b[39;00m\n\u001b[1;32m     60\u001b[0m \u001b[39mwith\u001b[39;00m sessions\u001b[39m.\u001b[39mSession() \u001b[39mas\u001b[39;00m session:\n\u001b[0;32m---> 61\u001b[0m     \u001b[39mreturn\u001b[39;00m session\u001b[39m.\u001b[39;49mrequest(method\u001b[39m=\u001b[39;49mmethod, url\u001b[39m=\u001b[39;49murl, \u001b[39m*\u001b[39;49m\u001b[39m*\u001b[39;49mkwargs)\n",
      "File \u001b[0;32m~/.virtualenvs/cap_prod/lib/python3.8/site-packages/requests/sessions.py:528\u001b[0m, in \u001b[0;36mSession.request\u001b[0;34m(self, method, url, params, data, headers, cookies, files, auth, timeout, allow_redirects, proxies, hooks, stream, verify, cert, json)\u001b[0m\n\u001b[1;32m    515\u001b[0m \u001b[39m# Create the Request.\u001b[39;00m\n\u001b[1;32m    516\u001b[0m req \u001b[39m=\u001b[39m Request(\n\u001b[1;32m    517\u001b[0m     method\u001b[39m=\u001b[39mmethod\u001b[39m.\u001b[39mupper(),\n\u001b[1;32m    518\u001b[0m     url\u001b[39m=\u001b[39murl,\n\u001b[0;32m   (...)\u001b[0m\n\u001b[1;32m    526\u001b[0m     hooks\u001b[39m=\u001b[39mhooks,\n\u001b[1;32m    527\u001b[0m )\n\u001b[0;32m--> 528\u001b[0m prep \u001b[39m=\u001b[39m \u001b[39mself\u001b[39;49m\u001b[39m.\u001b[39;49mprepare_request(req)\n\u001b[1;32m    530\u001b[0m proxies \u001b[39m=\u001b[39m proxies \u001b[39mor\u001b[39;00m {}\n\u001b[1;32m    532\u001b[0m settings \u001b[39m=\u001b[39m \u001b[39mself\u001b[39m\u001b[39m.\u001b[39mmerge_environment_settings(\n\u001b[1;32m    533\u001b[0m     prep\u001b[39m.\u001b[39murl, proxies, stream, verify, cert\n\u001b[1;32m    534\u001b[0m )\n",
      "File \u001b[0;32m~/.virtualenvs/cap_prod/lib/python3.8/site-packages/requests/sessions.py:456\u001b[0m, in \u001b[0;36mSession.prepare_request\u001b[0;34m(self, request)\u001b[0m\n\u001b[1;32m    453\u001b[0m     auth \u001b[39m=\u001b[39m get_netrc_auth(request\u001b[39m.\u001b[39murl)\n\u001b[1;32m    455\u001b[0m p \u001b[39m=\u001b[39m PreparedRequest()\n\u001b[0;32m--> 456\u001b[0m p\u001b[39m.\u001b[39;49mprepare(\n\u001b[1;32m    457\u001b[0m     method\u001b[39m=\u001b[39;49mrequest\u001b[39m.\u001b[39;49mmethod\u001b[39m.\u001b[39;49mupper(),\n\u001b[1;32m    458\u001b[0m     url\u001b[39m=\u001b[39;49mrequest\u001b[39m.\u001b[39;49murl,\n\u001b[1;32m    459\u001b[0m     files\u001b[39m=\u001b[39;49mrequest\u001b[39m.\u001b[39;49mfiles,\n\u001b[1;32m    460\u001b[0m     data\u001b[39m=\u001b[39;49mrequest\u001b[39m.\u001b[39;49mdata,\n\u001b[1;32m    461\u001b[0m     json\u001b[39m=\u001b[39;49mrequest\u001b[39m.\u001b[39;49mjson,\n\u001b[1;32m    462\u001b[0m     headers\u001b[39m=\u001b[39;49mmerge_setting(request\u001b[39m.\u001b[39;49mheaders, \u001b[39mself\u001b[39;49m\u001b[39m.\u001b[39;49mheaders, dict_class\u001b[39m=\u001b[39;49mCaseInsensitiveDict),\n\u001b[1;32m    463\u001b[0m     params\u001b[39m=\u001b[39;49mmerge_setting(request\u001b[39m.\u001b[39;49mparams, \u001b[39mself\u001b[39;49m\u001b[39m.\u001b[39;49mparams),\n\u001b[1;32m    464\u001b[0m     auth\u001b[39m=\u001b[39;49mmerge_setting(auth, \u001b[39mself\u001b[39;49m\u001b[39m.\u001b[39;49mauth),\n\u001b[1;32m    465\u001b[0m     cookies\u001b[39m=\u001b[39;49mmerged_cookies,\n\u001b[1;32m    466\u001b[0m     hooks\u001b[39m=\u001b[39;49mmerge_hooks(request\u001b[39m.\u001b[39;49mhooks, \u001b[39mself\u001b[39;49m\u001b[39m.\u001b[39;49mhooks),\n\u001b[1;32m    467\u001b[0m )\n\u001b[1;32m    468\u001b[0m \u001b[39mreturn\u001b[39;00m p\n",
      "File \u001b[0;32m~/.virtualenvs/cap_prod/lib/python3.8/site-packages/requests/models.py:319\u001b[0m, in \u001b[0;36mPreparedRequest.prepare\u001b[0;34m(self, method, url, headers, files, data, params, auth, cookies, hooks, json)\u001b[0m\n\u001b[1;32m    317\u001b[0m \u001b[39mself\u001b[39m\u001b[39m.\u001b[39mprepare_headers(headers)\n\u001b[1;32m    318\u001b[0m \u001b[39mself\u001b[39m\u001b[39m.\u001b[39mprepare_cookies(cookies)\n\u001b[0;32m--> 319\u001b[0m \u001b[39mself\u001b[39;49m\u001b[39m.\u001b[39;49mprepare_body(data, files, json)\n\u001b[1;32m    320\u001b[0m \u001b[39mself\u001b[39m\u001b[39m.\u001b[39mprepare_auth(auth, url)\n\u001b[1;32m    322\u001b[0m \u001b[39m# Note that prepare_auth must be last to enable authentication schemes\u001b[39;00m\n\u001b[1;32m    323\u001b[0m \u001b[39m# such as OAuth to work on a fully prepared request.\u001b[39;00m\n\u001b[1;32m    324\u001b[0m \n\u001b[1;32m    325\u001b[0m \u001b[39m# This MUST go after prepare_auth. Authenticators could add a hook\u001b[39;00m\n",
      "File \u001b[0;32m~/.virtualenvs/cap_prod/lib/python3.8/site-packages/requests/models.py:471\u001b[0m, in \u001b[0;36mPreparedRequest.prepare_body\u001b[0;34m(self, data, files, json)\u001b[0m\n\u001b[1;32m    468\u001b[0m content_type \u001b[39m=\u001b[39m \u001b[39m'\u001b[39m\u001b[39mapplication/json\u001b[39m\u001b[39m'\u001b[39m\n\u001b[1;32m    470\u001b[0m \u001b[39mtry\u001b[39;00m:\n\u001b[0;32m--> 471\u001b[0m   body \u001b[39m=\u001b[39m complexjson\u001b[39m.\u001b[39;49mdumps(json, allow_nan\u001b[39m=\u001b[39;49m\u001b[39mFalse\u001b[39;49;00m)\n\u001b[1;32m    472\u001b[0m \u001b[39mexcept\u001b[39;00m \u001b[39mValueError\u001b[39;00m \u001b[39mas\u001b[39;00m ve:\n\u001b[1;32m    473\u001b[0m   \u001b[39mraise\u001b[39;00m InvalidJSONError(ve, request\u001b[39m=\u001b[39m\u001b[39mself\u001b[39m)\n",
      "File \u001b[0;32m/usr/local/Cellar/python@3.8/3.8.14/Frameworks/Python.framework/Versions/3.8/lib/python3.8/json/__init__.py:234\u001b[0m, in \u001b[0;36mdumps\u001b[0;34m(obj, skipkeys, ensure_ascii, check_circular, allow_nan, cls, indent, separators, default, sort_keys, **kw)\u001b[0m\n\u001b[1;32m    232\u001b[0m \u001b[39mif\u001b[39;00m \u001b[39mcls\u001b[39m \u001b[39mis\u001b[39;00m \u001b[39mNone\u001b[39;00m:\n\u001b[1;32m    233\u001b[0m     \u001b[39mcls\u001b[39m \u001b[39m=\u001b[39m JSONEncoder\n\u001b[0;32m--> 234\u001b[0m \u001b[39mreturn\u001b[39;00m \u001b[39mcls\u001b[39;49m(\n\u001b[1;32m    235\u001b[0m     skipkeys\u001b[39m=\u001b[39;49mskipkeys, ensure_ascii\u001b[39m=\u001b[39;49mensure_ascii,\n\u001b[1;32m    236\u001b[0m     check_circular\u001b[39m=\u001b[39;49mcheck_circular, allow_nan\u001b[39m=\u001b[39;49mallow_nan, indent\u001b[39m=\u001b[39;49mindent,\n\u001b[1;32m    237\u001b[0m     separators\u001b[39m=\u001b[39;49mseparators, default\u001b[39m=\u001b[39;49mdefault, sort_keys\u001b[39m=\u001b[39;49msort_keys,\n\u001b[1;32m    238\u001b[0m     \u001b[39m*\u001b[39;49m\u001b[39m*\u001b[39;49mkw)\u001b[39m.\u001b[39;49mencode(obj)\n",
      "File \u001b[0;32m/usr/local/Cellar/python@3.8/3.8.14/Frameworks/Python.framework/Versions/3.8/lib/python3.8/json/encoder.py:199\u001b[0m, in \u001b[0;36mJSONEncoder.encode\u001b[0;34m(self, o)\u001b[0m\n\u001b[1;32m    195\u001b[0m         \u001b[39mreturn\u001b[39;00m encode_basestring(o)\n\u001b[1;32m    196\u001b[0m \u001b[39m# This doesn't pass the iterator directly to ''.join() because the\u001b[39;00m\n\u001b[1;32m    197\u001b[0m \u001b[39m# exceptions aren't as detailed.  The list call should be roughly\u001b[39;00m\n\u001b[1;32m    198\u001b[0m \u001b[39m# equivalent to the PySequence_Fast that ''.join() would do.\u001b[39;00m\n\u001b[0;32m--> 199\u001b[0m chunks \u001b[39m=\u001b[39m \u001b[39mself\u001b[39;49m\u001b[39m.\u001b[39;49miterencode(o, _one_shot\u001b[39m=\u001b[39;49m\u001b[39mTrue\u001b[39;49;00m)\n\u001b[1;32m    200\u001b[0m \u001b[39mif\u001b[39;00m \u001b[39mnot\u001b[39;00m \u001b[39misinstance\u001b[39m(chunks, (\u001b[39mlist\u001b[39m, \u001b[39mtuple\u001b[39m)):\n\u001b[1;32m    201\u001b[0m     chunks \u001b[39m=\u001b[39m \u001b[39mlist\u001b[39m(chunks)\n",
      "File \u001b[0;32m/usr/local/Cellar/python@3.8/3.8.14/Frameworks/Python.framework/Versions/3.8/lib/python3.8/json/encoder.py:257\u001b[0m, in \u001b[0;36mJSONEncoder.iterencode\u001b[0;34m(self, o, _one_shot)\u001b[0m\n\u001b[1;32m    252\u001b[0m \u001b[39melse\u001b[39;00m:\n\u001b[1;32m    253\u001b[0m     _iterencode \u001b[39m=\u001b[39m _make_iterencode(\n\u001b[1;32m    254\u001b[0m         markers, \u001b[39mself\u001b[39m\u001b[39m.\u001b[39mdefault, _encoder, \u001b[39mself\u001b[39m\u001b[39m.\u001b[39mindent, floatstr,\n\u001b[1;32m    255\u001b[0m         \u001b[39mself\u001b[39m\u001b[39m.\u001b[39mkey_separator, \u001b[39mself\u001b[39m\u001b[39m.\u001b[39mitem_separator, \u001b[39mself\u001b[39m\u001b[39m.\u001b[39msort_keys,\n\u001b[1;32m    256\u001b[0m         \u001b[39mself\u001b[39m\u001b[39m.\u001b[39mskipkeys, _one_shot)\n\u001b[0;32m--> 257\u001b[0m \u001b[39mreturn\u001b[39;00m _iterencode(o, \u001b[39m0\u001b[39;49m)\n",
      "File \u001b[0;32m/usr/local/Cellar/python@3.8/3.8.14/Frameworks/Python.framework/Versions/3.8/lib/python3.8/json/encoder.py:179\u001b[0m, in \u001b[0;36mJSONEncoder.default\u001b[0;34m(self, o)\u001b[0m\n\u001b[1;32m    160\u001b[0m \u001b[39mdef\u001b[39;00m \u001b[39mdefault\u001b[39m(\u001b[39mself\u001b[39m, o):\n\u001b[1;32m    161\u001b[0m \u001b[39m    \u001b[39m\u001b[39m\"\"\"Implement this method in a subclass such that it returns\u001b[39;00m\n\u001b[1;32m    162\u001b[0m \u001b[39m    a serializable object for ``o``, or calls the base implementation\u001b[39;00m\n\u001b[1;32m    163\u001b[0m \u001b[39m    (to raise a ``TypeError``).\u001b[39;00m\n\u001b[0;32m   (...)\u001b[0m\n\u001b[1;32m    177\u001b[0m \n\u001b[1;32m    178\u001b[0m \u001b[39m    \"\"\"\u001b[39;00m\n\u001b[0;32m--> 179\u001b[0m     \u001b[39mraise\u001b[39;00m \u001b[39mTypeError\u001b[39;00m(\u001b[39mf\u001b[39m\u001b[39m'\u001b[39m\u001b[39mObject of type \u001b[39m\u001b[39m{\u001b[39;00mo\u001b[39m.\u001b[39m\u001b[39m__class__\u001b[39m\u001b[39m.\u001b[39m\u001b[39m__name__\u001b[39m\u001b[39m}\u001b[39;00m\u001b[39m \u001b[39m\u001b[39m'\u001b[39m\n\u001b[1;32m    180\u001b[0m                     \u001b[39mf\u001b[39m\u001b[39m'\u001b[39m\u001b[39mis not JSON serializable\u001b[39m\u001b[39m'\u001b[39m)\n",
      "\u001b[0;31mTypeError\u001b[0m: Object of type NAType is not JSON serializable"
     ]
    }
   ],
   "source": [
    "r = list(range(len(X_test)))\n",
    "random.shuffle(r)\n",
    "\n",
    "url = f\"http://{APP_NAME}/should_search\"\n",
    "\n",
    "for i in r:\n",
    "    \n",
    "    obs_dict = X_test.iloc[i, :].to_dict()\n",
    "\n",
    "    payload = obs_dict\n",
    "\n",
    "    display(payload)\n",
    "\n",
    "    r = requests.post(url, json=payload)\n",
    "    display(r)\n",
    "    print(r.content)\n",
    "    \n",
    "    sleep(0.5)"
   ]
  }
 ],
 "metadata": {
  "kernelspec": {
   "display_name": "cap_prod",
   "language": "python",
   "name": "python3"
  },
  "language_info": {
   "codemirror_mode": {
    "name": "ipython",
    "version": 3
   },
   "file_extension": ".py",
   "mimetype": "text/x-python",
   "name": "python",
   "nbconvert_exporter": "python",
   "pygments_lexer": "ipython3",
   "version": "3.8.14"
  },
  "orig_nbformat": 4
 },
 "nbformat": 4,
 "nbformat_minor": 2
}
