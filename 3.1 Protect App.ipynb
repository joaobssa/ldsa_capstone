{
 "cells": [
  {
   "attachments": {},
   "cell_type": "markdown",
   "metadata": {},
   "source": [
    "# Step 3.1: Protect App\n",
    "\n",
    "## Objective\n",
    "\n",
    "In this step of the project we develop validation functions for the API in order to make it impervious to weird inputs.\n",
    "\n",
    "## Findings\n",
    "\n",
    "We were able to create good enough validation rules that will allow the API to function without issues. We ran these rules through several observations of the training data without any issues."
   ]
  },
  {
   "cell_type": "code",
   "execution_count": 1,
   "metadata": {},
   "outputs": [],
   "source": [
    "import aux_functions\n",
    "from app_functions import attempt_predict\n",
    "from transformers import TimeTransformer, BoolTransformer\n",
    "\n",
    "import json\n",
    "import joblib\n",
    "import pickle\n",
    "import requests\n",
    "from time import sleep\n",
    "import random\n",
    "\n",
    "import pandas as pd\n",
    "pd.set_option('display.max_columns', 100)\n",
    "import os\n",
    "import matplotlib.pyplot as plt\n",
    "import matplotlib.gridspec as gridspec\n",
    "import seaborn as sns\n",
    "import numpy as np\n",
    "import datetime as dt\n",
    "\n",
    "from sklearn.model_selection import train_test_split\n",
    "from sklearn.pipeline import make_pipeline, Pipeline\n",
    "from sklearn.base import BaseEstimator, TransformerMixin\n",
    "from sklearn.model_selection import cross_val_score\n",
    "# from category_encoders import OneHotEncoder\n",
    "from sklearn.impute import SimpleImputer\n",
    "from sklearn.preprocessing import StandardScaler, OneHotEncoder, LabelEncoder, RobustScaler, OrdinalEncoder\n",
    "from sklearn.compose import ColumnTransformer\n",
    "from sklearn.model_selection import cross_val_score\n",
    "from sklearn.ensemble import RandomForestClassifier\n",
    "from sklearn.linear_model import LogisticRegression\n",
    "from sklearn.tree import DecisionTreeClassifier\n",
    "from sklearn.ensemble import GradientBoostingClassifier\n",
    "from sklearn.svm import SVC\n",
    "from sklearn.neighbors import KNeighborsClassifier\n",
    "from sklearn.naive_bayes import GaussianNB\n",
    "\n",
    "from sklearn.utils import resample\n",
    "from sklearn.metrics import precision_score, recall_score, f1_score,  accuracy_score, roc_auc_score, make_scorer, confusion_matrix, roc_curve\n",
    "\n",
    "# needed to use matplotlib inside jupyter notebook\n",
    "%matplotlib inline "
   ]
  },
  {
   "attachments": {},
   "cell_type": "markdown",
   "metadata": {},
   "source": [
    "# Get the data"
   ]
  },
  {
   "cell_type": "code",
   "execution_count": 2,
   "metadata": {},
   "outputs": [
    {
     "data": {
      "text/html": [
       "<div>\n",
       "<style scoped>\n",
       "    .dataframe tbody tr th:only-of-type {\n",
       "        vertical-align: middle;\n",
       "    }\n",
       "\n",
       "    .dataframe tbody tr th {\n",
       "        vertical-align: top;\n",
       "    }\n",
       "\n",
       "    .dataframe thead th {\n",
       "        text-align: right;\n",
       "    }\n",
       "</style>\n",
       "<table border=\"1\" class=\"dataframe\">\n",
       "  <thead>\n",
       "    <tr style=\"text-align: right;\">\n",
       "      <th></th>\n",
       "      <th>observation_id</th>\n",
       "      <th>Type</th>\n",
       "      <th>Date</th>\n",
       "      <th>Part of a policing operation</th>\n",
       "      <th>Latitude</th>\n",
       "      <th>Longitude</th>\n",
       "      <th>Gender</th>\n",
       "      <th>Age range</th>\n",
       "      <th>Officer-defined ethnicity</th>\n",
       "      <th>Legislation</th>\n",
       "      <th>Object of search</th>\n",
       "      <th>station</th>\n",
       "      <th>target</th>\n",
       "    </tr>\n",
       "  </thead>\n",
       "  <tbody>\n",
       "    <tr>\n",
       "      <th>438050</th>\n",
       "      <td>b7287b3c-fb25-42a5-afa3-e8320817eb6f</td>\n",
       "      <td>Person search</td>\n",
       "      <td>2021-07-30T16:00:00+00:00</td>\n",
       "      <td>False</td>\n",
       "      <td>53.797198</td>\n",
       "      <td>-1.789092</td>\n",
       "      <td>Male</td>\n",
       "      <td>25-34</td>\n",
       "      <td>Asian</td>\n",
       "      <td>Misuse of Drugs Act 1971 (section 23)</td>\n",
       "      <td>Controlled drugs</td>\n",
       "      <td>west-yorkshire</td>\n",
       "      <td>0</td>\n",
       "    </tr>\n",
       "    <tr>\n",
       "      <th>8521</th>\n",
       "      <td>4f9c9bbb-8806-4a9f-a83d-a7d1c9957527</td>\n",
       "      <td>Person search</td>\n",
       "      <td>2020-12-20T01:26:43+00:00</td>\n",
       "      <td>&lt;NA&gt;</td>\n",
       "      <td>51.508963</td>\n",
       "      <td>-0.073894</td>\n",
       "      <td>Male</td>\n",
       "      <td>over 34</td>\n",
       "      <td>White</td>\n",
       "      <td>Misuse of Drugs Act 1971 (section 23)</td>\n",
       "      <td>Controlled drugs</td>\n",
       "      <td>city-of-london</td>\n",
       "      <td>0</td>\n",
       "    </tr>\n",
       "    <tr>\n",
       "      <th>601361</th>\n",
       "      <td>1e57860f-9cb6-4afe-aabf-00b11c5012d2</td>\n",
       "      <td>Person search</td>\n",
       "      <td>2021-05-12T13:05:27+00:00</td>\n",
       "      <td>&lt;NA&gt;</td>\n",
       "      <td>53.397291</td>\n",
       "      <td>-3.034496</td>\n",
       "      <td>Male</td>\n",
       "      <td>over 34</td>\n",
       "      <td>White</td>\n",
       "      <td>Misuse of Drugs Act 1971 (section 23)</td>\n",
       "      <td>Controlled drugs</td>\n",
       "      <td>merseyside</td>\n",
       "      <td>0</td>\n",
       "    </tr>\n",
       "    <tr>\n",
       "      <th>282181</th>\n",
       "      <td>8d166c18-7351-41e0-8be6-3f9fb574d8d9</td>\n",
       "      <td>Person search</td>\n",
       "      <td>2020-06-15T11:20:00+00:00</td>\n",
       "      <td>&lt;NA&gt;</td>\n",
       "      <td>53.041893</td>\n",
       "      <td>-2.979160</td>\n",
       "      <td>Male</td>\n",
       "      <td>over 34</td>\n",
       "      <td>White</td>\n",
       "      <td>Misuse of Drugs Act 1971 (section 23)</td>\n",
       "      <td>Controlled drugs</td>\n",
       "      <td>north-wales</td>\n",
       "      <td>0</td>\n",
       "    </tr>\n",
       "    <tr>\n",
       "      <th>797640</th>\n",
       "      <td>3a2bdbf8-83f2-448b-bcf7-a2502632d5a8</td>\n",
       "      <td>Person search</td>\n",
       "      <td>2020-08-13T23:00:00+00:00</td>\n",
       "      <td>False</td>\n",
       "      <td>51.022386</td>\n",
       "      <td>-0.353517</td>\n",
       "      <td>Male</td>\n",
       "      <td>10-17</td>\n",
       "      <td>White</td>\n",
       "      <td>Police and Criminal Evidence Act 1984 (section 1)</td>\n",
       "      <td>Offensive weapons</td>\n",
       "      <td>sussex</td>\n",
       "      <td>0</td>\n",
       "    </tr>\n",
       "  </tbody>\n",
       "</table>\n",
       "</div>"
      ],
      "text/plain": [
       "                              observation_id           Type  \\\n",
       "438050  b7287b3c-fb25-42a5-afa3-e8320817eb6f  Person search   \n",
       "8521    4f9c9bbb-8806-4a9f-a83d-a7d1c9957527  Person search   \n",
       "601361  1e57860f-9cb6-4afe-aabf-00b11c5012d2  Person search   \n",
       "282181  8d166c18-7351-41e0-8be6-3f9fb574d8d9  Person search   \n",
       "797640  3a2bdbf8-83f2-448b-bcf7-a2502632d5a8  Person search   \n",
       "\n",
       "                             Date  Part of a policing operation   Latitude  \\\n",
       "438050  2021-07-30T16:00:00+00:00                         False  53.797198   \n",
       "8521    2020-12-20T01:26:43+00:00                          <NA>  51.508963   \n",
       "601361  2021-05-12T13:05:27+00:00                          <NA>  53.397291   \n",
       "282181  2020-06-15T11:20:00+00:00                          <NA>  53.041893   \n",
       "797640  2020-08-13T23:00:00+00:00                         False  51.022386   \n",
       "\n",
       "        Longitude Gender Age range Officer-defined ethnicity  \\\n",
       "438050  -1.789092   Male     25-34                     Asian   \n",
       "8521    -0.073894   Male   over 34                     White   \n",
       "601361  -3.034496   Male   over 34                     White   \n",
       "282181  -2.979160   Male   over 34                     White   \n",
       "797640  -0.353517   Male     10-17                     White   \n",
       "\n",
       "                                              Legislation   Object of search  \\\n",
       "438050              Misuse of Drugs Act 1971 (section 23)   Controlled drugs   \n",
       "8521                Misuse of Drugs Act 1971 (section 23)   Controlled drugs   \n",
       "601361              Misuse of Drugs Act 1971 (section 23)   Controlled drugs   \n",
       "282181              Misuse of Drugs Act 1971 (section 23)   Controlled drugs   \n",
       "797640  Police and Criminal Evidence Act 1984 (section 1)  Offensive weapons   \n",
       "\n",
       "               station  target  \n",
       "438050  west-yorkshire       0  \n",
       "8521    city-of-london       0  \n",
       "601361      merseyside       0  \n",
       "282181     north-wales       0  \n",
       "797640          sussex       0  "
      ]
     },
     "execution_count": 2,
     "metadata": {},
     "output_type": "execute_result"
    }
   ],
   "source": [
    "df_ = pd.read_csv(\"data/train.csv\")\n",
    "\n",
    "drop_cols = ['Self-defined ethnicity', 'Outcome', 'Outcome linked to object of search', 'Removal of more than just outer clothing']\n",
    "\n",
    "\n",
    "df_clean = aux_functions.clean_data(df_, drop_cols)\n",
    "\n",
    "df_train, df_test = train_test_split(df_clean, test_size=0.3, random_state=42)\n",
    "\n",
    "df_test.head()"
   ]
  },
  {
   "attachments": {},
   "cell_type": "markdown",
   "metadata": {},
   "source": [
    "# Recover Model"
   ]
  },
  {
   "cell_type": "code",
   "execution_count": 3,
   "metadata": {},
   "outputs": [],
   "source": [
    "with open(os.path.join(\"columns.json\"), 'r') as fh:\n",
    "    columns = json.load(fh)\n",
    "\n",
    "with open(os.path.join(\"dtypes.pickle\"), 'rb') as fh:\n",
    "    dtypes = pickle.load(fh)\n",
    "\n",
    "pipeline_recovered = joblib.load(os.path.join(\"pipeline.pickle\"))"
   ]
  },
  {
   "attachments": {},
   "cell_type": "markdown",
   "metadata": {},
   "source": [
    "# Develop API Protection Function"
   ]
  },
  {
   "attachments": {},
   "cell_type": "markdown",
   "metadata": {},
   "source": [
    "## Objectives\n",
    "\n",
    "* Validate that observation includes a valid id\n",
    "* Validate that observation has no unknown fields\n",
    "* Validate that fields have the correct data types\n",
    "* Validate that categorical columns have correct values\n"
   ]
  },
  {
   "cell_type": "code",
   "execution_count": 4,
   "metadata": {},
   "outputs": [
    {
     "data": {
      "text/plain": [
       "Index(['observation_id', 'Type', 'Date', 'Part of a policing operation',\n",
       "       'Latitude', 'Longitude', 'Gender', 'Age range',\n",
       "       'Officer-defined ethnicity', 'Legislation', 'Object of search',\n",
       "       'station', 'target'],\n",
       "      dtype='object')"
      ]
     },
     "execution_count": 4,
     "metadata": {},
     "output_type": "execute_result"
    }
   ],
   "source": [
    "df_test.columns"
   ]
  },
  {
   "cell_type": "code",
   "execution_count": null,
   "metadata": {},
   "outputs": [],
   "source": [
    "def attempt_predict(obs_dict):\n",
    "\n",
    "    # Function used to protect APP from unwanted inputs\n",
    "    \n",
    "    # Inputs: \n",
    "    #     obs_dict - dictionary containing input data\n",
    "    # Outputs:\n",
    "    #     observation - dictionary containing approved data\n",
    "    #     check - boolean indicating whether all checks were passed\n",
    "\n",
    "    valid_columns = {\n",
    "      \"observation_id\",\n",
    "      \"Type\",\n",
    "      \"Date\",\n",
    "      \"Part of a policing operation\", \n",
    "      \"Latitude\", \n",
    "      \"Longitude\", \n",
    "      \"Gender\",\n",
    "      \"Age range\",\n",
    "      \"Officer-defined ethnicity\",\n",
    "      \"Legislation\",\n",
    "      \"Object of search\",\n",
    "      \"station\"\n",
    "    }\n",
    "\n",
    "    valid_categories = {\n",
    "        \"Type\": ['Person search', 'Person and Vehicle search', 'Vehicle search'],\n",
    "        \"Gender\": ['Female', 'Male', 'Other'],\n",
    "        \"Age range\": ['under 10', '10-17', '18-24', '25-34', 'over 34'],\n",
    "        \"Officer-defined ethnicity\": ['Asian', 'Black', 'Mixed', 'White', 'Other' ]\n",
    "    }\n",
    "\n",
    "    # CHECK THAT observation_id exists ############################################################################\n",
    "\n",
    "    check = False # setting check to false by default\n",
    "\n",
    "    try:\n",
    "        observation_id_ = obs_dict[\"observation_id\"]\n",
    "    except:\n",
    "        response = {\"observation_id\": str(None), \"error\": \"observation_id field is missing from request\"}\n",
    "        return response, check\n",
    "    if type(observation_id_) != str:\n",
    "        response = {\"observation_id\": str(observation_id_), \"error\": 'Provided \"observation_id\" field is not of the correct data type'}\n",
    "        return response, check\n",
    "\n",
    "    # CHECK THAT THERE ARE NO MISSING OR EXTRA FIELDS IN OBSERVATION ############################################\n",
    "\n",
    "    keys = set(obs_dict.keys())\n",
    "    if len(valid_columns - keys) > 0: \n",
    "        missing = valid_columns - keys\n",
    "        error = \"Missing columns: {}\".format(missing)\n",
    "        response = {\"error\": error}\n",
    "        return response, check\n",
    "    \n",
    "    if len(keys - valid_columns) > 0: \n",
    "        extra = keys - valid_columns\n",
    "        error = \"Unrecognized columns provided: {}\".format(extra)\n",
    "        response = {\"error\": error}\n",
    "        return response, check\n",
    "    \n",
    "\n",
    "    # CHECK FIELD INTEGRITY #####################################################################################\n",
    "\n",
    "    \n",
    "    try:\n",
    "        type_ = obs_dict[\"Type\"]\n",
    "    except:\n",
    "        response = {\"type\": str(None), \"error\": \"Type field is missing from request\"}\n",
    "        return response, check\n",
    "    if type(type_) != str:\n",
    "        response = {\"type\": str(type_), \"error\": 'Provided \"Type\" field is not of the correct data type'}\n",
    "        return response, check\n",
    "    # VALIDATE CATEGORY VALUES\n",
    "    if type_ not in valid_categories[\"Type\"]:\n",
    "        error = \"Invalid value provided for Type: {}. Allowed values are: {}\".format(\n",
    "            type_, \",\".join([\"'{}'\".format(v) for v in valid_categories[\"Type\"]]))\n",
    "        response = {\"error\": error}\n",
    "        return response, check\n",
    "\n",
    "    try:\n",
    "        date_ = obs_dict[\"Date\"]\n",
    "    except:\n",
    "        response = {\"Date\": str(None), \"error\": \"Date field is missing from request\"}\n",
    "        return response, check\n",
    "    if type(date_) != str:\n",
    "        response = {\"Date\": str(date_), \"error\": 'Provided \"Date\" field is not of the correct data type'}\n",
    "        return response, check\n",
    "    # VALIDATE DATES\n",
    "    try:\n",
    "        date_test = pd.to_datetime(date_)\n",
    "    except:\n",
    "        response = {\"Date\": str(date_), \"error\": \"Date format is incorrect\"}\n",
    "        return response, check\n",
    "    if(date_test.year < 2020):\n",
    "        response = {\"Date\": str(date_), \"error\": \"Provided date is before 2020\"}\n",
    "        return response, check\n",
    "\n",
    "\n",
    "    try:\n",
    "        policing_op_ = obs_dict[\"Part of a policing operation\"]\n",
    "    except:\n",
    "        response = {\n",
    "                \"Part of a policing operation\": str(None),\n",
    "                \"error\": 'Part of a policing operation field is missing from request'\n",
    "            }\n",
    "        return response, check\n",
    "    if (str(policing_op_) != 'nan') & (str(policing_op_) != 'None') & (type(policing_op_) != bool):\n",
    "        response = {\n",
    "                \"Part of a policing operation\": str(policing_op_),\n",
    "                \"error\": 'Provided \"Part of a policing operation\" field is not of the correct data type'\n",
    "            }\n",
    "        return response, check\n",
    "    \n",
    "    try:\n",
    "        lat_ = obs_dict[\"Latitude\"]\n",
    "    except:\n",
    "        response = {\"Latitude\": str(None), \"error\": \"Type field is missing from request\"}\n",
    "        return response, check\n",
    "    if (lat_ != None) & (type(lat_) != float):\n",
    "        response = {\"Latitude\": str(lat_), \"error\": 'Provided \"Latitude\" field is not of the correct data type'}\n",
    "        return response, check\n",
    "\n",
    "    try:\n",
    "        long_ = obs_dict[\"Longitude\"]\n",
    "    except:\n",
    "        response = {\"Longitude\": str(None), \"error\": \"Type field is missing from request\"}\n",
    "        return response, check\n",
    "    if (long_ != None) &  (type(long_) != float):\n",
    "        response = {\"Longitude\": str(long_),\"error\": 'Provided \"Longitude\" field is not of the correct data type'}\n",
    "        return response, check\n",
    "\n",
    "    try:\n",
    "        gend_ = obs_dict[\"Gender\"]\n",
    "    except:\n",
    "        response = {\"Gender\": str(None), \"error\": \"Type field is missing from request\"}\n",
    "        return response, check\n",
    "    if type(gend_) != str:\n",
    "        response = {\"Gender\": str(gend_), \"error\": 'Provided \"Gender\" field is not of the correct data type'}\n",
    "        return response, check\n",
    "    # VALIDATE CATEGORY VALUES\n",
    "    if gend_ not in valid_categories[\"Gender\"]:\n",
    "        error = \"Invalid value provided for Gender: {}. Allowed values are: {}\".format(\n",
    "            gend_, \",\".join([\"'{}'\".format(v) for v in valid_categories[\"Gender\"]]))\n",
    "        response = {\"error\": error}\n",
    "        return response, check\n",
    "    \n",
    "\n",
    "    try:\n",
    "        age_range_ = obs_dict[\"Age range\"]\n",
    "    except:\n",
    "        response = {\"Age range\": str(None), \"error\": \"Type field is missing from request\"}\n",
    "        return response, check\n",
    "    if type(age_range_) != str:\n",
    "        response = {\"Age range\": str(age_range_), \"error\": 'Provided \"Age range\" field is not of the correct data type'}\n",
    "        return response, check\n",
    "    # VALIDATE CATEGORY VALUES\n",
    "    if age_range_ not in valid_categories[\"Age range\"]:\n",
    "        error = \"Invalid value provided for Age range: {}. Allowed values are: {}\".format(\n",
    "            age_range_, \",\".join([\"'{}'\".format(v) for v in valid_categories[\"Age range\"]]))\n",
    "        response = {\"error\": error}\n",
    "        return response, check\n",
    "\n",
    "    try:\n",
    "        officer_def_ethnicity_ = obs_dict[\"Officer-defined ethnicity\"]\n",
    "    except:\n",
    "        response = {\"Officer-defined ethnicity\": str(None),\n",
    "                \"error\": \"Officer-defined ethnicity field is missing from request\"}\n",
    "        return response, check\n",
    "    if type(officer_def_ethnicity_) != str:\n",
    "        response = {\"Officer-defined ethnicity\": str(officer_def_ethnicity_), \"error\": 'Provided \"Officer-defined ethnicity\" field is not of the correct data type'}\n",
    "        return response, check\n",
    "    # VALIDATE CATEGORY VALUES\n",
    "    if officer_def_ethnicity_ not in valid_categories[\"Officer-defined ethnicity\"]:\n",
    "        error = \"Invalid value provided for Officer-defined ethnicity: {}. Allowed values are: {}\".format(\n",
    "            officer_def_ethnicity_, \",\".join([\"'{}'\".format(v) for v in valid_categories[\"Officer-defined ethnicity\"]]))\n",
    "        response = {\"error\": error}\n",
    "        return response, check\n",
    "    \n",
    "\n",
    "    try:\n",
    "        legislation_ = obs_dict[\"Legislation\"]\n",
    "    except:\n",
    "        response = {\"Legislation\": str(None), \"error\": \"Legislation field is missing from request\"}\n",
    "        return response\n",
    "    if  (str(legislation_).lower() != 'nan') & (str(legislation_).lower() != 'none') & (legislation_ != None) &  (type(legislation_) != str):\n",
    "        response = {\"Legislation\": str(legislation_), \"error\": 'Provided \"Legislation\" field is not of the correct data type'}\n",
    "        return response, check\n",
    "\n",
    "    try:\n",
    "        obj_search_ = obs_dict[\"Object of search\"]\n",
    "    except:\n",
    "        response = {\"Object of search\": str(None), \"error\": \"Object of search field is missing from request\"}\n",
    "        return response, check\n",
    "    if type(obj_search_) != str:\n",
    "        response = {\"Object of search\": str(obj_search_), \"error\": 'Provided \"Object of search\" field is not of the correct data type'}\n",
    "        return response, check\n",
    "\n",
    "    try:\n",
    "        station_ = obs_dict[\"station\"]\n",
    "    except:\n",
    "        response = {\"station\": str(None), \"error\": \"station field is missing from request\"}\n",
    "        return response, check\n",
    "    if type(station_) != str:\n",
    "        response = {\"station\": str(station_),\"error\": 'Provided \"station\" field is not of the correct data type'}\n",
    "        return response, check\n",
    "\n",
    "    check = True # all checks were passed\n",
    "\n",
    "    # Handle Part of a policing operation\n",
    "    if str(policing_op_).lower() == 'true':\n",
    "        police_op = True\n",
    "    else:\n",
    "        police_op = False\n",
    "\n",
    "    observation =   {'observation_id': observation_id_,\n",
    "                    'Type': type_,\n",
    "                    'Date': date_,\n",
    "                    'Part of a policing operation': police_op,\n",
    "                    'Latitude': lat_,\n",
    "                    'Longitude': long_,\n",
    "                    'Gender': gend_,\n",
    "                    'Age range': age_range_,\n",
    "                    'Officer-defined ethnicity': officer_def_ethnicity_,\n",
    "                    'Legislation': legislation_,\n",
    "                    'Object of search': obj_search_,\n",
    "                    'station': station_}\n",
    "    \n",
    "    return observation, check"
   ]
  },
  {
   "attachments": {},
   "cell_type": "markdown",
   "metadata": {},
   "source": [
    "# Generate Observation"
   ]
  },
  {
   "cell_type": "code",
   "execution_count": 5,
   "metadata": {},
   "outputs": [],
   "source": [
    "y_test = df_test[\"target\"].copy()\n",
    "X_test = df_test.drop(columns=[\"target\"]).copy()"
   ]
  },
  {
   "cell_type": "code",
   "execution_count": 6,
   "metadata": {},
   "outputs": [
    {
     "data": {
      "text/plain": [
       "{'observation_id': 'b7287b3c-fb25-42a5-afa3-e8320817eb6f',\n",
       " 'Type': 'Person search',\n",
       " 'Date': '2021-07-30T16:00:00+00:00',\n",
       " 'Part of a policing operation': False,\n",
       " 'Latitude': 53.797198,\n",
       " 'Longitude': -1.789092,\n",
       " 'Gender': 'Male',\n",
       " 'Age range': '25-34',\n",
       " 'Officer-defined ethnicity': 'Asian',\n",
       " 'Legislation': 'Misuse of Drugs Act 1971 (section 23)',\n",
       " 'Object of search': 'Controlled drugs',\n",
       " 'station': 'west-yorkshire'}"
      ]
     },
     "execution_count": 6,
     "metadata": {},
     "output_type": "execute_result"
    }
   ],
   "source": [
    "obs_dict = X_test.iloc[0, :].to_dict()\n",
    "\n",
    "obs_dict"
   ]
  },
  {
   "cell_type": "code",
   "execution_count": 7,
   "metadata": {},
   "outputs": [
    {
     "data": {
      "text/plain": [
       "{'error': \"Unrecognized columns provided: {'extra column 2', 'extra column 1'}\"}"
      ]
     },
     "metadata": {},
     "output_type": "display_data"
    }
   ],
   "source": [
    "# example with extra columns\n",
    "\n",
    "obs_dict = {'observation_id': \"b7287b3c-fb25-42a5-afa3-e8320817eb6f\",\n",
    "    'Type': 'Person search',\n",
    "    'Date': '2021-07-30T16:00:00+00:00',\n",
    "    'Part of a policing operation': False,\n",
    "    'Latitude': 53.797198,\n",
    "    'Longitude': -1.789092,\n",
    "    'Gender': 'Male',\n",
    "    'extra column 1': 1,\n",
    "    'extra column 2': 3,\n",
    "    'Age range': '25-34',\n",
    "    'Officer-defined ethnicity': 'Asian',\n",
    "    'Legislation': 'Misuse of Drugs Act 1971 (section 23)',\n",
    "    'Object of search': 'Controlled drugs',\n",
    "    'station': 'west-yorkshire'}\n",
    "\n",
    "response, check = attempt_predict(obs_dict)\n",
    "\n",
    "if check:\n",
    "    print(\"passed\")\n",
    "    display(response)\n",
    "else: \n",
    "    display(response)"
   ]
  },
  {
   "cell_type": "code",
   "execution_count": 8,
   "metadata": {},
   "outputs": [
    {
     "data": {
      "text/plain": [
       "{'error': \"Missing columns: {'Gender', 'Longitude'}\"}"
      ]
     },
     "metadata": {},
     "output_type": "display_data"
    }
   ],
   "source": [
    "# example with missing columns\n",
    "\n",
    "obs_dict = {'observation_id': \"b7287b3c-fb25-42a5-afa3-e8320817eb6f\",\n",
    "    'Type': 'Person search',\n",
    "    'Date': '2021-07-30T16:00:00+00:00',\n",
    "    'Part of a policing operation': False,\n",
    "    'Latitude': 53.797198,\n",
    "    'Age range': '25-34',\n",
    "    'Officer-defined ethnicity': 'Asian',\n",
    "    'Legislation': 'Misuse of Drugs Act 1971 (section 23)',\n",
    "    'Object of search': 'Controlled drugs',\n",
    "    'station': 'west-yorkshire'}\n",
    "\n",
    "response, check = attempt_predict(obs_dict)\n",
    "\n",
    "if check:\n",
    "    print(\"passed\")\n",
    "    display(response)\n",
    "else: \n",
    "    display(response)"
   ]
  },
  {
   "cell_type": "code",
   "execution_count": 9,
   "metadata": {},
   "outputs": [
    {
     "data": {
      "text/plain": [
       "{'error': \"Invalid value provided for Type: Alien Invaders. Allowed values are: 'Person search','Person and Vehicle search','Vehicle search'\"}"
      ]
     },
     "metadata": {},
     "output_type": "display_data"
    }
   ],
   "source": [
    "# Example with weird Type category\n",
    "\n",
    "obs_dict = {'observation_id': \"b7287b3c-fb25-42a5-afa3-e8320817eb6f\",\n",
    "    'Type': 'Alien Invaders',\n",
    "    'Date': '2021-07-30T16:00:00+00:00',\n",
    "    'Part of a policing operation': False,\n",
    "    'Latitude': 53.797198,\n",
    "    'Longitude': -1.789092,\n",
    "    'Gender': 'Male',\n",
    "    'Age range': '25-34',\n",
    "    'Officer-defined ethnicity': 'Asian',\n",
    "    'Legislation': 'Misuse of Drugs Act 1971 (section 23)',\n",
    "    'Object of search': 'Controlled drugs',\n",
    "    'station': 'west-yorkshire'}\n",
    "\n",
    "response, check = attempt_predict(obs_dict)\n",
    "\n",
    "if check:\n",
    "    print(\"passed\")\n",
    "    display(response)\n",
    "else: \n",
    "    display(response)\n"
   ]
  },
  {
   "cell_type": "code",
   "execution_count": 10,
   "metadata": {},
   "outputs": [
    {
     "data": {
      "text/plain": [
       "{'error': \"Invalid value provided for Gender: Whatever. Allowed values are: 'Female','Male','Other'\"}"
      ]
     },
     "metadata": {},
     "output_type": "display_data"
    }
   ],
   "source": [
    "# Example with weird Gender category\n",
    "\n",
    "obs_dict = {'observation_id': \"b7287b3c-fb25-42a5-afa3-e8320817eb6f\",\n",
    "    'Type': 'Person search',\n",
    "    'Date': '2021-07-30T16:00:00+00:00',\n",
    "    'Part of a policing operation': False,\n",
    "    'Latitude': 53.797198,\n",
    "    'Longitude': -1.789092,\n",
    "    'Gender': 'Whatever',\n",
    "    'Age range': '25-34',\n",
    "    'Officer-defined ethnicity': 'Asian',\n",
    "    'Legislation': 'Misuse of Drugs Act 1971 (section 23)',\n",
    "    'Object of search': 'Controlled drugs',\n",
    "    'station': 'west-yorkshire'}\n",
    "\n",
    "response, check = attempt_predict(obs_dict)\n",
    "\n",
    "if check:\n",
    "    print(\"passed\")\n",
    "    display(response)\n",
    "else: \n",
    "    display(response)\n"
   ]
  },
  {
   "cell_type": "code",
   "execution_count": 11,
   "metadata": {},
   "outputs": [
    {
     "data": {
      "text/plain": [
       "{'error': \"Invalid value provided for Age range: 10000000000000>. Allowed values are: 'under 10','10-17','18-24','25-34','over 34'\"}"
      ]
     },
     "metadata": {},
     "output_type": "display_data"
    }
   ],
   "source": [
    "# Example with weird Age range category\n",
    "\n",
    "obs_dict = {'observation_id': \"b7287b3c-fb25-42a5-afa3-e8320817eb6f\",\n",
    "    'Type': 'Person search',\n",
    "    'Date': '2021-07-30T16:00:00+00:00',\n",
    "    'Part of a policing operation': False,\n",
    "    'Latitude': 53.797198,\n",
    "    'Longitude': -1.789092,\n",
    "    'Gender': 'Male',\n",
    "    'Age range': '10000000000000>',\n",
    "    'Officer-defined ethnicity': 'Asian',\n",
    "    'Legislation': 'Misuse of Drugs Act 1971 (section 23)',\n",
    "    'Object of search': 'Controlled drugs',\n",
    "    'station': 'west-yorkshire'}\n",
    "\n",
    "response, check = attempt_predict(obs_dict)\n",
    "\n",
    "if check:\n",
    "    print(\"passed\")\n",
    "    display(response)\n",
    "else: \n",
    "    display(response)"
   ]
  },
  {
   "cell_type": "code",
   "execution_count": 12,
   "metadata": {},
   "outputs": [
    {
     "data": {
      "text/plain": [
       "{'error': \"Invalid value provided for Officer-defined ethnicity: Extra-terrestrial. Allowed values are: 'Asian','Black','Mixed','White','Other'\"}"
      ]
     },
     "metadata": {},
     "output_type": "display_data"
    }
   ],
   "source": [
    "# Example with weird Officer-defined ethnicity category\n",
    "\n",
    "obs_dict = {'observation_id': \"b7287b3c-fb25-42a5-afa3-e8320817eb6f\",\n",
    "    'Type': 'Person search',\n",
    "    'Date': '2021-07-30T16:00:00+00:00',\n",
    "    'Part of a policing operation': False,\n",
    "    'Latitude': 53.797198,\n",
    "    'Longitude': -1.789092,\n",
    "    'Gender': 'Male',\n",
    "    'Age range': '25-34',\n",
    "    'Officer-defined ethnicity': 'Extra-terrestrial',\n",
    "    'Legislation': 'Misuse of Drugs Act 1971 (section 23)',\n",
    "    'Object of search': 'Controlled drugs',\n",
    "    'station': 'west-yorkshire'}\n",
    "\n",
    "response, check = attempt_predict(obs_dict)\n",
    "\n",
    "if check:\n",
    "    print(\"passed\")\n",
    "    display(response)\n",
    "else: \n",
    "    display(response)\n"
   ]
  },
  {
   "cell_type": "code",
   "execution_count": 13,
   "metadata": {},
   "outputs": [
    {
     "data": {
      "text/plain": [
       "{'Date': 'yes', 'error': 'Date format is incorrect'}"
      ]
     },
     "metadata": {},
     "output_type": "display_data"
    }
   ],
   "source": [
    "# Example with weird date\n",
    "\n",
    "obs_dict = {'observation_id': \"b7287b3c-fb25-42a5-afa3-e8320817eb6f\",\n",
    "    'Type': 'Person search',\n",
    "    'Date': 'yes',\n",
    "    'Part of a policing operation': False,\n",
    "    'Latitude': 53.797198,\n",
    "    'Longitude': -1.789092,\n",
    "    'Gender': 'Male',\n",
    "    'Age range': '25-34',\n",
    "    'Officer-defined ethnicity': 'Black',\n",
    "    'Legislation': 'Misuse of Drugs Act 1971 (section 23)',\n",
    "    'Object of search': 'Controlled drugs',\n",
    "    'station': 'west-yorkshire'}\n",
    "\n",
    "response, check = attempt_predict(obs_dict)\n",
    "\n",
    "if check:\n",
    "    print(\"passed\")\n",
    "    display(response)\n",
    "else: \n",
    "    display(response)"
   ]
  },
  {
   "cell_type": "code",
   "execution_count": 14,
   "metadata": {},
   "outputs": [
    {
     "data": {
      "text/plain": [
       "{'Date': '2019-07-30T16:00:00+00:00', 'error': 'Provided date is before 2020'}"
      ]
     },
     "metadata": {},
     "output_type": "display_data"
    }
   ],
   "source": [
    "# Example with date before 2020 ethnicity category\n",
    "\n",
    "obs_dict = {'observation_id': \"b7287b3c-fb25-42a5-afa3-e8320817eb6f\",\n",
    "    'Type': 'Person search',\n",
    "    'Date': '2019-07-30T16:00:00+00:00',\n",
    "    'Part of a policing operation': False,\n",
    "    'Latitude': 53.797198,\n",
    "    'Longitude': -1.789092,\n",
    "    'Gender': 'Male',\n",
    "    'Age range': '25-34',\n",
    "    'Officer-defined ethnicity': 'Black',\n",
    "    'Legislation': 'Misuse of Drugs Act 1971 (section 23)',\n",
    "    'Object of search': 'Controlled drugs',\n",
    "    'station': 'west-yorkshire'}\n",
    "\n",
    "response, check = attempt_predict(obs_dict)\n",
    "\n",
    "if check:\n",
    "    print(\"passed\")\n",
    "    display(response)\n",
    "else: \n",
    "    display(response)"
   ]
  },
  {
   "attachments": {},
   "cell_type": "markdown",
   "metadata": {},
   "source": [
    "# Check if App is LIVE"
   ]
  },
  {
   "cell_type": "code",
   "execution_count": null,
   "metadata": {},
   "outputs": [],
   "source": [
    "APP_NAME = 'ldsacapstone-production.up.railway.app'\n",
    "\n",
    "# check predict module\n",
    "\n",
    "url = f\"https://{APP_NAME}/should_search\"\n",
    "payload = {  \n",
    "        'observation_id': 'teste1-teste2-teste3-teste4-teste5',\n",
    "        'Type': 'Person search',\n",
    "        'Date': '2020-12-01 01:10:00+0000',\n",
    "        'Part of a policing operation': False,\n",
    "        'Latitude': 50.798824,\n",
    "        'Longitude': -1.089471,\n",
    "        'Gender': 'Male',\n",
    "        'Age range': '25-34',\n",
    "        'Officer-defined ethnicity': 'White',\n",
    "        'Legislation': 'Police and Criminal Evidence Act 1984 (section 1)',\n",
    "        'Object of search': 'Article for use in theft',\n",
    "        'station': 'hampshire'\n",
    "    }\n",
    "\n",
    "r = requests.post(url, json=payload)\n",
    "display(r)\n",
    "display(r.content)\n",
    "\n",
    "# check update module\n",
    "\n",
    "url = f\"https://{APP_NAME}/search_result\"\n",
    "payload = {\n",
    "    \"observation_id\": 'teste1-teste2-teste3-teste4-teste5',\n",
    "    \"outcome\": str(False)\n",
    "}\n",
    "\n",
    "r = requests.post(url, json=payload)\n",
    "display(r)\n",
    "display(r.content)"
   ]
  },
  {
   "attachments": {},
   "cell_type": "markdown",
   "metadata": {},
   "source": [
    "# Run through test data set"
   ]
  },
  {
   "cell_type": "code",
   "execution_count": 15,
   "metadata": {},
   "outputs": [
    {
     "data": {
      "text/plain": [
       "{'Part of a policing operation': <NA>,\n",
       " 'error': 'Provided \"Part of a policing operation\" field is not of the correct data type'}"
      ]
     },
     "metadata": {},
     "output_type": "display_data"
    },
    {
     "name": "stdout",
     "output_type": "stream",
     "text": [
      "passed\n"
     ]
    },
    {
     "data": {
      "text/plain": [
       "{'observation_id': '83db8b1c-abd3-454d-aef9-b0400f05f8ce',\n",
       " 'Type': 'Person search',\n",
       " 'Date': '2020-04-08T19:58:00+00:00',\n",
       " 'Part of a policing operation': False,\n",
       " 'Latitude': nan,\n",
       " 'Longitude': nan,\n",
       " 'Gender': 'Male',\n",
       " 'Age range': '18-24',\n",
       " 'Officer-defined ethnicity': 'White',\n",
       " 'Legislation': 'Misuse of Drugs Act 1971 (section 23)',\n",
       " 'Object of search': 'Controlled drugs',\n",
       " 'station': 'south-yorkshire'}"
      ]
     },
     "metadata": {},
     "output_type": "display_data"
    },
    {
     "name": "stdout",
     "output_type": "stream",
     "text": [
      "passed\n"
     ]
    },
    {
     "data": {
      "text/plain": [
       "{'observation_id': '6d0fbe35-c537-40be-9db2-e44060dbe6c8',\n",
       " 'Type': 'Person search',\n",
       " 'Date': '2021-03-28T07:00:00+00:00',\n",
       " 'Part of a policing operation': False,\n",
       " 'Latitude': nan,\n",
       " 'Longitude': nan,\n",
       " 'Gender': 'Male',\n",
       " 'Age range': '18-24',\n",
       " 'Officer-defined ethnicity': 'Asian',\n",
       " 'Legislation': 'Misuse of Drugs Act 1971 (section 23)',\n",
       " 'Object of search': 'Controlled drugs',\n",
       " 'station': 'south-yorkshire'}"
      ]
     },
     "metadata": {},
     "output_type": "display_data"
    },
    {
     "data": {
      "text/plain": [
       "{'Part of a policing operation': <NA>,\n",
       " 'error': 'Provided \"Part of a policing operation\" field is not of the correct data type'}"
      ]
     },
     "metadata": {},
     "output_type": "display_data"
    },
    {
     "name": "stdout",
     "output_type": "stream",
     "text": [
      "passed\n"
     ]
    },
    {
     "data": {
      "text/plain": [
       "{'observation_id': '0bb0a01d-8f0f-4413-bb7e-84a29d634c57',\n",
       " 'Type': 'Person and Vehicle search',\n",
       " 'Date': '2020-10-08T19:40:00+00:00',\n",
       " 'Part of a policing operation': False,\n",
       " 'Latitude': 51.706051,\n",
       " 'Longitude': -0.360699,\n",
       " 'Gender': 'Female',\n",
       " 'Age range': '10-17',\n",
       " 'Officer-defined ethnicity': 'White',\n",
       " 'Legislation': 'Misuse of Drugs Act 1971 (section 23)',\n",
       " 'Object of search': 'Controlled drugs',\n",
       " 'station': 'hertfordshire'}"
      ]
     },
     "metadata": {},
     "output_type": "display_data"
    },
    {
     "name": "stdout",
     "output_type": "stream",
     "text": [
      "passed\n"
     ]
    },
    {
     "data": {
      "text/plain": [
       "{'observation_id': 'e11fc10d-fb50-4107-a03b-9efbba9cea20',\n",
       " 'Type': 'Person search',\n",
       " 'Date': '2020-05-10T18:45:00+00:00',\n",
       " 'Part of a policing operation': False,\n",
       " 'Latitude': nan,\n",
       " 'Longitude': nan,\n",
       " 'Gender': 'Male',\n",
       " 'Age range': '10-17',\n",
       " 'Officer-defined ethnicity': 'White',\n",
       " 'Legislation': 'Misuse of Drugs Act 1971 (section 23)',\n",
       " 'Object of search': 'Controlled drugs',\n",
       " 'station': 'south-yorkshire'}"
      ]
     },
     "metadata": {},
     "output_type": "display_data"
    },
    {
     "data": {
      "text/plain": [
       "{'Part of a policing operation': <NA>,\n",
       " 'error': 'Provided \"Part of a policing operation\" field is not of the correct data type'}"
      ]
     },
     "metadata": {},
     "output_type": "display_data"
    },
    {
     "ename": "KeyboardInterrupt",
     "evalue": "",
     "output_type": "error",
     "traceback": [
      "\u001b[0;31m---------------------------------------------------------------------------\u001b[0m",
      "\u001b[0;31mKeyboardInterrupt\u001b[0m                         Traceback (most recent call last)",
      "\u001b[1;32m/Users/joaosa/projects/ldsa_capstone/3 Protect App.ipynb Cell 21\u001b[0m in \u001b[0;36m<cell line: 5>\u001b[0;34m()\u001b[0m\n\u001b[1;32m     <a href='vscode-notebook-cell:/Users/joaosa/projects/ldsa_capstone/3%20Protect%20App.ipynb#X26sZmlsZQ%3D%3D?line=13'>14</a>\u001b[0m \u001b[39melse\u001b[39;00m: \n\u001b[1;32m     <a href='vscode-notebook-cell:/Users/joaosa/projects/ldsa_capstone/3%20Protect%20App.ipynb#X26sZmlsZQ%3D%3D?line=14'>15</a>\u001b[0m     display(response)\n\u001b[0;32m---> <a href='vscode-notebook-cell:/Users/joaosa/projects/ldsa_capstone/3%20Protect%20App.ipynb#X26sZmlsZQ%3D%3D?line=16'>17</a>\u001b[0m sleep(\u001b[39m0.5\u001b[39;49m)\n",
      "\u001b[0;31mKeyboardInterrupt\u001b[0m: "
     ]
    }
   ],
   "source": [
    "# reshuffle available test set\n",
    "r = list(range(len(X_test)))\n",
    "random.shuffle(r)\n",
    "\n",
    "for i in r:\n",
    "    \n",
    "    obs_dict = X_test.iloc[i, :].to_dict()\n",
    "\n",
    "    response, check = attempt_predict(obs_dict)\n",
    "\n",
    "    if check:\n",
    "        print(\"passed\")\n",
    "        display(response)\n",
    "    else: \n",
    "        display(response)\n",
    "    \n",
    "    sleep(0.5)"
   ]
  },
  {
   "cell_type": "code",
   "execution_count": null,
   "metadata": {},
   "outputs": [],
   "source": [
    "r = list(range(len(X_test)))\n",
    "test_list = random.shuffle(r)\n",
    "\n",
    "url = f\"http://{APP_NAME}/should_search\"\n",
    "payload = {  \n",
    "        'observation_id': '2e4d0094-c30b-471b-a211-72a9790feca2',\n",
    "        'Type': 'Person search',\n",
    "        'Date': '2020-12-01 01:10:00+0000',\n",
    "        'Part of a policing operation': False,\n",
    "        'Latitude': 50.798824,\n",
    "        'Longitude': -1.089471,\n",
    "        'Gender': 'Male',\n",
    "        'Age range': '25-34',\n",
    "        'Officer-defined ethnicity': 'White',\n",
    "        'Legislation': 'Police and Criminal Evidence Act 1984 (section 1)',\n",
    "        'Object of search': 'Article for use in theft',\n",
    "        'station': 'hampshire'\n",
    "    }\n",
    "\n",
    "r = requests.post(url, json=payload)\n",
    "display(r)\n",
    "print(r.content)"
   ]
  },
  {
   "cell_type": "code",
   "execution_count": 16,
   "metadata": {},
   "outputs": [],
   "source": [
    "# TEST LOCALLY\n",
    "#APP_NAME = 'localhost:5000' \n",
    "\n",
    "# TEST REMOTE\n",
    "APP_NAME = 'ldsacapstone-production.up.railway.app' \n"
   ]
  },
  {
   "cell_type": "code",
   "execution_count": 20,
   "metadata": {},
   "outputs": [
    {
     "data": {
      "text/plain": [
       "<Response [200]>"
      ]
     },
     "metadata": {},
     "output_type": "display_data"
    },
    {
     "name": "stdout",
     "output_type": "stream",
     "text": [
      "b'{\\n  \"error\": \"Invalid value provided for Officer-defined ethnicity: Extra-terrestrial. Allowed values are: \\'Asian\\',\\'Black\\',\\'Mixed\\',\\'White\\',\\'Other\\'\"\\n}\\n'\n"
     ]
    }
   ],
   "source": [
    "url = f\"https://{APP_NAME}/should_search\"\n",
    "payload = {'observation_id': \"b7287b3c-fb25-42a5-afa3-e8320817eb6f\",\n",
    "    'Type': 'Person search',\n",
    "    'Date': '2021-07-30T16:00:00+00:00',\n",
    "    'Part of a policing operation': False,\n",
    "    'Latitude': 53.797198,\n",
    "    'Longitude': -1.789092,\n",
    "    'Gender': 'Male',\n",
    "    'Age range': '25-34',\n",
    "    'Officer-defined ethnicity': 'Extra-terrestrial',\n",
    "    'Legislation': 'Misuse of Drugs Act 1971 (section 23)',\n",
    "    'Object of search': 'Controlled drugs',\n",
    "    'station': 'west-yorkshire'}\n",
    "\n",
    "\n",
    "r = requests.post(url, json=payload)\n",
    "display(r)\n",
    "print(r.content)"
   ]
  }
 ],
 "metadata": {
  "kernelspec": {
   "display_name": "cap_prod",
   "language": "python",
   "name": "python3"
  },
  "language_info": {
   "codemirror_mode": {
    "name": "ipython",
    "version": 3
   },
   "file_extension": ".py",
   "mimetype": "text/x-python",
   "name": "python",
   "nbconvert_exporter": "python",
   "pygments_lexer": "ipython3",
   "version": "3.8.14"
  },
  "orig_nbformat": 4
 },
 "nbformat": 4,
 "nbformat_minor": 2
}
