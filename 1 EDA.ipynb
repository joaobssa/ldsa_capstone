{
 "cells": [
  {
   "attachments": {},
   "cell_type": "markdown",
   "metadata": {},
   "source": [
    "# Step 1: EDA"
   ]
  },
  {
   "cell_type": "code",
   "execution_count": 5,
   "metadata": {},
   "outputs": [],
   "source": [
    "import pandas as pd\n",
    "pd.set_option('display.max_columns', 100)\n",
    "import os\n",
    "import matplotlib.pyplot as plt\n",
    "import seaborn as sns\n",
    "import numpy as np\n",
    "\n",
    "# needed to use matplotlib inside jupyter notebook\n",
    "%matplotlib inline "
   ]
  },
  {
   "cell_type": "code",
   "execution_count": 6,
   "metadata": {},
   "outputs": [
    {
     "data": {
      "text/html": [
       "<div>\n",
       "<style scoped>\n",
       "    .dataframe tbody tr th:only-of-type {\n",
       "        vertical-align: middle;\n",
       "    }\n",
       "\n",
       "    .dataframe tbody tr th {\n",
       "        vertical-align: top;\n",
       "    }\n",
       "\n",
       "    .dataframe thead th {\n",
       "        text-align: right;\n",
       "    }\n",
       "</style>\n",
       "<table border=\"1\" class=\"dataframe\">\n",
       "  <thead>\n",
       "    <tr style=\"text-align: right;\">\n",
       "      <th></th>\n",
       "      <th>observation_id</th>\n",
       "      <th>Type</th>\n",
       "      <th>Date</th>\n",
       "      <th>Part of a policing operation</th>\n",
       "      <th>Latitude</th>\n",
       "      <th>Longitude</th>\n",
       "      <th>Gender</th>\n",
       "      <th>Age range</th>\n",
       "      <th>Self-defined ethnicity</th>\n",
       "      <th>Officer-defined ethnicity</th>\n",
       "      <th>Legislation</th>\n",
       "      <th>Object of search</th>\n",
       "      <th>Outcome</th>\n",
       "      <th>Outcome linked to object of search</th>\n",
       "      <th>Removal of more than just outer clothing</th>\n",
       "      <th>station</th>\n",
       "    </tr>\n",
       "  </thead>\n",
       "  <tbody>\n",
       "    <tr>\n",
       "      <th>0</th>\n",
       "      <td>2e4d0094-c30b-471b-a211-72a9790feca2</td>\n",
       "      <td>Person search</td>\n",
       "      <td>2020-12-01T01:10:00+00:00</td>\n",
       "      <td>NaN</td>\n",
       "      <td>50.798824</td>\n",
       "      <td>-1.089471</td>\n",
       "      <td>Male</td>\n",
       "      <td>25-34</td>\n",
       "      <td>Other ethnic group - Not stated</td>\n",
       "      <td>White</td>\n",
       "      <td>Police and Criminal Evidence Act 1984 (section 1)</td>\n",
       "      <td>Article for use in theft</td>\n",
       "      <td>Community resolution</td>\n",
       "      <td>False</td>\n",
       "      <td>False</td>\n",
       "      <td>hampshire</td>\n",
       "    </tr>\n",
       "    <tr>\n",
       "      <th>1</th>\n",
       "      <td>4779fbe8-6e05-4534-85fd-db32952ee309</td>\n",
       "      <td>Person search</td>\n",
       "      <td>2020-12-01T02:00:00+00:00</td>\n",
       "      <td>NaN</td>\n",
       "      <td>50.785099</td>\n",
       "      <td>-1.091540</td>\n",
       "      <td>Male</td>\n",
       "      <td>over 34</td>\n",
       "      <td>White - Any other White background</td>\n",
       "      <td>Other</td>\n",
       "      <td>Misuse of Drugs Act 1971 (section 23)</td>\n",
       "      <td>Controlled drugs</td>\n",
       "      <td>A no further action disposal</td>\n",
       "      <td>False</td>\n",
       "      <td>False</td>\n",
       "      <td>hampshire</td>\n",
       "    </tr>\n",
       "    <tr>\n",
       "      <th>2</th>\n",
       "      <td>cb5c685d-acac-42e2-914d-75e6ff73b0a8</td>\n",
       "      <td>Person search</td>\n",
       "      <td>2020-12-01T09:15:00+00:00</td>\n",
       "      <td>NaN</td>\n",
       "      <td>50.952006</td>\n",
       "      <td>-1.403341</td>\n",
       "      <td>Male</td>\n",
       "      <td>over 34</td>\n",
       "      <td>White - English/Welsh/Scottish/Northern Irish/...</td>\n",
       "      <td>White</td>\n",
       "      <td>Misuse of Drugs Act 1971 (section 23)</td>\n",
       "      <td>Controlled drugs</td>\n",
       "      <td>A no further action disposal</td>\n",
       "      <td>False</td>\n",
       "      <td>True</td>\n",
       "      <td>hampshire</td>\n",
       "    </tr>\n",
       "    <tr>\n",
       "      <th>3</th>\n",
       "      <td>f486e116-5b1e-45db-9931-a7f070c5c478</td>\n",
       "      <td>Person search</td>\n",
       "      <td>2020-12-01T10:20:00+00:00</td>\n",
       "      <td>NaN</td>\n",
       "      <td>50.806383</td>\n",
       "      <td>-1.079844</td>\n",
       "      <td>Male</td>\n",
       "      <td>10-17</td>\n",
       "      <td>Other ethnic group - Not stated</td>\n",
       "      <td>White</td>\n",
       "      <td>Police and Criminal Evidence Act 1984 (section 1)</td>\n",
       "      <td>Stolen goods</td>\n",
       "      <td>A no further action disposal</td>\n",
       "      <td>False</td>\n",
       "      <td>False</td>\n",
       "      <td>hampshire</td>\n",
       "    </tr>\n",
       "    <tr>\n",
       "      <th>4</th>\n",
       "      <td>78f4020e-12cc-4889-bf1a-2f2c29b2f662</td>\n",
       "      <td>Person search</td>\n",
       "      <td>2020-12-01T10:24:00+00:00</td>\n",
       "      <td>NaN</td>\n",
       "      <td>50.806670</td>\n",
       "      <td>-1.081982</td>\n",
       "      <td>Male</td>\n",
       "      <td>10-17</td>\n",
       "      <td>Other ethnic group - Not stated</td>\n",
       "      <td>Asian</td>\n",
       "      <td>Police and Criminal Evidence Act 1984 (section 1)</td>\n",
       "      <td>Offensive weapons</td>\n",
       "      <td>A no further action disposal</td>\n",
       "      <td>False</td>\n",
       "      <td>False</td>\n",
       "      <td>hampshire</td>\n",
       "    </tr>\n",
       "    <tr>\n",
       "      <th>5</th>\n",
       "      <td>769ac39b-cfe7-4587-855f-b574cdd46933</td>\n",
       "      <td>Person search</td>\n",
       "      <td>2020-12-01T10:30:00+00:00</td>\n",
       "      <td>NaN</td>\n",
       "      <td>50.808359</td>\n",
       "      <td>-1.079465</td>\n",
       "      <td>Male</td>\n",
       "      <td>18-24</td>\n",
       "      <td>Mixed/Multiple ethnic groups - White and Black...</td>\n",
       "      <td>Black</td>\n",
       "      <td>Police and Criminal Evidence Act 1984 (section 1)</td>\n",
       "      <td>Offensive weapons</td>\n",
       "      <td>Arrest</td>\n",
       "      <td>False</td>\n",
       "      <td>False</td>\n",
       "      <td>hampshire</td>\n",
       "    </tr>\n",
       "    <tr>\n",
       "      <th>6</th>\n",
       "      <td>2f3c1b3b-b41a-4b12-b1ab-3c34f93cd20a</td>\n",
       "      <td>Person search</td>\n",
       "      <td>2020-12-01T10:50:00+00:00</td>\n",
       "      <td>NaN</td>\n",
       "      <td>50.914047</td>\n",
       "      <td>-1.401123</td>\n",
       "      <td>Male</td>\n",
       "      <td>over 34</td>\n",
       "      <td>Black/African/Caribbean/Black British - Any ot...</td>\n",
       "      <td>Black</td>\n",
       "      <td>Misuse of Drugs Act 1971 (section 23)</td>\n",
       "      <td>Controlled drugs</td>\n",
       "      <td>A no further action disposal</td>\n",
       "      <td>False</td>\n",
       "      <td>True</td>\n",
       "      <td>hampshire</td>\n",
       "    </tr>\n",
       "    <tr>\n",
       "      <th>7</th>\n",
       "      <td>b3f957b8-b942-4789-b47c-aa1a6dfcabe7</td>\n",
       "      <td>Person search</td>\n",
       "      <td>2020-12-01T11:00:00+00:00</td>\n",
       "      <td>NaN</td>\n",
       "      <td>50.915304</td>\n",
       "      <td>-1.398959</td>\n",
       "      <td>Male</td>\n",
       "      <td>18-24</td>\n",
       "      <td>White - English/Welsh/Scottish/Northern Irish/...</td>\n",
       "      <td>White</td>\n",
       "      <td>Misuse of Drugs Act 1971 (section 23)</td>\n",
       "      <td>Controlled drugs</td>\n",
       "      <td>A no further action disposal</td>\n",
       "      <td>False</td>\n",
       "      <td>False</td>\n",
       "      <td>hampshire</td>\n",
       "    </tr>\n",
       "    <tr>\n",
       "      <th>8</th>\n",
       "      <td>79807773-d027-4cdf-ad41-531b3bb2cbab</td>\n",
       "      <td>Person search</td>\n",
       "      <td>2020-12-01T11:10:00+00:00</td>\n",
       "      <td>NaN</td>\n",
       "      <td>50.830251</td>\n",
       "      <td>-1.077629</td>\n",
       "      <td>Male</td>\n",
       "      <td>18-24</td>\n",
       "      <td>Black/African/Caribbean/Black British - Caribbean</td>\n",
       "      <td>Black</td>\n",
       "      <td>Misuse of Drugs Act 1971 (section 23)</td>\n",
       "      <td>Controlled drugs</td>\n",
       "      <td>Community resolution</td>\n",
       "      <td>False</td>\n",
       "      <td>False</td>\n",
       "      <td>hampshire</td>\n",
       "    </tr>\n",
       "    <tr>\n",
       "      <th>9</th>\n",
       "      <td>fa5f250a-08f0-411d-85ff-eeaab9659cb5</td>\n",
       "      <td>Person search</td>\n",
       "      <td>2020-12-01T11:10:00+00:00</td>\n",
       "      <td>NaN</td>\n",
       "      <td>50.830251</td>\n",
       "      <td>-1.077629</td>\n",
       "      <td>Male</td>\n",
       "      <td>10-17</td>\n",
       "      <td>White - English/Welsh/Scottish/Northern Irish/...</td>\n",
       "      <td>White</td>\n",
       "      <td>Misuse of Drugs Act 1971 (section 23)</td>\n",
       "      <td>Controlled drugs</td>\n",
       "      <td>A no further action disposal</td>\n",
       "      <td>False</td>\n",
       "      <td>False</td>\n",
       "      <td>hampshire</td>\n",
       "    </tr>\n",
       "  </tbody>\n",
       "</table>\n",
       "</div>"
      ],
      "text/plain": [
       "                         observation_id           Type  \\\n",
       "0  2e4d0094-c30b-471b-a211-72a9790feca2  Person search   \n",
       "1  4779fbe8-6e05-4534-85fd-db32952ee309  Person search   \n",
       "2  cb5c685d-acac-42e2-914d-75e6ff73b0a8  Person search   \n",
       "3  f486e116-5b1e-45db-9931-a7f070c5c478  Person search   \n",
       "4  78f4020e-12cc-4889-bf1a-2f2c29b2f662  Person search   \n",
       "5  769ac39b-cfe7-4587-855f-b574cdd46933  Person search   \n",
       "6  2f3c1b3b-b41a-4b12-b1ab-3c34f93cd20a  Person search   \n",
       "7  b3f957b8-b942-4789-b47c-aa1a6dfcabe7  Person search   \n",
       "8  79807773-d027-4cdf-ad41-531b3bb2cbab  Person search   \n",
       "9  fa5f250a-08f0-411d-85ff-eeaab9659cb5  Person search   \n",
       "\n",
       "                        Date Part of a policing operation   Latitude  \\\n",
       "0  2020-12-01T01:10:00+00:00                          NaN  50.798824   \n",
       "1  2020-12-01T02:00:00+00:00                          NaN  50.785099   \n",
       "2  2020-12-01T09:15:00+00:00                          NaN  50.952006   \n",
       "3  2020-12-01T10:20:00+00:00                          NaN  50.806383   \n",
       "4  2020-12-01T10:24:00+00:00                          NaN  50.806670   \n",
       "5  2020-12-01T10:30:00+00:00                          NaN  50.808359   \n",
       "6  2020-12-01T10:50:00+00:00                          NaN  50.914047   \n",
       "7  2020-12-01T11:00:00+00:00                          NaN  50.915304   \n",
       "8  2020-12-01T11:10:00+00:00                          NaN  50.830251   \n",
       "9  2020-12-01T11:10:00+00:00                          NaN  50.830251   \n",
       "\n",
       "   Longitude Gender Age range  \\\n",
       "0  -1.089471   Male     25-34   \n",
       "1  -1.091540   Male   over 34   \n",
       "2  -1.403341   Male   over 34   \n",
       "3  -1.079844   Male     10-17   \n",
       "4  -1.081982   Male     10-17   \n",
       "5  -1.079465   Male     18-24   \n",
       "6  -1.401123   Male   over 34   \n",
       "7  -1.398959   Male     18-24   \n",
       "8  -1.077629   Male     18-24   \n",
       "9  -1.077629   Male     10-17   \n",
       "\n",
       "                              Self-defined ethnicity  \\\n",
       "0                    Other ethnic group - Not stated   \n",
       "1                 White - Any other White background   \n",
       "2  White - English/Welsh/Scottish/Northern Irish/...   \n",
       "3                    Other ethnic group - Not stated   \n",
       "4                    Other ethnic group - Not stated   \n",
       "5  Mixed/Multiple ethnic groups - White and Black...   \n",
       "6  Black/African/Caribbean/Black British - Any ot...   \n",
       "7  White - English/Welsh/Scottish/Northern Irish/...   \n",
       "8  Black/African/Caribbean/Black British - Caribbean   \n",
       "9  White - English/Welsh/Scottish/Northern Irish/...   \n",
       "\n",
       "  Officer-defined ethnicity  \\\n",
       "0                     White   \n",
       "1                     Other   \n",
       "2                     White   \n",
       "3                     White   \n",
       "4                     Asian   \n",
       "5                     Black   \n",
       "6                     Black   \n",
       "7                     White   \n",
       "8                     Black   \n",
       "9                     White   \n",
       "\n",
       "                                         Legislation  \\\n",
       "0  Police and Criminal Evidence Act 1984 (section 1)   \n",
       "1              Misuse of Drugs Act 1971 (section 23)   \n",
       "2              Misuse of Drugs Act 1971 (section 23)   \n",
       "3  Police and Criminal Evidence Act 1984 (section 1)   \n",
       "4  Police and Criminal Evidence Act 1984 (section 1)   \n",
       "5  Police and Criminal Evidence Act 1984 (section 1)   \n",
       "6              Misuse of Drugs Act 1971 (section 23)   \n",
       "7              Misuse of Drugs Act 1971 (section 23)   \n",
       "8              Misuse of Drugs Act 1971 (section 23)   \n",
       "9              Misuse of Drugs Act 1971 (section 23)   \n",
       "\n",
       "           Object of search                       Outcome  \\\n",
       "0  Article for use in theft          Community resolution   \n",
       "1          Controlled drugs  A no further action disposal   \n",
       "2          Controlled drugs  A no further action disposal   \n",
       "3              Stolen goods  A no further action disposal   \n",
       "4         Offensive weapons  A no further action disposal   \n",
       "5         Offensive weapons                        Arrest   \n",
       "6          Controlled drugs  A no further action disposal   \n",
       "7          Controlled drugs  A no further action disposal   \n",
       "8          Controlled drugs          Community resolution   \n",
       "9          Controlled drugs  A no further action disposal   \n",
       "\n",
       "  Outcome linked to object of search Removal of more than just outer clothing  \\\n",
       "0                              False                                    False   \n",
       "1                              False                                    False   \n",
       "2                              False                                     True   \n",
       "3                              False                                    False   \n",
       "4                              False                                    False   \n",
       "5                              False                                    False   \n",
       "6                              False                                     True   \n",
       "7                              False                                    False   \n",
       "8                              False                                    False   \n",
       "9                              False                                    False   \n",
       "\n",
       "     station  \n",
       "0  hampshire  \n",
       "1  hampshire  \n",
       "2  hampshire  \n",
       "3  hampshire  \n",
       "4  hampshire  \n",
       "5  hampshire  \n",
       "6  hampshire  \n",
       "7  hampshire  \n",
       "8  hampshire  \n",
       "9  hampshire  "
      ]
     },
     "execution_count": 6,
     "metadata": {},
     "output_type": "execute_result"
    }
   ],
   "source": [
    "df_ = pd.read_csv(\"data/train.csv\")\n",
    "df_.head(10)"
   ]
  },
  {
   "cell_type": "code",
   "execution_count": 11,
   "metadata": {},
   "outputs": [
    {
     "name": "stdout",
     "output_type": "stream",
     "text": [
      "The dataset has 856610 records.\n",
      "The dataset has 856610 unique observation_ids.\n"
     ]
    }
   ],
   "source": [
    "print(\"The dataset has \" + str(len(df_)) + \" records.\")\n",
    "print(\"The dataset has \" + str(df_[\"observation_id\"].nunique()) + \" unique observation_ids.\")"
   ]
  },
  {
   "cell_type": "code",
   "execution_count": 33,
   "metadata": {},
   "outputs": [
    {
     "data": {
      "text/plain": [
       "Text(0.5, 1.0, '# of Null Values')"
      ]
     },
     "execution_count": 33,
     "metadata": {},
     "output_type": "execute_result"
    },
    {
     "data": {
      "image/png": "[encoded data removed]",
      "text/plain": [
       "<Figure size 640x480 with 1 Axes>"
      ]
     },
     "metadata": {},
     "output_type": "display_data"
    }
   ],
   "source": [
    "df_.isna().sum().plot.barh()\n",
    "plt.title(\"# of Null Values\")"
   ]
  },
  {
   "cell_type": "code",
   "execution_count": 37,
   "metadata": {},
   "outputs": [
    {
     "name": "stdout",
     "output_type": "stream",
     "text": [
      "The list of unique values in Type is :['Person search', 'Person and Vehicle search', 'Vehicle search']\n"
     ]
    },
    {
     "data": {
      "text/plain": [
       "Person search                637921\n",
       "Person and Vehicle search    217570\n",
       "Vehicle search                 1119\n",
       "Name: Type, dtype: int64"
      ]
     },
     "execution_count": 37,
     "metadata": {},
     "output_type": "execute_result"
    }
   ],
   "source": [
    "print(\"The list of unique values in Type is :\" + str(list(df_[\"Type\"].unique())))\n",
    "df_[\"Type\"].value_counts(include_na)()"
   ]
  },
  {
   "cell_type": "code",
   "execution_count": 13,
   "metadata": {},
   "outputs": [
    {
     "data": {
      "text/plain": [
       "array([nan, False, True], dtype=object)"
      ]
     },
     "execution_count": 13,
     "metadata": {},
     "output_type": "execute_result"
    }
   ],
   "source": [
    "df_[\"Part of a policing operation\"].unique()"
   ]
  },
  {
   "cell_type": "code",
   "execution_count": 14,
   "metadata": {},
   "outputs": [
    {
     "data": {
      "text/plain": [
       "array(['Male', 'Female', 'Other'], dtype=object)"
      ]
     },
     "execution_count": 14,
     "metadata": {},
     "output_type": "execute_result"
    }
   ],
   "source": [
    "df_[\"Gender\"].unique()"
   ]
  },
  {
   "cell_type": "code",
   "execution_count": 18,
   "metadata": {},
   "outputs": [
    {
     "data": {
      "text/plain": [
       "array(['25-34', 'over 34', '10-17', '18-24', 'under 10'], dtype=object)"
      ]
     },
     "execution_count": 18,
     "metadata": {},
     "output_type": "execute_result"
    }
   ],
   "source": [
    "df_[\"Age range\"].unique()"
   ]
  },
  {
   "cell_type": "code",
   "execution_count": 19,
   "metadata": {},
   "outputs": [
    {
     "data": {
      "text/plain": [
       "array(['Other ethnic group - Not stated',\n",
       "       'White - Any other White background',\n",
       "       'White - English/Welsh/Scottish/Northern Irish/British',\n",
       "       'Mixed/Multiple ethnic groups - White and Black African',\n",
       "       'Black/African/Caribbean/Black British - Any other Black/African/Caribbean background',\n",
       "       'Black/African/Caribbean/Black British - Caribbean',\n",
       "       'Asian/Asian British - Any other Asian background',\n",
       "       'Asian/Asian British - Indian',\n",
       "       'Asian/Asian British - Bangladeshi',\n",
       "       'Black/African/Caribbean/Black British - African', 'White - Irish',\n",
       "       'Other ethnic group - Any other ethnic group',\n",
       "       'Mixed/Multiple ethnic groups - White and Asian',\n",
       "       'Asian/Asian British - Chinese',\n",
       "       'Mixed/Multiple ethnic groups - Any other Mixed/Multiple ethnic background',\n",
       "       'Mixed/Multiple ethnic groups - White and Black Caribbean',\n",
       "       'Asian/Asian British - Pakistani',\n",
       "       'White - Gypsy or Irish Traveller', nan,\n",
       "       'Other ethnic group - Arab'], dtype=object)"
      ]
     },
     "execution_count": 19,
     "metadata": {},
     "output_type": "execute_result"
    }
   ],
   "source": [
    "df_[\"Self-defined ethnicity\"].unique()"
   ]
  },
  {
   "cell_type": "code",
   "execution_count": 20,
   "metadata": {},
   "outputs": [
    {
     "data": {
      "text/plain": [
       "array(['White', 'Other', 'Asian', 'Black', 'Mixed'], dtype=object)"
      ]
     },
     "execution_count": 20,
     "metadata": {},
     "output_type": "execute_result"
    }
   ],
   "source": [
    "df_[\"Officer-defined ethnicity\"].unique()"
   ]
  },
  {
   "cell_type": "code",
   "execution_count": 21,
   "metadata": {},
   "outputs": [
    {
     "data": {
      "text/plain": [
       "array(['Police and Criminal Evidence Act 1984 (section 1)',\n",
       "       'Misuse of Drugs Act 1971 (section 23)',\n",
       "       'Firearms Act 1968 (section 47)',\n",
       "       'Poaching Prevention Act 1862 (section 2)',\n",
       "       'Psychoactive Substances Act 2016 (s36(2))',\n",
       "       'Criminal Justice and Public Order Act 1994 (section 60)',\n",
       "       'Criminal Justice Act 1988 (section 139B)', nan,\n",
       "       'Psychoactive Substances Act 2016 (s37(2))',\n",
       "       'Wildlife and Countryside Act 1981 (section 19)',\n",
       "       'Aviation Security Act 1982 (section 27(1))',\n",
       "       'Public Stores Act 1875 (section 6)',\n",
       "       'Hunting Act 2004 (section 8)',\n",
       "       'Environmental Protection Act 1990 (section 34B )',\n",
       "       'Customs and Excise Management Act 1979 (section 163)',\n",
       "       'Police and Criminal Evidence Act 1984 (section 6)',\n",
       "       'Conservation of Seals Act 1970 (section 4)',\n",
       "       'Crossbows Act 1987 (section 4)', 'Deer Act 1991 (section 12)',\n",
       "       'Protection of Badgers Act 1992 (section 11)'], dtype=object)"
      ]
     },
     "execution_count": 21,
     "metadata": {},
     "output_type": "execute_result"
    }
   ],
   "source": [
    "df_[\"Legislation\"].unique()"
   ]
  },
  {
   "cell_type": "code",
   "execution_count": 22,
   "metadata": {},
   "outputs": [
    {
     "data": {
      "text/plain": [
       "array(['Article for use in theft', 'Controlled drugs', 'Stolen goods',\n",
       "       'Offensive weapons', 'Anything to threaten or harm anyone',\n",
       "       'Articles for use in criminal damage', 'Firearms',\n",
       "       'Game or poaching equipment', 'Psychoactive substances',\n",
       "       'Fireworks', 'Evidence of offences under the Act',\n",
       "       'Goods on which duty has not been paid etc.',\n",
       "       'Detailed object of search unavailable', 'Crossbows',\n",
       "       'Evidence of wildlife offences',\n",
       "       'Evidence of hunting any wild mammal with a dog',\n",
       "       'Seals or hunting equipment'], dtype=object)"
      ]
     },
     "execution_count": 22,
     "metadata": {},
     "output_type": "execute_result"
    }
   ],
   "source": [
    "df_[\"Object of search\"].unique()"
   ]
  },
  {
   "cell_type": "code",
   "execution_count": 23,
   "metadata": {},
   "outputs": [
    {
     "data": {
      "text/plain": [
       "array(['Community resolution', 'A no further action disposal', 'Arrest',\n",
       "       'Summons / charged by post', 'Caution (simple or conditional)',\n",
       "       'Penalty Notice for Disorder', 'Khat or Cannabis warning'],\n",
       "      dtype=object)"
      ]
     },
     "execution_count": 23,
     "metadata": {},
     "output_type": "execute_result"
    }
   ],
   "source": [
    "df_[\"Outcome\"].unique()"
   ]
  },
  {
   "attachments": {},
   "cell_type": "markdown",
   "metadata": {},
   "source": [
    "## Notes on Outcomes\n",
    "- **Community resolution**: Community resolutions are frequently used by police to deal with low-level offending. If you accept a community resolution, you are not prosecuted and therefore not required to attend court. ([from this page](https://www.bindmans.com/knowledge-hub/blogs/what-are-community-resolutions/))\n",
    "- **A no further action disposal**\n",
    "- **Arrest**\n",
    "- **Summons / charged by post**\n",
    "- **Caution (simple or conditional)**: A police caution is a formal alternative to prosecution in minor cases, administered by the police in England and Wales. It is commonly used to resolve cases where full prosecution is not seen as the most appropriate solution.[1] Accepting a caution requires an admission of guilt. ([from wikipedia](https://en.wikipedia.org/wiki/Police_caution))\n",
    "- **Penalty Notice for Disorder**\n",
    "- **Khat or Cannabis warning**"
   ]
  },
  {
   "cell_type": "code",
   "execution_count": 24,
   "metadata": {},
   "outputs": [
    {
     "data": {
      "text/plain": [
       "array([False, True, nan], dtype=object)"
      ]
     },
     "execution_count": 24,
     "metadata": {},
     "output_type": "execute_result"
    }
   ],
   "source": [
    "df_[\"Outcome linked to object of search\"].unique()"
   ]
  },
  {
   "cell_type": "code",
   "execution_count": 25,
   "metadata": {},
   "outputs": [
    {
     "data": {
      "text/plain": [
       "array([False, True, nan], dtype=object)"
      ]
     },
     "execution_count": 25,
     "metadata": {},
     "output_type": "execute_result"
    }
   ],
   "source": [
    "df_[\"Removal of more than just outer clothing\"].unique()"
   ]
  },
  {
   "cell_type": "code",
   "execution_count": 26,
   "metadata": {},
   "outputs": [
    {
     "data": {
      "text/plain": [
       "array(['hampshire', 'sussex', 'south-yorkshire', 'staffordshire',\n",
       "       'bedfordshire', 'cumbria', 'nottinghamshire', 'warwickshire',\n",
       "       'devon-and-cornwall', 'leicestershire', 'durham', 'humberside',\n",
       "       'thames-valley', 'norfolk', 'lincolnshire', 'northamptonshire',\n",
       "       'kent', 'wiltshire', 'city-of-london', 'west-mercia', 'lancashire',\n",
       "       'cheshire', 'derbyshire', 'btp', 'surrey', 'hertfordshire',\n",
       "       'north-yorkshire', 'cambridgeshire', 'metropolitan', 'northumbria',\n",
       "       'west-yorkshire', 'north-wales', 'cleveland', 'gloucestershire',\n",
       "       'avon-and-somerset', 'dorset', 'suffolk', 'dyfed-powys',\n",
       "       'west-midlands', 'merseyside', 'essex'], dtype=object)"
      ]
     },
     "execution_count": 26,
     "metadata": {},
     "output_type": "execute_result"
    }
   ],
   "source": [
    "df_[\"station\"].unique()"
   ]
  },
  {
   "cell_type": "code",
   "execution_count": 17,
   "metadata": {},
   "outputs": [
    {
     "data": {
      "text/plain": [
       "Index(['observation_id', 'Type', 'Date', 'Part of a policing operation',\n",
       "       'Latitude', 'Longitude', 'Gender', 'Age range',\n",
       "       'Self-defined ethnicity', 'Officer-defined ethnicity', 'Legislation',\n",
       "       'Object of search', 'Outcome', 'Outcome linked to object of search',\n",
       "       'Removal of more than just outer clothing', 'station'],\n",
       "      dtype='object')"
      ]
     },
     "execution_count": 17,
     "metadata": {},
     "output_type": "execute_result"
    }
   ],
   "source": [
    "df_.columns"
   ]
  },
  {
   "cell_type": "code",
   "execution_count": null,
   "metadata": {},
   "outputs": [],
   "source": []
  }
 ],
 "metadata": {
  "kernelspec": {
   "display_name": ".venv",
   "language": "python",
   "name": "python3"
  },
  "language_info": {
   "codemirror_mode": {
    "name": "ipython",
    "version": 3
   },
   "file_extension": ".py",
   "mimetype": "text/x-python",
   "name": "python",
   "nbconvert_exporter": "python",
   "pygments_lexer": "ipython3",
   "version": "3.8.14"
  },
  "orig_nbformat": 4
 },
 "nbformat": 4,
 "nbformat_minor": 2
}
